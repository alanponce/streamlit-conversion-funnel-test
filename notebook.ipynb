{
 "cells": [
  {
   "cell_type": "code",
   "execution_count": 1,
   "metadata": {},
   "outputs": [],
   "source": [
    "import pandas as pd\n",
    "import datetime"
   ]
  },
  {
   "cell_type": "code",
   "execution_count": 2,
   "metadata": {},
   "outputs": [
    {
     "name": "stderr",
     "output_type": "stream",
     "text": [
      "C:\\Users\\PC\\AppData\\Local\\Temp\\ipykernel_12208\\1934055495.py:1: DtypeWarning: Columns (57) have mixed types. Specify dtype option on import or set low_memory=False.\n",
      "  df = pd.read_csv(\"data/merge_data.csv\")\n"
     ]
    }
   ],
   "source": [
    "df = pd.read_csv(\"data/merge_data.csv\")\n",
    "df[ 'EventDateTime_soft' ] = pd.to_datetime(df[ 'EventDateTime_soft'], format=\"%Y-%m-%dT%H:%M:%S%z\")\n",
    "df[ 'EventDateTime_soft' ] = df[\"EventDateTime_soft\"].dt.date\n"
   ]
  },
  {
   "cell_type": "code",
   "execution_count": 3,
   "metadata": {},
   "outputs": [
    {
     "data": {
      "text/html": [
       "<div>\n",
       "<style scoped>\n",
       "    .dataframe tbody tr th:only-of-type {\n",
       "        vertical-align: middle;\n",
       "    }\n",
       "\n",
       "    .dataframe tbody tr th {\n",
       "        vertical-align: top;\n",
       "    }\n",
       "\n",
       "    .dataframe thead th {\n",
       "        text-align: right;\n",
       "    }\n",
       "</style>\n",
       "<table border=\"1\" class=\"dataframe\">\n",
       "  <thead>\n",
       "    <tr style=\"text-align: right;\">\n",
       "      <th></th>\n",
       "      <th>UserId</th>\n",
       "      <th>EventType</th>\n",
       "      <th>EventType.1</th>\n",
       "      <th>EventDateTime</th>\n",
       "      <th>EventType_soft</th>\n",
       "      <th>EventType_soft.1</th>\n",
       "      <th>EventDateTime_soft</th>\n",
       "      <th>DateDifference_soft</th>\n",
       "      <th>FundingIn2weeks_soft</th>\n",
       "      <th>EventType_hot</th>\n",
       "      <th>...</th>\n",
       "      <th>EventDateTime_identityV</th>\n",
       "      <th>DateDifference_identityV</th>\n",
       "      <th>FundingIn2weeks_identityV</th>\n",
       "      <th>EventType_accountIF</th>\n",
       "      <th>EventDateTime_accountIF</th>\n",
       "      <th>DateDifference_accountIF</th>\n",
       "      <th>FundingIn2weeks_accountIF</th>\n",
       "      <th>Platform</th>\n",
       "      <th>User.M.Age.N</th>\n",
       "      <th>User.M.Income.N</th>\n",
       "    </tr>\n",
       "  </thead>\n",
       "  <tbody>\n",
       "    <tr>\n",
       "      <th>0</th>\n",
       "      <td>1112158</td>\n",
       "      <td>SOFT_LEAD</td>\n",
       "      <td>SOFT_LEAD</td>\n",
       "      <td>2023-01-01T00:32:48+0000</td>\n",
       "      <td>SOFT_LEAD</td>\n",
       "      <td>SOFT_LEAD</td>\n",
       "      <td>2023-01-01</td>\n",
       "      <td>0</td>\n",
       "      <td>1</td>\n",
       "      <td>NaN</td>\n",
       "      <td>...</td>\n",
       "      <td>NaN</td>\n",
       "      <td>NaN</td>\n",
       "      <td>0</td>\n",
       "      <td>NaN</td>\n",
       "      <td>NaN</td>\n",
       "      <td>NaN</td>\n",
       "      <td>0</td>\n",
       "      <td>NaN</td>\n",
       "      <td>NaN</td>\n",
       "      <td>NaN</td>\n",
       "    </tr>\n",
       "    <tr>\n",
       "      <th>1</th>\n",
       "      <td>1112159</td>\n",
       "      <td>SOFT_LEAD</td>\n",
       "      <td>SOFT_LEAD</td>\n",
       "      <td>2023-01-01T00:52:35+0000</td>\n",
       "      <td>SOFT_LEAD</td>\n",
       "      <td>SOFT_LEAD</td>\n",
       "      <td>2023-01-01</td>\n",
       "      <td>0</td>\n",
       "      <td>1</td>\n",
       "      <td>HOT_LEAD</td>\n",
       "      <td>...</td>\n",
       "      <td>2023-01-08 15:10:20.931000+00:00</td>\n",
       "      <td>7.0</td>\n",
       "      <td>1</td>\n",
       "      <td>NaN</td>\n",
       "      <td>NaN</td>\n",
       "      <td>NaN</td>\n",
       "      <td>0</td>\n",
       "      <td>NaN</td>\n",
       "      <td>27.0</td>\n",
       "      <td>12500.0</td>\n",
       "    </tr>\n",
       "    <tr>\n",
       "      <th>2</th>\n",
       "      <td>1112160</td>\n",
       "      <td>SOFT_LEAD</td>\n",
       "      <td>SOFT_LEAD</td>\n",
       "      <td>2023-01-01T01:07:16+0000</td>\n",
       "      <td>SOFT_LEAD</td>\n",
       "      <td>SOFT_LEAD</td>\n",
       "      <td>2023-01-01</td>\n",
       "      <td>0</td>\n",
       "      <td>1</td>\n",
       "      <td>HOT_LEAD</td>\n",
       "      <td>...</td>\n",
       "      <td>NaN</td>\n",
       "      <td>NaN</td>\n",
       "      <td>0</td>\n",
       "      <td>NaN</td>\n",
       "      <td>NaN</td>\n",
       "      <td>NaN</td>\n",
       "      <td>0</td>\n",
       "      <td>NaN</td>\n",
       "      <td>NaN</td>\n",
       "      <td>NaN</td>\n",
       "    </tr>\n",
       "    <tr>\n",
       "      <th>3</th>\n",
       "      <td>1112161</td>\n",
       "      <td>SOFT_LEAD</td>\n",
       "      <td>SOFT_LEAD</td>\n",
       "      <td>2023-01-01T01:19:29+0000</td>\n",
       "      <td>SOFT_LEAD</td>\n",
       "      <td>SOFT_LEAD</td>\n",
       "      <td>2023-01-01</td>\n",
       "      <td>0</td>\n",
       "      <td>1</td>\n",
       "      <td>HOT_LEAD</td>\n",
       "      <td>...</td>\n",
       "      <td>NaN</td>\n",
       "      <td>NaN</td>\n",
       "      <td>0</td>\n",
       "      <td>NaN</td>\n",
       "      <td>NaN</td>\n",
       "      <td>NaN</td>\n",
       "      <td>0</td>\n",
       "      <td>NaN</td>\n",
       "      <td>NaN</td>\n",
       "      <td>NaN</td>\n",
       "    </tr>\n",
       "    <tr>\n",
       "      <th>4</th>\n",
       "      <td>1112162</td>\n",
       "      <td>SOFT_LEAD</td>\n",
       "      <td>SOFT_LEAD</td>\n",
       "      <td>2023-01-01T01:19:39+0000</td>\n",
       "      <td>SOFT_LEAD</td>\n",
       "      <td>SOFT_LEAD</td>\n",
       "      <td>2023-01-01</td>\n",
       "      <td>0</td>\n",
       "      <td>1</td>\n",
       "      <td>HOT_LEAD</td>\n",
       "      <td>...</td>\n",
       "      <td>NaN</td>\n",
       "      <td>NaN</td>\n",
       "      <td>0</td>\n",
       "      <td>NaN</td>\n",
       "      <td>NaN</td>\n",
       "      <td>NaN</td>\n",
       "      <td>0</td>\n",
       "      <td>NaN</td>\n",
       "      <td>NaN</td>\n",
       "      <td>NaN</td>\n",
       "    </tr>\n",
       "    <tr>\n",
       "      <th>...</th>\n",
       "      <td>...</td>\n",
       "      <td>...</td>\n",
       "      <td>...</td>\n",
       "      <td>...</td>\n",
       "      <td>...</td>\n",
       "      <td>...</td>\n",
       "      <td>...</td>\n",
       "      <td>...</td>\n",
       "      <td>...</td>\n",
       "      <td>...</td>\n",
       "      <td>...</td>\n",
       "      <td>...</td>\n",
       "      <td>...</td>\n",
       "      <td>...</td>\n",
       "      <td>...</td>\n",
       "      <td>...</td>\n",
       "      <td>...</td>\n",
       "      <td>...</td>\n",
       "      <td>...</td>\n",
       "      <td>...</td>\n",
       "      <td>...</td>\n",
       "    </tr>\n",
       "    <tr>\n",
       "      <th>51542</th>\n",
       "      <td>1163797</td>\n",
       "      <td>SOFT_LEAD</td>\n",
       "      <td>SOFT_LEAD</td>\n",
       "      <td>2023-12-14T07:36:09+0000</td>\n",
       "      <td>SOFT_LEAD</td>\n",
       "      <td>SOFT_LEAD</td>\n",
       "      <td>2023-12-14</td>\n",
       "      <td>0</td>\n",
       "      <td>1</td>\n",
       "      <td>HOT_LEAD</td>\n",
       "      <td>...</td>\n",
       "      <td>NaN</td>\n",
       "      <td>NaN</td>\n",
       "      <td>0</td>\n",
       "      <td>NaN</td>\n",
       "      <td>NaN</td>\n",
       "      <td>NaN</td>\n",
       "      <td>0</td>\n",
       "      <td>iOS</td>\n",
       "      <td>NaN</td>\n",
       "      <td>NaN</td>\n",
       "    </tr>\n",
       "    <tr>\n",
       "      <th>51543</th>\n",
       "      <td>1163798</td>\n",
       "      <td>SOFT_LEAD</td>\n",
       "      <td>SOFT_LEAD</td>\n",
       "      <td>2023-12-14T07:36:48+0000</td>\n",
       "      <td>SOFT_LEAD</td>\n",
       "      <td>SOFT_LEAD</td>\n",
       "      <td>2023-12-14</td>\n",
       "      <td>0</td>\n",
       "      <td>1</td>\n",
       "      <td>HOT_LEAD</td>\n",
       "      <td>...</td>\n",
       "      <td>NaN</td>\n",
       "      <td>NaN</td>\n",
       "      <td>0</td>\n",
       "      <td>NaN</td>\n",
       "      <td>NaN</td>\n",
       "      <td>NaN</td>\n",
       "      <td>0</td>\n",
       "      <td>Android</td>\n",
       "      <td>NaN</td>\n",
       "      <td>NaN</td>\n",
       "    </tr>\n",
       "    <tr>\n",
       "      <th>51544</th>\n",
       "      <td>1163799</td>\n",
       "      <td>SOFT_LEAD</td>\n",
       "      <td>SOFT_LEAD</td>\n",
       "      <td>2023-12-14T07:43:23+0000</td>\n",
       "      <td>SOFT_LEAD</td>\n",
       "      <td>SOFT_LEAD</td>\n",
       "      <td>2023-12-14</td>\n",
       "      <td>0</td>\n",
       "      <td>1</td>\n",
       "      <td>HOT_LEAD</td>\n",
       "      <td>...</td>\n",
       "      <td>NaN</td>\n",
       "      <td>NaN</td>\n",
       "      <td>0</td>\n",
       "      <td>NaN</td>\n",
       "      <td>NaN</td>\n",
       "      <td>NaN</td>\n",
       "      <td>0</td>\n",
       "      <td>iOS</td>\n",
       "      <td>19.0</td>\n",
       "      <td>NaN</td>\n",
       "    </tr>\n",
       "    <tr>\n",
       "      <th>51545</th>\n",
       "      <td>1163800</td>\n",
       "      <td>SOFT_LEAD</td>\n",
       "      <td>SOFT_LEAD</td>\n",
       "      <td>2023-12-14T07:54:46+0000</td>\n",
       "      <td>SOFT_LEAD</td>\n",
       "      <td>SOFT_LEAD</td>\n",
       "      <td>2023-12-14</td>\n",
       "      <td>0</td>\n",
       "      <td>1</td>\n",
       "      <td>HOT_LEAD</td>\n",
       "      <td>...</td>\n",
       "      <td>NaN</td>\n",
       "      <td>NaN</td>\n",
       "      <td>0</td>\n",
       "      <td>NaN</td>\n",
       "      <td>NaN</td>\n",
       "      <td>NaN</td>\n",
       "      <td>0</td>\n",
       "      <td>iOS</td>\n",
       "      <td>NaN</td>\n",
       "      <td>NaN</td>\n",
       "    </tr>\n",
       "    <tr>\n",
       "      <th>51546</th>\n",
       "      <td>1163801</td>\n",
       "      <td>SOFT_LEAD</td>\n",
       "      <td>SOFT_LEAD</td>\n",
       "      <td>2023-12-14T08:47:02+0000</td>\n",
       "      <td>SOFT_LEAD</td>\n",
       "      <td>SOFT_LEAD</td>\n",
       "      <td>2023-12-14</td>\n",
       "      <td>0</td>\n",
       "      <td>1</td>\n",
       "      <td>HOT_LEAD</td>\n",
       "      <td>...</td>\n",
       "      <td>NaN</td>\n",
       "      <td>NaN</td>\n",
       "      <td>0</td>\n",
       "      <td>NaN</td>\n",
       "      <td>NaN</td>\n",
       "      <td>NaN</td>\n",
       "      <td>0</td>\n",
       "      <td>iOS</td>\n",
       "      <td>24.0</td>\n",
       "      <td>12500.0</td>\n",
       "    </tr>\n",
       "  </tbody>\n",
       "</table>\n",
       "<p>51547 rows × 60 columns</p>\n",
       "</div>"
      ],
      "text/plain": [
       "        UserId  EventType EventType.1             EventDateTime  \\\n",
       "0      1112158  SOFT_LEAD   SOFT_LEAD  2023-01-01T00:32:48+0000   \n",
       "1      1112159  SOFT_LEAD   SOFT_LEAD  2023-01-01T00:52:35+0000   \n",
       "2      1112160  SOFT_LEAD   SOFT_LEAD  2023-01-01T01:07:16+0000   \n",
       "3      1112161  SOFT_LEAD   SOFT_LEAD  2023-01-01T01:19:29+0000   \n",
       "4      1112162  SOFT_LEAD   SOFT_LEAD  2023-01-01T01:19:39+0000   \n",
       "...        ...        ...         ...                       ...   \n",
       "51542  1163797  SOFT_LEAD   SOFT_LEAD  2023-12-14T07:36:09+0000   \n",
       "51543  1163798  SOFT_LEAD   SOFT_LEAD  2023-12-14T07:36:48+0000   \n",
       "51544  1163799  SOFT_LEAD   SOFT_LEAD  2023-12-14T07:43:23+0000   \n",
       "51545  1163800  SOFT_LEAD   SOFT_LEAD  2023-12-14T07:54:46+0000   \n",
       "51546  1163801  SOFT_LEAD   SOFT_LEAD  2023-12-14T08:47:02+0000   \n",
       "\n",
       "      EventType_soft EventType_soft.1 EventDateTime_soft  DateDifference_soft  \\\n",
       "0          SOFT_LEAD        SOFT_LEAD         2023-01-01                    0   \n",
       "1          SOFT_LEAD        SOFT_LEAD         2023-01-01                    0   \n",
       "2          SOFT_LEAD        SOFT_LEAD         2023-01-01                    0   \n",
       "3          SOFT_LEAD        SOFT_LEAD         2023-01-01                    0   \n",
       "4          SOFT_LEAD        SOFT_LEAD         2023-01-01                    0   \n",
       "...              ...              ...                ...                  ...   \n",
       "51542      SOFT_LEAD        SOFT_LEAD         2023-12-14                    0   \n",
       "51543      SOFT_LEAD        SOFT_LEAD         2023-12-14                    0   \n",
       "51544      SOFT_LEAD        SOFT_LEAD         2023-12-14                    0   \n",
       "51545      SOFT_LEAD        SOFT_LEAD         2023-12-14                    0   \n",
       "51546      SOFT_LEAD        SOFT_LEAD         2023-12-14                    0   \n",
       "\n",
       "       FundingIn2weeks_soft EventType_hot  ...  \\\n",
       "0                         1           NaN  ...   \n",
       "1                         1      HOT_LEAD  ...   \n",
       "2                         1      HOT_LEAD  ...   \n",
       "3                         1      HOT_LEAD  ...   \n",
       "4                         1      HOT_LEAD  ...   \n",
       "...                     ...           ...  ...   \n",
       "51542                     1      HOT_LEAD  ...   \n",
       "51543                     1      HOT_LEAD  ...   \n",
       "51544                     1      HOT_LEAD  ...   \n",
       "51545                     1      HOT_LEAD  ...   \n",
       "51546                     1      HOT_LEAD  ...   \n",
       "\n",
       "                EventDateTime_identityV  DateDifference_identityV  \\\n",
       "0                                   NaN                       NaN   \n",
       "1      2023-01-08 15:10:20.931000+00:00                       7.0   \n",
       "2                                   NaN                       NaN   \n",
       "3                                   NaN                       NaN   \n",
       "4                                   NaN                       NaN   \n",
       "...                                 ...                       ...   \n",
       "51542                               NaN                       NaN   \n",
       "51543                               NaN                       NaN   \n",
       "51544                               NaN                       NaN   \n",
       "51545                               NaN                       NaN   \n",
       "51546                               NaN                       NaN   \n",
       "\n",
       "       FundingIn2weeks_identityV EventType_accountIF EventDateTime_accountIF  \\\n",
       "0                              0                 NaN                     NaN   \n",
       "1                              1                 NaN                     NaN   \n",
       "2                              0                 NaN                     NaN   \n",
       "3                              0                 NaN                     NaN   \n",
       "4                              0                 NaN                     NaN   \n",
       "...                          ...                 ...                     ...   \n",
       "51542                          0                 NaN                     NaN   \n",
       "51543                          0                 NaN                     NaN   \n",
       "51544                          0                 NaN                     NaN   \n",
       "51545                          0                 NaN                     NaN   \n",
       "51546                          0                 NaN                     NaN   \n",
       "\n",
       "       DateDifference_accountIF  FundingIn2weeks_accountIF Platform  \\\n",
       "0                           NaN                          0      NaN   \n",
       "1                           NaN                          0      NaN   \n",
       "2                           NaN                          0      NaN   \n",
       "3                           NaN                          0      NaN   \n",
       "4                           NaN                          0      NaN   \n",
       "...                         ...                        ...      ...   \n",
       "51542                       NaN                          0      iOS   \n",
       "51543                       NaN                          0  Android   \n",
       "51544                       NaN                          0      iOS   \n",
       "51545                       NaN                          0      iOS   \n",
       "51546                       NaN                          0      iOS   \n",
       "\n",
       "      User.M.Age.N  User.M.Income.N  \n",
       "0              NaN              NaN  \n",
       "1             27.0          12500.0  \n",
       "2              NaN              NaN  \n",
       "3              NaN              NaN  \n",
       "4              NaN              NaN  \n",
       "...            ...              ...  \n",
       "51542          NaN              NaN  \n",
       "51543          NaN              NaN  \n",
       "51544         19.0              NaN  \n",
       "51545          NaN              NaN  \n",
       "51546         24.0          12500.0  \n",
       "\n",
       "[51547 rows x 60 columns]"
      ]
     },
     "execution_count": 3,
     "metadata": {},
     "output_type": "execute_result"
    }
   ],
   "source": [
    "df"
   ]
  },
  {
   "cell_type": "code",
   "execution_count": 4,
   "metadata": {},
   "outputs": [
    {
     "data": {
      "text/plain": [
       "Index(['UserId', 'EventType', 'EventType.1', 'EventDateTime', 'EventType_soft',\n",
       "       'EventType_soft.1', 'EventDateTime_soft', 'DateDifference_soft',\n",
       "       'FundingIn2weeks_soft', 'EventType_hot', 'EventDateTime_hot',\n",
       "       'DateDifference_hot', 'FundingIn2weeks_hot', 'EventType_mobile',\n",
       "       'EventDateTime_mobile', 'DateDifference_mobile',\n",
       "       'FundingIn2weeks_mobile', 'EventType_emma', 'EventDateTime_emma',\n",
       "       'DateDifference_emma', 'FundingIn2weeks_emma', 'EventType_identity',\n",
       "       'EventDateTime_identity', 'DateDifference_identity',\n",
       "       'FundingIn2weeks_identity', 'EventType_address',\n",
       "       'EventDateTime_address', 'DateDifference_address',\n",
       "       'FundingIn2weeks_address', 'EventType_disclosures',\n",
       "       'EventDateTime_disclosures', 'DateDifference_disclosures',\n",
       "       'FundingIn2weeks_disclosures', 'EventType_agreements',\n",
       "       'EventDateTime_agreements', 'DateDifference_agreements',\n",
       "       'FundingIn2weeks_agreements', 'EventType_financial',\n",
       "       'EventDateTime_financial', 'DateDifference_financial',\n",
       "       'FundingIn2weeks_financial', 'EventType_portafolioS',\n",
       "       'EventDateTime_portafolioS', 'DateDifference_portafolioS',\n",
       "       'FundingIn2weeks_portafolioS', 'EventType_portafolioC',\n",
       "       'EventDateTime_portafolioC', 'DateDifference_portafolioC',\n",
       "       'FundingIn2weeks_portafolioC', 'EventType_identityV',\n",
       "       'EventDateTime_identityV', 'DateDifference_identityV',\n",
       "       'FundingIn2weeks_identityV', 'EventType_accountIF',\n",
       "       'EventDateTime_accountIF', 'DateDifference_accountIF',\n",
       "       'FundingIn2weeks_accountIF', 'Platform', 'User.M.Age.N',\n",
       "       'User.M.Income.N'],\n",
       "      dtype='object')"
      ]
     },
     "execution_count": 4,
     "metadata": {},
     "output_type": "execute_result"
    }
   ],
   "source": [
    "df.columns"
   ]
  },
  {
   "cell_type": "code",
   "execution_count": 5,
   "metadata": {},
   "outputs": [
    {
     "data": {
      "text/plain": [
       "datetime.date(2023, 1, 1)"
      ]
     },
     "execution_count": 5,
     "metadata": {},
     "output_type": "execute_result"
    }
   ],
   "source": [
    "min(df[\"EventDateTime_soft\"])"
   ]
  },
  {
   "cell_type": "code",
   "execution_count": 6,
   "metadata": {},
   "outputs": [
    {
     "data": {
      "text/plain": [
       "17.0"
      ]
     },
     "execution_count": 6,
     "metadata": {},
     "output_type": "execute_result"
    }
   ],
   "source": [
    "#min(df[\"User.M.Age.N\"])\n",
    "df[\"User.M.Age.N\"].dropna().min()\n"
   ]
  },
  {
   "cell_type": "code",
   "execution_count": 7,
   "metadata": {},
   "outputs": [
    {
     "data": {
      "text/plain": [
       "Platform\n",
       "iOS        21990\n",
       "Android     6618\n",
       "dtype: int64"
      ]
     },
     "execution_count": 7,
     "metadata": {},
     "output_type": "execute_result"
    }
   ],
   "source": [
    "df.value_counts(\"Platform\")"
   ]
  },
  {
   "cell_type": "code",
   "execution_count": 8,
   "metadata": {},
   "outputs": [
    {
     "data": {
      "text/plain": [
       "UserId                             0\n",
       "EventType                          0\n",
       "EventType.1                        0\n",
       "EventDateTime                      0\n",
       "EventType_soft                     0\n",
       "EventType_soft.1                   0\n",
       "EventDateTime_soft                 0\n",
       "DateDifference_soft                0\n",
       "FundingIn2weeks_soft               0\n",
       "EventType_hot                   6390\n",
       "EventDateTime_hot               6390\n",
       "DateDifference_hot              6390\n",
       "FundingIn2weeks_hot                0\n",
       "EventType_mobile               19608\n",
       "EventDateTime_mobile           19608\n",
       "DateDifference_mobile          19608\n",
       "FundingIn2weeks_mobile             0\n",
       "EventType_emma                 18090\n",
       "EventDateTime_emma             18090\n",
       "DateDifference_emma            18090\n",
       "FundingIn2weeks_emma               0\n",
       "EventType_identity             29161\n",
       "EventDateTime_identity         29161\n",
       "DateDifference_identity        29161\n",
       "FundingIn2weeks_identity           0\n",
       "EventType_address              31165\n",
       "EventDateTime_address          31165\n",
       "DateDifference_address         31165\n",
       "FundingIn2weeks_address            0\n",
       "EventType_disclosures          31514\n",
       "EventDateTime_disclosures      31514\n",
       "DateDifference_disclosures     31514\n",
       "FundingIn2weeks_disclosures        0\n",
       "EventType_agreements           35519\n",
       "EventDateTime_agreements       35519\n",
       "DateDifference_agreements      35519\n",
       "FundingIn2weeks_agreements         0\n",
       "EventType_financial            33727\n",
       "EventDateTime_financial        33727\n",
       "DateDifference_financial       33727\n",
       "FundingIn2weeks_financial          0\n",
       "EventType_portafolioS          35868\n",
       "EventDateTime_portafolioS      35868\n",
       "DateDifference_portafolioS     35868\n",
       "FundingIn2weeks_portafolioS        0\n",
       "EventType_portafolioC          35933\n",
       "EventDateTime_portafolioC      35933\n",
       "DateDifference_portafolioC     35933\n",
       "FundingIn2weeks_portafolioC        0\n",
       "EventType_identityV            40726\n",
       "EventDateTime_identityV        40726\n",
       "DateDifference_identityV       40726\n",
       "FundingIn2weeks_identityV          0\n",
       "EventType_accountIF            47745\n",
       "EventDateTime_accountIF        47745\n",
       "DateDifference_accountIF       47745\n",
       "FundingIn2weeks_accountIF          0\n",
       "Platform                       22939\n",
       "User.M.Age.N                   29148\n",
       "User.M.Income.N                35507\n",
       "dtype: int64"
      ]
     },
     "execution_count": 8,
     "metadata": {},
     "output_type": "execute_result"
    }
   ],
   "source": [
    "df.isna().sum()"
   ]
  },
  {
   "cell_type": "code",
   "execution_count": 9,
   "metadata": {},
   "outputs": [
    {
     "data": {
      "text/plain": [
       "User.M.Age.N\n",
       "22.0    988\n",
       "23.0    926\n",
       "21.0    898\n",
       "24.0    840\n",
       "19.0    816\n",
       "20.0    813\n",
       "27.0    748\n",
       "26.0    746\n",
       "25.0    742\n",
       "18.0    741\n",
       "28.0    703\n",
       "29.0    691\n",
       "30.0    682\n",
       "31.0    626\n",
       "34.0    611\n",
       "35.0    598\n",
       "37.0    597\n",
       "32.0    596\n",
       "36.0    595\n",
       "33.0    582\n",
       "39.0    580\n",
       "40.0    559\n",
       "38.0    538\n",
       "42.0    523\n",
       "41.0    514\n",
       "43.0    488\n",
       "44.0    447\n",
       "45.0    406\n",
       "46.0    356\n",
       "48.0    354\n",
       "47.0    330\n",
       "49.0    292\n",
       "51.0    289\n",
       "50.0    265\n",
       "52.0    254\n",
       "53.0    237\n",
       "54.0    222\n",
       "55.0    175\n",
       "56.0    173\n",
       "57.0    147\n",
       "58.0    132\n",
       "60.0    110\n",
       "59.0    101\n",
       "61.0     79\n",
       "62.0     63\n",
       "63.0     59\n",
       "64.0     45\n",
       "65.0     37\n",
       "68.0     27\n",
       "66.0     19\n",
       "69.0     16\n",
       "67.0     14\n",
       "17.0      9\n",
       "dtype: int64"
      ]
     },
     "execution_count": 9,
     "metadata": {},
     "output_type": "execute_result"
    }
   ],
   "source": [
    "df.value_counts(\"User.M.Age.N\")"
   ]
  },
  {
   "cell_type": "code",
   "execution_count": 10,
   "metadata": {},
   "outputs": [
    {
     "data": {
      "text/plain": [
       "User.M.Income.N\n",
       "12500.0     6585\n",
       "37500.0     6136\n",
       "62500.0     2254\n",
       "96000.0      814\n",
       "150500.0     161\n",
       "184000.0      90\n",
       "dtype: int64"
      ]
     },
     "execution_count": 10,
     "metadata": {},
     "output_type": "execute_result"
    }
   ],
   "source": [
    "df.value_counts(\"User.M.Income.N\")"
   ]
  },
  {
   "cell_type": "code",
   "execution_count": 11,
   "metadata": {},
   "outputs": [
    {
     "name": "stdout",
     "output_type": "stream",
     "text": [
      "<class 'pandas.core.frame.DataFrame'>\n",
      "RangeIndex: 51547 entries, 0 to 51546\n",
      "Data columns (total 60 columns):\n",
      " #   Column                       Non-Null Count  Dtype  \n",
      "---  ------                       --------------  -----  \n",
      " 0   UserId                       51547 non-null  int64  \n",
      " 1   EventType                    51547 non-null  object \n",
      " 2   EventType.1                  51547 non-null  object \n",
      " 3   EventDateTime                51547 non-null  object \n",
      " 4   EventType_soft               51547 non-null  object \n",
      " 5   EventType_soft.1             51547 non-null  object \n",
      " 6   EventDateTime_soft           51547 non-null  object \n",
      " 7   DateDifference_soft          51547 non-null  int64  \n",
      " 8   FundingIn2weeks_soft         51547 non-null  int64  \n",
      " 9   EventType_hot                45157 non-null  object \n",
      " 10  EventDateTime_hot            45157 non-null  object \n",
      " 11  DateDifference_hot           45157 non-null  float64\n",
      " 12  FundingIn2weeks_hot          51547 non-null  int64  \n",
      " 13  EventType_mobile             31939 non-null  object \n",
      " 14  EventDateTime_mobile         31939 non-null  object \n",
      " 15  DateDifference_mobile        31939 non-null  float64\n",
      " 16  FundingIn2weeks_mobile       51547 non-null  int64  \n",
      " 17  EventType_emma               33457 non-null  object \n",
      " 18  EventDateTime_emma           33457 non-null  object \n",
      " 19  DateDifference_emma          33457 non-null  float64\n",
      " 20  FundingIn2weeks_emma         51547 non-null  int64  \n",
      " 21  EventType_identity           22386 non-null  object \n",
      " 22  EventDateTime_identity       22386 non-null  object \n",
      " 23  DateDifference_identity      22386 non-null  float64\n",
      " 24  FundingIn2weeks_identity     51547 non-null  int64  \n",
      " 25  EventType_address            20382 non-null  object \n",
      " 26  EventDateTime_address        20382 non-null  object \n",
      " 27  DateDifference_address       20382 non-null  float64\n",
      " 28  FundingIn2weeks_address      51547 non-null  int64  \n",
      " 29  EventType_disclosures        20033 non-null  object \n",
      " 30  EventDateTime_disclosures    20033 non-null  object \n",
      " 31  DateDifference_disclosures   20033 non-null  float64\n",
      " 32  FundingIn2weeks_disclosures  51547 non-null  int64  \n",
      " 33  EventType_agreements         16028 non-null  object \n",
      " 34  EventDateTime_agreements     16028 non-null  object \n",
      " 35  DateDifference_agreements    16028 non-null  float64\n",
      " 36  FundingIn2weeks_agreements   51547 non-null  int64  \n",
      " 37  EventType_financial          17820 non-null  object \n",
      " 38  EventDateTime_financial      17820 non-null  object \n",
      " 39  DateDifference_financial     17820 non-null  float64\n",
      " 40  FundingIn2weeks_financial    51547 non-null  int64  \n",
      " 41  EventType_portafolioS        15679 non-null  object \n",
      " 42  EventDateTime_portafolioS    15679 non-null  object \n",
      " 43  DateDifference_portafolioS   15679 non-null  float64\n",
      " 44  FundingIn2weeks_portafolioS  51547 non-null  int64  \n",
      " 45  EventType_portafolioC        15614 non-null  object \n",
      " 46  EventDateTime_portafolioC    15614 non-null  object \n",
      " 47  DateDifference_portafolioC   15614 non-null  float64\n",
      " 48  FundingIn2weeks_portafolioC  51547 non-null  int64  \n",
      " 49  EventType_identityV          10821 non-null  object \n",
      " 50  EventDateTime_identityV      10821 non-null  object \n",
      " 51  DateDifference_identityV     10821 non-null  float64\n",
      " 52  FundingIn2weeks_identityV    51547 non-null  int64  \n",
      " 53  EventType_accountIF          3802 non-null   object \n",
      " 54  EventDateTime_accountIF      3802 non-null   object \n",
      " 55  DateDifference_accountIF     3802 non-null   float64\n",
      " 56  FundingIn2weeks_accountIF    51547 non-null  int64  \n",
      " 57  Platform                     28608 non-null  object \n",
      " 58  User.M.Age.N                 22399 non-null  float64\n",
      " 59  User.M.Income.N              16040 non-null  float64\n",
      "dtypes: float64(14), int64(15), object(31)\n",
      "memory usage: 23.6+ MB\n"
     ]
    }
   ],
   "source": [
    "df.info()"
   ]
  },
  {
   "cell_type": "code",
   "execution_count": 12,
   "metadata": {},
   "outputs": [
    {
     "data": {
      "text/plain": [
       "'\\ndf[\\'EventDateTime_hot\\'] = pd.to_datetime(df[\\'EventDateTime_hot\\'], format=\"%Y-%m-%dT%H:%M:%S%z\")\\ndf[\\'EventDateTime_hot\\'] = df[\\'EventDateTime_hot\\'].dt.normalize()\\ndf[[\"EventType_hot\", \"EventDateTime_hot\", \"ConversionRate_hot\"]].info()\\nprueba = df[[\"UserId\",\"EventType_hot\", \"EventDateTime_hot\", \"ConversionRate_hot\"]]\\n\\n# Extract month from the datetime column\\nprueba[\\'Month\\'] = prueba[\\'EventDateTime_hot\\'].dt.to_period(\\'M\\')\\n\\n# Group by \\'Month\\' and calculate the mean for \\'ConversionRate_hot\\'\\nmean_by_month = prueba.groupby(\\'Month\\')[\\'ConversionRate_hot\\'].mean().reset_index()\\nmean_by_month[\\'Month\\'] = mean_by_month[\\'Month\\'].dt.to_timestamp().dt.strftime(\\'%Y-%m\\')\\n'"
      ]
     },
     "execution_count": 12,
     "metadata": {},
     "output_type": "execute_result"
    }
   ],
   "source": [
    "\"\"\"\n",
    "df['EventDateTime_hot'] = pd.to_datetime(df['EventDateTime_hot'], format=\"%Y-%m-%dT%H:%M:%S%z\")\n",
    "df['EventDateTime_hot'] = df['EventDateTime_hot'].dt.normalize()\n",
    "df[[\"EventType_hot\", \"EventDateTime_hot\", \"ConversionRate_hot\"]].info()\n",
    "prueba = df[[\"UserId\",\"EventType_hot\", \"EventDateTime_hot\", \"ConversionRate_hot\"]]\n",
    "\n",
    "# Extract month from the datetime column\n",
    "prueba['Month'] = prueba['EventDateTime_hot'].dt.to_period('M')\n",
    "\n",
    "# Group by 'Month' and calculate the mean for 'ConversionRate_hot'\n",
    "mean_by_month = prueba.groupby('Month')['ConversionRate_hot'].mean().reset_index()\n",
    "mean_by_month['Month'] = mean_by_month['Month'].dt.to_timestamp().dt.strftime('%Y-%m')\n",
    "\"\"\""
   ]
  },
  {
   "cell_type": "code",
   "execution_count": 13,
   "metadata": {},
   "outputs": [
    {
     "data": {
      "text/html": [
       "<div>\n",
       "<style scoped>\n",
       "    .dataframe tbody tr th:only-of-type {\n",
       "        vertical-align: middle;\n",
       "    }\n",
       "\n",
       "    .dataframe tbody tr th {\n",
       "        vertical-align: top;\n",
       "    }\n",
       "\n",
       "    .dataframe thead th {\n",
       "        text-align: right;\n",
       "    }\n",
       "</style>\n",
       "<table border=\"1\" class=\"dataframe\">\n",
       "  <thead>\n",
       "    <tr style=\"text-align: right;\">\n",
       "      <th></th>\n",
       "      <th>EventType_hot</th>\n",
       "      <th>EventDateTime_hot</th>\n",
       "      <th>DateDifference_hot</th>\n",
       "      <th>FundingIn2weeks_hot</th>\n",
       "    </tr>\n",
       "  </thead>\n",
       "  <tbody>\n",
       "    <tr>\n",
       "      <th>0</th>\n",
       "      <td>NaN</td>\n",
       "      <td>NaN</td>\n",
       "      <td>NaN</td>\n",
       "      <td>0</td>\n",
       "    </tr>\n",
       "    <tr>\n",
       "      <th>1</th>\n",
       "      <td>HOT_LEAD</td>\n",
       "      <td>2023-01-01T00:52:55+0000</td>\n",
       "      <td>0.0</td>\n",
       "      <td>1</td>\n",
       "    </tr>\n",
       "    <tr>\n",
       "      <th>2</th>\n",
       "      <td>HOT_LEAD</td>\n",
       "      <td>2023-01-01T01:07:59+0000</td>\n",
       "      <td>0.0</td>\n",
       "      <td>1</td>\n",
       "    </tr>\n",
       "    <tr>\n",
       "      <th>3</th>\n",
       "      <td>HOT_LEAD</td>\n",
       "      <td>2023-01-01T01:20:10+0000</td>\n",
       "      <td>0.0</td>\n",
       "      <td>1</td>\n",
       "    </tr>\n",
       "    <tr>\n",
       "      <th>4</th>\n",
       "      <td>HOT_LEAD</td>\n",
       "      <td>2023-01-01T01:23:40+0000</td>\n",
       "      <td>0.0</td>\n",
       "      <td>1</td>\n",
       "    </tr>\n",
       "    <tr>\n",
       "      <th>...</th>\n",
       "      <td>...</td>\n",
       "      <td>...</td>\n",
       "      <td>...</td>\n",
       "      <td>...</td>\n",
       "    </tr>\n",
       "    <tr>\n",
       "      <th>51542</th>\n",
       "      <td>HOT_LEAD</td>\n",
       "      <td>2023-12-14T07:36:50+0000</td>\n",
       "      <td>0.0</td>\n",
       "      <td>1</td>\n",
       "    </tr>\n",
       "    <tr>\n",
       "      <th>51543</th>\n",
       "      <td>HOT_LEAD</td>\n",
       "      <td>2023-12-14T07:37:11+0000</td>\n",
       "      <td>0.0</td>\n",
       "      <td>1</td>\n",
       "    </tr>\n",
       "    <tr>\n",
       "      <th>51544</th>\n",
       "      <td>HOT_LEAD</td>\n",
       "      <td>2023-12-14T07:44:14+0000</td>\n",
       "      <td>0.0</td>\n",
       "      <td>1</td>\n",
       "    </tr>\n",
       "    <tr>\n",
       "      <th>51545</th>\n",
       "      <td>HOT_LEAD</td>\n",
       "      <td>2023-12-14T07:56:19+0000</td>\n",
       "      <td>0.0</td>\n",
       "      <td>1</td>\n",
       "    </tr>\n",
       "    <tr>\n",
       "      <th>51546</th>\n",
       "      <td>HOT_LEAD</td>\n",
       "      <td>2023-12-14T08:47:36+0000</td>\n",
       "      <td>0.0</td>\n",
       "      <td>1</td>\n",
       "    </tr>\n",
       "  </tbody>\n",
       "</table>\n",
       "<p>51547 rows × 4 columns</p>\n",
       "</div>"
      ],
      "text/plain": [
       "      EventType_hot         EventDateTime_hot  DateDifference_hot  \\\n",
       "0               NaN                       NaN                 NaN   \n",
       "1          HOT_LEAD  2023-01-01T00:52:55+0000                 0.0   \n",
       "2          HOT_LEAD  2023-01-01T01:07:59+0000                 0.0   \n",
       "3          HOT_LEAD  2023-01-01T01:20:10+0000                 0.0   \n",
       "4          HOT_LEAD  2023-01-01T01:23:40+0000                 0.0   \n",
       "...             ...                       ...                 ...   \n",
       "51542      HOT_LEAD  2023-12-14T07:36:50+0000                 0.0   \n",
       "51543      HOT_LEAD  2023-12-14T07:37:11+0000                 0.0   \n",
       "51544      HOT_LEAD  2023-12-14T07:44:14+0000                 0.0   \n",
       "51545      HOT_LEAD  2023-12-14T07:56:19+0000                 0.0   \n",
       "51546      HOT_LEAD  2023-12-14T08:47:36+0000                 0.0   \n",
       "\n",
       "       FundingIn2weeks_hot  \n",
       "0                        0  \n",
       "1                        1  \n",
       "2                        1  \n",
       "3                        1  \n",
       "4                        1  \n",
       "...                    ...  \n",
       "51542                    1  \n",
       "51543                    1  \n",
       "51544                    1  \n",
       "51545                    1  \n",
       "51546                    1  \n",
       "\n",
       "[51547 rows x 4 columns]"
      ]
     },
     "execution_count": 13,
     "metadata": {},
     "output_type": "execute_result"
    }
   ],
   "source": [
    "df.filter(like='hot')"
   ]
  },
  {
   "cell_type": "code",
   "execution_count": 20,
   "metadata": {},
   "outputs": [],
   "source": [
    "df[ 'EventDateTime_soft' ] = pd.to_datetime(df[ 'EventDateTime_soft'], format=\"%Y-%m-%dT%H:%M:%S%z\")\n",
    "df[ 'EventDateTime_soft' ] = df[\"EventDateTime_soft\"].dt.date\n",
    "df[ 'EventDateTime_soft' ] = pd.to_datetime(df[ 'EventDateTime_soft'], format=\"%Y-%m-%d\")"
   ]
  },
  {
   "cell_type": "code",
   "execution_count": 21,
   "metadata": {},
   "outputs": [],
   "source": [
    "def create_conversionRate(df, event):\n",
    "\n",
    "    result = df.groupby([df['EventDateTime_soft'].dt.to_period(\"W\") ]).agg(\n",
    "        total_rows=pd.NamedAgg(column='EventDateTime_soft', aggfunc='size'),\n",
    "        count_values_positives=pd.NamedAgg(column='FundingIn2weeks_' + event, aggfunc=lambda x: sum(x == 1))\n",
    "    ).reset_index()\n",
    "\n",
    "    pan = df.groupby([df['EventDateTime_soft'].dt.to_period(\"W\"),\"Platform\" ]).agg(\n",
    "        platform_count=('Platform', 'size')\n",
    "    ).reset_index()\n",
    "\n",
    "\n",
    "    result[\"ConversionRate\"] = ( result[\"count_values_positives\"] / result[\"total_rows\"] ) * 100\n",
    "\n",
    "    result['ConversionRate'] = result['ConversionRate'].round(2)  \n",
    "\n",
    "    result[\"ConversionRate\"] = result[\"ConversionRate\"].astype(str) \n",
    "\n",
    "    result[\"ConversionRate\"]  = result[\"ConversionRate\"]  + \"%\"\n",
    "   \n",
    "    # Find the minimum date in the DataFrame\n",
    "\n",
    "    # Convert to PeriodIndex with a frequency of one week starting from the minimum date\n",
    "    #result['EventDateTime_soft'] = (result['EventDateTime_soft'] - min_date).dt.to_period(\"W\")\n",
    "    #df['EventDateTime_soft_weekly'] = (df['EventDateTime_soft'] - min_date).dt.to_period(\"W\")\n",
    "    #result['EventDateTime_soft'] = result['EventDateTime_soft'].dt.to_timestamp().dt.strftime('%Y-%m')\n",
    "    result['EventDateTime_soft'] = pd.to_datetime(result['EventDateTime_soft'].dt.to_timestamp())\n",
    "\n",
    "    result[\"EventType\"] =  [df[\"EventType_\"  + event].dropna().unique()[0]] * len(result.index)\n",
    "\n",
    "    result \n",
    "    \n",
    "    return result"
   ]
  },
  {
   "cell_type": "code",
   "execution_count": 22,
   "metadata": {},
   "outputs": [
    {
     "data": {
      "application/vnd.plotly.v1+json": {
       "config": {
        "plotlyServerURL": "https://plot.ly"
       },
       "data": [
        {
         "hovertemplate": "EventType=HOT_LEAD<br>EventDateTime_soft=%{x}<br>ConversionRate=%{text}<extra></extra>",
         "legendgroup": "HOT_LEAD",
         "line": {
          "color": "#636efa",
          "dash": "solid"
         },
         "marker": {
          "symbol": "circle"
         },
         "mode": "text+lines+markers",
         "name": "HOT_LEAD",
         "orientation": "v",
         "showlegend": true,
         "text": [
          "85.15%",
          "87.02%",
          "89.35%",
          "88.47%",
          "90.37%",
          "90.36%",
          "88.33%",
          "89.56%",
          "91.26%",
          "87.93%",
          "89.44%",
          "90.33%",
          "88.18%",
          "87.37%",
          "89.07%",
          "86.38%",
          "86.91%",
          "87.44%",
          "86.51%",
          "86.68%",
          "90.03%",
          "75.32%",
          "84.87%",
          "86.08%",
          "82.62%",
          "86.43%",
          "87.94%",
          "85.3%",
          "86.38%",
          "86.76%",
          "84.81%",
          "85.98%",
          "85.53%",
          "87.79%",
          "76.05%",
          "86.78%",
          "87.42%",
          "79.15%",
          "88.28%",
          "90.0%",
          "82.23%",
          "91.07%",
          "88.89%",
          "89.26%",
          "89.59%",
          "90.08%",
          "89.27%",
          "87.99%",
          "88.95%",
          "89.76%",
          "87.07%"
         ],
         "textposition": "bottom center",
         "type": "scatter",
         "x": [
          "2022-12-26T00:00:00",
          "2023-01-02T00:00:00",
          "2023-01-09T00:00:00",
          "2023-01-16T00:00:00",
          "2023-01-23T00:00:00",
          "2023-01-30T00:00:00",
          "2023-02-06T00:00:00",
          "2023-02-13T00:00:00",
          "2023-02-20T00:00:00",
          "2023-02-27T00:00:00",
          "2023-03-06T00:00:00",
          "2023-03-13T00:00:00",
          "2023-03-20T00:00:00",
          "2023-03-27T00:00:00",
          "2023-04-03T00:00:00",
          "2023-04-10T00:00:00",
          "2023-04-17T00:00:00",
          "2023-04-24T00:00:00",
          "2023-05-01T00:00:00",
          "2023-05-08T00:00:00",
          "2023-05-15T00:00:00",
          "2023-05-22T00:00:00",
          "2023-05-29T00:00:00",
          "2023-06-05T00:00:00",
          "2023-06-12T00:00:00",
          "2023-06-19T00:00:00",
          "2023-06-26T00:00:00",
          "2023-07-03T00:00:00",
          "2023-07-10T00:00:00",
          "2023-07-17T00:00:00",
          "2023-07-24T00:00:00",
          "2023-07-31T00:00:00",
          "2023-08-07T00:00:00",
          "2023-08-14T00:00:00",
          "2023-08-21T00:00:00",
          "2023-08-28T00:00:00",
          "2023-09-04T00:00:00",
          "2023-09-11T00:00:00",
          "2023-09-18T00:00:00",
          "2023-09-25T00:00:00",
          "2023-10-02T00:00:00",
          "2023-10-09T00:00:00",
          "2023-10-16T00:00:00",
          "2023-10-23T00:00:00",
          "2023-10-30T00:00:00",
          "2023-11-06T00:00:00",
          "2023-11-13T00:00:00",
          "2023-11-20T00:00:00",
          "2023-11-27T00:00:00",
          "2023-12-04T00:00:00",
          "2023-12-11T00:00:00"
         ],
         "xaxis": "x",
         "y": [
          "85.15%",
          "87.02%",
          "89.35%",
          "88.47%",
          "90.37%",
          "90.36%",
          "88.33%",
          "89.56%",
          "91.26%",
          "87.93%",
          "89.44%",
          "90.33%",
          "88.18%",
          "87.37%",
          "89.07%",
          "86.38%",
          "86.91%",
          "87.44%",
          "86.51%",
          "86.68%",
          "90.03%",
          "75.32%",
          "84.87%",
          "86.08%",
          "82.62%",
          "86.43%",
          "87.94%",
          "85.3%",
          "86.38%",
          "86.76%",
          "84.81%",
          "85.98%",
          "85.53%",
          "87.79%",
          "76.05%",
          "86.78%",
          "87.42%",
          "79.15%",
          "88.28%",
          "90.0%",
          "82.23%",
          "91.07%",
          "88.89%",
          "89.26%",
          "89.59%",
          "90.08%",
          "89.27%",
          "87.99%",
          "88.95%",
          "89.76%",
          "87.07%"
         ],
         "yaxis": "y"
        }
       ],
       "layout": {
        "legend": {
         "title": {
          "text": "EventType"
         },
         "tracegroupgap": 0
        },
        "margin": {
         "t": 60
        },
        "template": {
         "data": {
          "bar": [
           {
            "error_x": {
             "color": "#2a3f5f"
            },
            "error_y": {
             "color": "#2a3f5f"
            },
            "marker": {
             "line": {
              "color": "#E5ECF6",
              "width": 0.5
             },
             "pattern": {
              "fillmode": "overlay",
              "size": 10,
              "solidity": 0.2
             }
            },
            "type": "bar"
           }
          ],
          "barpolar": [
           {
            "marker": {
             "line": {
              "color": "#E5ECF6",
              "width": 0.5
             },
             "pattern": {
              "fillmode": "overlay",
              "size": 10,
              "solidity": 0.2
             }
            },
            "type": "barpolar"
           }
          ],
          "carpet": [
           {
            "aaxis": {
             "endlinecolor": "#2a3f5f",
             "gridcolor": "white",
             "linecolor": "white",
             "minorgridcolor": "white",
             "startlinecolor": "#2a3f5f"
            },
            "baxis": {
             "endlinecolor": "#2a3f5f",
             "gridcolor": "white",
             "linecolor": "white",
             "minorgridcolor": "white",
             "startlinecolor": "#2a3f5f"
            },
            "type": "carpet"
           }
          ],
          "choropleth": [
           {
            "colorbar": {
             "outlinewidth": 0,
             "ticks": ""
            },
            "type": "choropleth"
           }
          ],
          "contour": [
           {
            "colorbar": {
             "outlinewidth": 0,
             "ticks": ""
            },
            "colorscale": [
             [
              0,
              "#0d0887"
             ],
             [
              0.1111111111111111,
              "#46039f"
             ],
             [
              0.2222222222222222,
              "#7201a8"
             ],
             [
              0.3333333333333333,
              "#9c179e"
             ],
             [
              0.4444444444444444,
              "#bd3786"
             ],
             [
              0.5555555555555556,
              "#d8576b"
             ],
             [
              0.6666666666666666,
              "#ed7953"
             ],
             [
              0.7777777777777778,
              "#fb9f3a"
             ],
             [
              0.8888888888888888,
              "#fdca26"
             ],
             [
              1,
              "#f0f921"
             ]
            ],
            "type": "contour"
           }
          ],
          "contourcarpet": [
           {
            "colorbar": {
             "outlinewidth": 0,
             "ticks": ""
            },
            "type": "contourcarpet"
           }
          ],
          "heatmap": [
           {
            "colorbar": {
             "outlinewidth": 0,
             "ticks": ""
            },
            "colorscale": [
             [
              0,
              "#0d0887"
             ],
             [
              0.1111111111111111,
              "#46039f"
             ],
             [
              0.2222222222222222,
              "#7201a8"
             ],
             [
              0.3333333333333333,
              "#9c179e"
             ],
             [
              0.4444444444444444,
              "#bd3786"
             ],
             [
              0.5555555555555556,
              "#d8576b"
             ],
             [
              0.6666666666666666,
              "#ed7953"
             ],
             [
              0.7777777777777778,
              "#fb9f3a"
             ],
             [
              0.8888888888888888,
              "#fdca26"
             ],
             [
              1,
              "#f0f921"
             ]
            ],
            "type": "heatmap"
           }
          ],
          "heatmapgl": [
           {
            "colorbar": {
             "outlinewidth": 0,
             "ticks": ""
            },
            "colorscale": [
             [
              0,
              "#0d0887"
             ],
             [
              0.1111111111111111,
              "#46039f"
             ],
             [
              0.2222222222222222,
              "#7201a8"
             ],
             [
              0.3333333333333333,
              "#9c179e"
             ],
             [
              0.4444444444444444,
              "#bd3786"
             ],
             [
              0.5555555555555556,
              "#d8576b"
             ],
             [
              0.6666666666666666,
              "#ed7953"
             ],
             [
              0.7777777777777778,
              "#fb9f3a"
             ],
             [
              0.8888888888888888,
              "#fdca26"
             ],
             [
              1,
              "#f0f921"
             ]
            ],
            "type": "heatmapgl"
           }
          ],
          "histogram": [
           {
            "marker": {
             "pattern": {
              "fillmode": "overlay",
              "size": 10,
              "solidity": 0.2
             }
            },
            "type": "histogram"
           }
          ],
          "histogram2d": [
           {
            "colorbar": {
             "outlinewidth": 0,
             "ticks": ""
            },
            "colorscale": [
             [
              0,
              "#0d0887"
             ],
             [
              0.1111111111111111,
              "#46039f"
             ],
             [
              0.2222222222222222,
              "#7201a8"
             ],
             [
              0.3333333333333333,
              "#9c179e"
             ],
             [
              0.4444444444444444,
              "#bd3786"
             ],
             [
              0.5555555555555556,
              "#d8576b"
             ],
             [
              0.6666666666666666,
              "#ed7953"
             ],
             [
              0.7777777777777778,
              "#fb9f3a"
             ],
             [
              0.8888888888888888,
              "#fdca26"
             ],
             [
              1,
              "#f0f921"
             ]
            ],
            "type": "histogram2d"
           }
          ],
          "histogram2dcontour": [
           {
            "colorbar": {
             "outlinewidth": 0,
             "ticks": ""
            },
            "colorscale": [
             [
              0,
              "#0d0887"
             ],
             [
              0.1111111111111111,
              "#46039f"
             ],
             [
              0.2222222222222222,
              "#7201a8"
             ],
             [
              0.3333333333333333,
              "#9c179e"
             ],
             [
              0.4444444444444444,
              "#bd3786"
             ],
             [
              0.5555555555555556,
              "#d8576b"
             ],
             [
              0.6666666666666666,
              "#ed7953"
             ],
             [
              0.7777777777777778,
              "#fb9f3a"
             ],
             [
              0.8888888888888888,
              "#fdca26"
             ],
             [
              1,
              "#f0f921"
             ]
            ],
            "type": "histogram2dcontour"
           }
          ],
          "mesh3d": [
           {
            "colorbar": {
             "outlinewidth": 0,
             "ticks": ""
            },
            "type": "mesh3d"
           }
          ],
          "parcoords": [
           {
            "line": {
             "colorbar": {
              "outlinewidth": 0,
              "ticks": ""
             }
            },
            "type": "parcoords"
           }
          ],
          "pie": [
           {
            "automargin": true,
            "type": "pie"
           }
          ],
          "scatter": [
           {
            "fillpattern": {
             "fillmode": "overlay",
             "size": 10,
             "solidity": 0.2
            },
            "type": "scatter"
           }
          ],
          "scatter3d": [
           {
            "line": {
             "colorbar": {
              "outlinewidth": 0,
              "ticks": ""
             }
            },
            "marker": {
             "colorbar": {
              "outlinewidth": 0,
              "ticks": ""
             }
            },
            "type": "scatter3d"
           }
          ],
          "scattercarpet": [
           {
            "marker": {
             "colorbar": {
              "outlinewidth": 0,
              "ticks": ""
             }
            },
            "type": "scattercarpet"
           }
          ],
          "scattergeo": [
           {
            "marker": {
             "colorbar": {
              "outlinewidth": 0,
              "ticks": ""
             }
            },
            "type": "scattergeo"
           }
          ],
          "scattergl": [
           {
            "marker": {
             "colorbar": {
              "outlinewidth": 0,
              "ticks": ""
             }
            },
            "type": "scattergl"
           }
          ],
          "scattermapbox": [
           {
            "marker": {
             "colorbar": {
              "outlinewidth": 0,
              "ticks": ""
             }
            },
            "type": "scattermapbox"
           }
          ],
          "scatterpolar": [
           {
            "marker": {
             "colorbar": {
              "outlinewidth": 0,
              "ticks": ""
             }
            },
            "type": "scatterpolar"
           }
          ],
          "scatterpolargl": [
           {
            "marker": {
             "colorbar": {
              "outlinewidth": 0,
              "ticks": ""
             }
            },
            "type": "scatterpolargl"
           }
          ],
          "scatterternary": [
           {
            "marker": {
             "colorbar": {
              "outlinewidth": 0,
              "ticks": ""
             }
            },
            "type": "scatterternary"
           }
          ],
          "surface": [
           {
            "colorbar": {
             "outlinewidth": 0,
             "ticks": ""
            },
            "colorscale": [
             [
              0,
              "#0d0887"
             ],
             [
              0.1111111111111111,
              "#46039f"
             ],
             [
              0.2222222222222222,
              "#7201a8"
             ],
             [
              0.3333333333333333,
              "#9c179e"
             ],
             [
              0.4444444444444444,
              "#bd3786"
             ],
             [
              0.5555555555555556,
              "#d8576b"
             ],
             [
              0.6666666666666666,
              "#ed7953"
             ],
             [
              0.7777777777777778,
              "#fb9f3a"
             ],
             [
              0.8888888888888888,
              "#fdca26"
             ],
             [
              1,
              "#f0f921"
             ]
            ],
            "type": "surface"
           }
          ],
          "table": [
           {
            "cells": {
             "fill": {
              "color": "#EBF0F8"
             },
             "line": {
              "color": "white"
             }
            },
            "header": {
             "fill": {
              "color": "#C8D4E3"
             },
             "line": {
              "color": "white"
             }
            },
            "type": "table"
           }
          ]
         },
         "layout": {
          "annotationdefaults": {
           "arrowcolor": "#2a3f5f",
           "arrowhead": 0,
           "arrowwidth": 1
          },
          "autotypenumbers": "strict",
          "coloraxis": {
           "colorbar": {
            "outlinewidth": 0,
            "ticks": ""
           }
          },
          "colorscale": {
           "diverging": [
            [
             0,
             "#8e0152"
            ],
            [
             0.1,
             "#c51b7d"
            ],
            [
             0.2,
             "#de77ae"
            ],
            [
             0.3,
             "#f1b6da"
            ],
            [
             0.4,
             "#fde0ef"
            ],
            [
             0.5,
             "#f7f7f7"
            ],
            [
             0.6,
             "#e6f5d0"
            ],
            [
             0.7,
             "#b8e186"
            ],
            [
             0.8,
             "#7fbc41"
            ],
            [
             0.9,
             "#4d9221"
            ],
            [
             1,
             "#276419"
            ]
           ],
           "sequential": [
            [
             0,
             "#0d0887"
            ],
            [
             0.1111111111111111,
             "#46039f"
            ],
            [
             0.2222222222222222,
             "#7201a8"
            ],
            [
             0.3333333333333333,
             "#9c179e"
            ],
            [
             0.4444444444444444,
             "#bd3786"
            ],
            [
             0.5555555555555556,
             "#d8576b"
            ],
            [
             0.6666666666666666,
             "#ed7953"
            ],
            [
             0.7777777777777778,
             "#fb9f3a"
            ],
            [
             0.8888888888888888,
             "#fdca26"
            ],
            [
             1,
             "#f0f921"
            ]
           ],
           "sequentialminus": [
            [
             0,
             "#0d0887"
            ],
            [
             0.1111111111111111,
             "#46039f"
            ],
            [
             0.2222222222222222,
             "#7201a8"
            ],
            [
             0.3333333333333333,
             "#9c179e"
            ],
            [
             0.4444444444444444,
             "#bd3786"
            ],
            [
             0.5555555555555556,
             "#d8576b"
            ],
            [
             0.6666666666666666,
             "#ed7953"
            ],
            [
             0.7777777777777778,
             "#fb9f3a"
            ],
            [
             0.8888888888888888,
             "#fdca26"
            ],
            [
             1,
             "#f0f921"
            ]
           ]
          },
          "colorway": [
           "#636efa",
           "#EF553B",
           "#00cc96",
           "#ab63fa",
           "#FFA15A",
           "#19d3f3",
           "#FF6692",
           "#B6E880",
           "#FF97FF",
           "#FECB52"
          ],
          "font": {
           "color": "#2a3f5f"
          },
          "geo": {
           "bgcolor": "white",
           "lakecolor": "white",
           "landcolor": "#E5ECF6",
           "showlakes": true,
           "showland": true,
           "subunitcolor": "white"
          },
          "hoverlabel": {
           "align": "left"
          },
          "hovermode": "closest",
          "mapbox": {
           "style": "light"
          },
          "paper_bgcolor": "white",
          "plot_bgcolor": "#E5ECF6",
          "polar": {
           "angularaxis": {
            "gridcolor": "white",
            "linecolor": "white",
            "ticks": ""
           },
           "bgcolor": "#E5ECF6",
           "radialaxis": {
            "gridcolor": "white",
            "linecolor": "white",
            "ticks": ""
           }
          },
          "scene": {
           "xaxis": {
            "backgroundcolor": "#E5ECF6",
            "gridcolor": "white",
            "gridwidth": 2,
            "linecolor": "white",
            "showbackground": true,
            "ticks": "",
            "zerolinecolor": "white"
           },
           "yaxis": {
            "backgroundcolor": "#E5ECF6",
            "gridcolor": "white",
            "gridwidth": 2,
            "linecolor": "white",
            "showbackground": true,
            "ticks": "",
            "zerolinecolor": "white"
           },
           "zaxis": {
            "backgroundcolor": "#E5ECF6",
            "gridcolor": "white",
            "gridwidth": 2,
            "linecolor": "white",
            "showbackground": true,
            "ticks": "",
            "zerolinecolor": "white"
           }
          },
          "shapedefaults": {
           "line": {
            "color": "#2a3f5f"
           }
          },
          "ternary": {
           "aaxis": {
            "gridcolor": "white",
            "linecolor": "white",
            "ticks": ""
           },
           "baxis": {
            "gridcolor": "white",
            "linecolor": "white",
            "ticks": ""
           },
           "bgcolor": "#E5ECF6",
           "caxis": {
            "gridcolor": "white",
            "linecolor": "white",
            "ticks": ""
           }
          },
          "title": {
           "x": 0.05
          },
          "xaxis": {
           "automargin": true,
           "gridcolor": "white",
           "linecolor": "white",
           "ticks": "",
           "title": {
            "standoff": 15
           },
           "zerolinecolor": "white",
           "zerolinewidth": 2
          },
          "yaxis": {
           "automargin": true,
           "gridcolor": "white",
           "linecolor": "white",
           "ticks": "",
           "title": {
            "standoff": 15
           },
           "zerolinecolor": "white",
           "zerolinewidth": 2
          }
         }
        },
        "xaxis": {
         "anchor": "y",
         "domain": [
          0,
          1
         ],
         "title": {
          "text": "EventDateTime_soft"
         }
        },
        "yaxis": {
         "anchor": "x",
         "domain": [
          0,
          1
         ],
         "title": {
          "text": "ConversionRate"
         }
        }
       }
      }
     },
     "metadata": {},
     "output_type": "display_data"
    }
   ],
   "source": [
    "import plotly.express as px\n",
    "fig = px.line(create_conversionRate(df,  \"hot\"),\n",
    "                        x='EventDateTime_soft', y='ConversionRate', color='EventType', markers=True,\n",
    "                        text='ConversionRate')\n",
    "\n",
    "fig.update_traces(textposition='bottom center')"
   ]
  },
  {
   "cell_type": "code",
   "execution_count": 23,
   "metadata": {},
   "outputs": [],
   "source": [
    "def create_conversionRate(df, event):\n",
    "\n",
    "    result = df.groupby([df['EventDateTime_soft'].dt.to_period(\"M\") ]).agg(\n",
    "        total_rows=pd.NamedAgg(column='EventDateTime_soft', aggfunc='size'),\n",
    "        count_values_positives=pd.NamedAgg(column='FundingIn2weeks_' + event, aggfunc=lambda x: sum(x == 1))\n",
    "    ).reset_index()\n",
    "\n",
    "    pan = df.groupby([df['EventDateTime_soft'].dt.to_period(\"M\"),\"Platform\" ]).agg(\n",
    "        platform_count=('Platform', 'size')\n",
    "    ).reset_index()\n",
    "\n",
    "\n",
    "    result[\"ConversionRate\"] = ( result[\"count_values_positives\"] / result[\"total_rows\"] ) * 100\n",
    "\n",
    "    result['ConversionRate'] = result['ConversionRate'].round(2)  \n",
    "\n",
    "    #result[\"ConversionRate\"] = result[\"ConversionRate\"].astype(str) \n",
    "\n",
    "    #result[\"ConversionRate\"]  = result[\"ConversionRate\"]  + \"%\"\n",
    "\n",
    "    result['EventDateTime_soft'] = result['EventDateTime_soft'].dt.to_timestamp().dt.strftime('%Y-%m')\n",
    "    #result['EventDateTime_soft'] = pd.to_datetime(result['EventDateTime_soft'].dt.to_timestamp())\n",
    "\n",
    "    pan['EventDateTime_soft'] = pan['EventDateTime_soft'].dt.to_timestamp().dt.strftime('%Y-%m')\n",
    "    #pan['EventDateTime_soft'] = pd.to_datetime(pan['EventDateTime_soft'].dt.to_timestamp())\n",
    "\n",
    "\n",
    "    result[\"EventType\"] =  [df[\"EventType_\"  + event].dropna().unique()[0]] * len(result.index)\n",
    "\n",
    "    result \n",
    "    \n",
    "    return result, pan"
   ]
  },
  {
   "cell_type": "code",
   "execution_count": 24,
   "metadata": {},
   "outputs": [],
   "source": [
    "df[ 'EventDateTime_soft' ] = pd.to_datetime(df[ 'EventDateTime_soft'], format=\"%Y-%m-%dT%H:%M:%S%z\")\n",
    "df[ 'EventDateTime_soft' ] = df[\"EventDateTime_soft\"].dt.date\n",
    "df[ 'EventDateTime_soft' ] = pd.to_datetime(df[ 'EventDateTime_soft'], format=\"%Y-%m-%d\")\n"
   ]
  },
  {
   "cell_type": "code",
   "execution_count": 25,
   "metadata": {},
   "outputs": [],
   "source": [
    "df1, df2 = create_conversionRate(df,  \"hot\")"
   ]
  },
  {
   "cell_type": "code",
   "execution_count": 26,
   "metadata": {},
   "outputs": [],
   "source": [
    "df3, df4 = create_conversionRate(df,  \"mobile\")"
   ]
  },
  {
   "cell_type": "code",
   "execution_count": 27,
   "metadata": {},
   "outputs": [],
   "source": [
    "df1 = pd.concat([df1, df3])"
   ]
  },
  {
   "cell_type": "code",
   "execution_count": 29,
   "metadata": {},
   "outputs": [
    {
     "data": {
      "application/vnd.plotly.v1+json": {
       "config": {
        "plotlyServerURL": "https://plot.ly"
       },
       "data": [
        {
         "name": "Android",
         "type": "bar",
         "x": [
          "2023-06",
          "2023-07",
          "2023-08",
          "2023-09",
          "2023-10",
          "2023-11",
          "2023-12"
         ],
         "xaxis": "x",
         "y": [
          103,
          143,
          150,
          136,
          2413,
          3039,
          634
         ],
         "yaxis": "y"
        },
        {
         "name": "iOS",
         "type": "bar",
         "x": [
          "2023-06",
          "2023-07",
          "2023-08",
          "2023-09",
          "2023-10",
          "2023-11",
          "2023-12"
         ],
         "xaxis": "x",
         "y": [
          2503,
          4208,
          3137,
          2710,
          2844,
          4217,
          2371
         ],
         "yaxis": "y"
        },
        {
         "mode": "lines+markers",
         "name": "HOT_LEAD",
         "type": "scatter",
         "x": [
          "2023-01",
          "2023-02",
          "2023-03",
          "2023-04",
          "2023-05",
          "2023-06",
          "2023-07",
          "2023-08",
          "2023-09",
          "2023-10",
          "2023-11",
          "2023-12"
         ],
         "xaxis": "x",
         "y": [
          88.93,
          89.8,
          88.72,
          87.4,
          82.26,
          85.79,
          85.8,
          83.99,
          84.82,
          88.93,
          89.24,
          88.67
         ],
         "yaxis": "y2"
        },
        {
         "mode": "lines+markers",
         "name": "MOBILE_VERIFIED",
         "type": "scatter",
         "x": [
          "2023-01",
          "2023-02",
          "2023-03",
          "2023-04",
          "2023-05",
          "2023-06",
          "2023-07",
          "2023-08",
          "2023-09",
          "2023-10",
          "2023-11",
          "2023-12"
         ],
         "xaxis": "x",
         "y": [
          82.3,
          81.83,
          81.46,
          80.32,
          59.48,
          75.77,
          76.22,
          70.47,
          73.9,
          64.68,
          12.37,
          9.03
         ],
         "yaxis": "y2"
        }
       ],
       "layout": {
        "template": {
         "data": {
          "bar": [
           {
            "error_x": {
             "color": "#2a3f5f"
            },
            "error_y": {
             "color": "#2a3f5f"
            },
            "marker": {
             "line": {
              "color": "#E5ECF6",
              "width": 0.5
             },
             "pattern": {
              "fillmode": "overlay",
              "size": 10,
              "solidity": 0.2
             }
            },
            "type": "bar"
           }
          ],
          "barpolar": [
           {
            "marker": {
             "line": {
              "color": "#E5ECF6",
              "width": 0.5
             },
             "pattern": {
              "fillmode": "overlay",
              "size": 10,
              "solidity": 0.2
             }
            },
            "type": "barpolar"
           }
          ],
          "carpet": [
           {
            "aaxis": {
             "endlinecolor": "#2a3f5f",
             "gridcolor": "white",
             "linecolor": "white",
             "minorgridcolor": "white",
             "startlinecolor": "#2a3f5f"
            },
            "baxis": {
             "endlinecolor": "#2a3f5f",
             "gridcolor": "white",
             "linecolor": "white",
             "minorgridcolor": "white",
             "startlinecolor": "#2a3f5f"
            },
            "type": "carpet"
           }
          ],
          "choropleth": [
           {
            "colorbar": {
             "outlinewidth": 0,
             "ticks": ""
            },
            "type": "choropleth"
           }
          ],
          "contour": [
           {
            "colorbar": {
             "outlinewidth": 0,
             "ticks": ""
            },
            "colorscale": [
             [
              0,
              "#0d0887"
             ],
             [
              0.1111111111111111,
              "#46039f"
             ],
             [
              0.2222222222222222,
              "#7201a8"
             ],
             [
              0.3333333333333333,
              "#9c179e"
             ],
             [
              0.4444444444444444,
              "#bd3786"
             ],
             [
              0.5555555555555556,
              "#d8576b"
             ],
             [
              0.6666666666666666,
              "#ed7953"
             ],
             [
              0.7777777777777778,
              "#fb9f3a"
             ],
             [
              0.8888888888888888,
              "#fdca26"
             ],
             [
              1,
              "#f0f921"
             ]
            ],
            "type": "contour"
           }
          ],
          "contourcarpet": [
           {
            "colorbar": {
             "outlinewidth": 0,
             "ticks": ""
            },
            "type": "contourcarpet"
           }
          ],
          "heatmap": [
           {
            "colorbar": {
             "outlinewidth": 0,
             "ticks": ""
            },
            "colorscale": [
             [
              0,
              "#0d0887"
             ],
             [
              0.1111111111111111,
              "#46039f"
             ],
             [
              0.2222222222222222,
              "#7201a8"
             ],
             [
              0.3333333333333333,
              "#9c179e"
             ],
             [
              0.4444444444444444,
              "#bd3786"
             ],
             [
              0.5555555555555556,
              "#d8576b"
             ],
             [
              0.6666666666666666,
              "#ed7953"
             ],
             [
              0.7777777777777778,
              "#fb9f3a"
             ],
             [
              0.8888888888888888,
              "#fdca26"
             ],
             [
              1,
              "#f0f921"
             ]
            ],
            "type": "heatmap"
           }
          ],
          "heatmapgl": [
           {
            "colorbar": {
             "outlinewidth": 0,
             "ticks": ""
            },
            "colorscale": [
             [
              0,
              "#0d0887"
             ],
             [
              0.1111111111111111,
              "#46039f"
             ],
             [
              0.2222222222222222,
              "#7201a8"
             ],
             [
              0.3333333333333333,
              "#9c179e"
             ],
             [
              0.4444444444444444,
              "#bd3786"
             ],
             [
              0.5555555555555556,
              "#d8576b"
             ],
             [
              0.6666666666666666,
              "#ed7953"
             ],
             [
              0.7777777777777778,
              "#fb9f3a"
             ],
             [
              0.8888888888888888,
              "#fdca26"
             ],
             [
              1,
              "#f0f921"
             ]
            ],
            "type": "heatmapgl"
           }
          ],
          "histogram": [
           {
            "marker": {
             "pattern": {
              "fillmode": "overlay",
              "size": 10,
              "solidity": 0.2
             }
            },
            "type": "histogram"
           }
          ],
          "histogram2d": [
           {
            "colorbar": {
             "outlinewidth": 0,
             "ticks": ""
            },
            "colorscale": [
             [
              0,
              "#0d0887"
             ],
             [
              0.1111111111111111,
              "#46039f"
             ],
             [
              0.2222222222222222,
              "#7201a8"
             ],
             [
              0.3333333333333333,
              "#9c179e"
             ],
             [
              0.4444444444444444,
              "#bd3786"
             ],
             [
              0.5555555555555556,
              "#d8576b"
             ],
             [
              0.6666666666666666,
              "#ed7953"
             ],
             [
              0.7777777777777778,
              "#fb9f3a"
             ],
             [
              0.8888888888888888,
              "#fdca26"
             ],
             [
              1,
              "#f0f921"
             ]
            ],
            "type": "histogram2d"
           }
          ],
          "histogram2dcontour": [
           {
            "colorbar": {
             "outlinewidth": 0,
             "ticks": ""
            },
            "colorscale": [
             [
              0,
              "#0d0887"
             ],
             [
              0.1111111111111111,
              "#46039f"
             ],
             [
              0.2222222222222222,
              "#7201a8"
             ],
             [
              0.3333333333333333,
              "#9c179e"
             ],
             [
              0.4444444444444444,
              "#bd3786"
             ],
             [
              0.5555555555555556,
              "#d8576b"
             ],
             [
              0.6666666666666666,
              "#ed7953"
             ],
             [
              0.7777777777777778,
              "#fb9f3a"
             ],
             [
              0.8888888888888888,
              "#fdca26"
             ],
             [
              1,
              "#f0f921"
             ]
            ],
            "type": "histogram2dcontour"
           }
          ],
          "mesh3d": [
           {
            "colorbar": {
             "outlinewidth": 0,
             "ticks": ""
            },
            "type": "mesh3d"
           }
          ],
          "parcoords": [
           {
            "line": {
             "colorbar": {
              "outlinewidth": 0,
              "ticks": ""
             }
            },
            "type": "parcoords"
           }
          ],
          "pie": [
           {
            "automargin": true,
            "type": "pie"
           }
          ],
          "scatter": [
           {
            "fillpattern": {
             "fillmode": "overlay",
             "size": 10,
             "solidity": 0.2
            },
            "type": "scatter"
           }
          ],
          "scatter3d": [
           {
            "line": {
             "colorbar": {
              "outlinewidth": 0,
              "ticks": ""
             }
            },
            "marker": {
             "colorbar": {
              "outlinewidth": 0,
              "ticks": ""
             }
            },
            "type": "scatter3d"
           }
          ],
          "scattercarpet": [
           {
            "marker": {
             "colorbar": {
              "outlinewidth": 0,
              "ticks": ""
             }
            },
            "type": "scattercarpet"
           }
          ],
          "scattergeo": [
           {
            "marker": {
             "colorbar": {
              "outlinewidth": 0,
              "ticks": ""
             }
            },
            "type": "scattergeo"
           }
          ],
          "scattergl": [
           {
            "marker": {
             "colorbar": {
              "outlinewidth": 0,
              "ticks": ""
             }
            },
            "type": "scattergl"
           }
          ],
          "scattermapbox": [
           {
            "marker": {
             "colorbar": {
              "outlinewidth": 0,
              "ticks": ""
             }
            },
            "type": "scattermapbox"
           }
          ],
          "scatterpolar": [
           {
            "marker": {
             "colorbar": {
              "outlinewidth": 0,
              "ticks": ""
             }
            },
            "type": "scatterpolar"
           }
          ],
          "scatterpolargl": [
           {
            "marker": {
             "colorbar": {
              "outlinewidth": 0,
              "ticks": ""
             }
            },
            "type": "scatterpolargl"
           }
          ],
          "scatterternary": [
           {
            "marker": {
             "colorbar": {
              "outlinewidth": 0,
              "ticks": ""
             }
            },
            "type": "scatterternary"
           }
          ],
          "surface": [
           {
            "colorbar": {
             "outlinewidth": 0,
             "ticks": ""
            },
            "colorscale": [
             [
              0,
              "#0d0887"
             ],
             [
              0.1111111111111111,
              "#46039f"
             ],
             [
              0.2222222222222222,
              "#7201a8"
             ],
             [
              0.3333333333333333,
              "#9c179e"
             ],
             [
              0.4444444444444444,
              "#bd3786"
             ],
             [
              0.5555555555555556,
              "#d8576b"
             ],
             [
              0.6666666666666666,
              "#ed7953"
             ],
             [
              0.7777777777777778,
              "#fb9f3a"
             ],
             [
              0.8888888888888888,
              "#fdca26"
             ],
             [
              1,
              "#f0f921"
             ]
            ],
            "type": "surface"
           }
          ],
          "table": [
           {
            "cells": {
             "fill": {
              "color": "#EBF0F8"
             },
             "line": {
              "color": "white"
             }
            },
            "header": {
             "fill": {
              "color": "#C8D4E3"
             },
             "line": {
              "color": "white"
             }
            },
            "type": "table"
           }
          ]
         },
         "layout": {
          "annotationdefaults": {
           "arrowcolor": "#2a3f5f",
           "arrowhead": 0,
           "arrowwidth": 1
          },
          "autotypenumbers": "strict",
          "coloraxis": {
           "colorbar": {
            "outlinewidth": 0,
            "ticks": ""
           }
          },
          "colorscale": {
           "diverging": [
            [
             0,
             "#8e0152"
            ],
            [
             0.1,
             "#c51b7d"
            ],
            [
             0.2,
             "#de77ae"
            ],
            [
             0.3,
             "#f1b6da"
            ],
            [
             0.4,
             "#fde0ef"
            ],
            [
             0.5,
             "#f7f7f7"
            ],
            [
             0.6,
             "#e6f5d0"
            ],
            [
             0.7,
             "#b8e186"
            ],
            [
             0.8,
             "#7fbc41"
            ],
            [
             0.9,
             "#4d9221"
            ],
            [
             1,
             "#276419"
            ]
           ],
           "sequential": [
            [
             0,
             "#0d0887"
            ],
            [
             0.1111111111111111,
             "#46039f"
            ],
            [
             0.2222222222222222,
             "#7201a8"
            ],
            [
             0.3333333333333333,
             "#9c179e"
            ],
            [
             0.4444444444444444,
             "#bd3786"
            ],
            [
             0.5555555555555556,
             "#d8576b"
            ],
            [
             0.6666666666666666,
             "#ed7953"
            ],
            [
             0.7777777777777778,
             "#fb9f3a"
            ],
            [
             0.8888888888888888,
             "#fdca26"
            ],
            [
             1,
             "#f0f921"
            ]
           ],
           "sequentialminus": [
            [
             0,
             "#0d0887"
            ],
            [
             0.1111111111111111,
             "#46039f"
            ],
            [
             0.2222222222222222,
             "#7201a8"
            ],
            [
             0.3333333333333333,
             "#9c179e"
            ],
            [
             0.4444444444444444,
             "#bd3786"
            ],
            [
             0.5555555555555556,
             "#d8576b"
            ],
            [
             0.6666666666666666,
             "#ed7953"
            ],
            [
             0.7777777777777778,
             "#fb9f3a"
            ],
            [
             0.8888888888888888,
             "#fdca26"
            ],
            [
             1,
             "#f0f921"
            ]
           ]
          },
          "colorway": [
           "#636efa",
           "#EF553B",
           "#00cc96",
           "#ab63fa",
           "#FFA15A",
           "#19d3f3",
           "#FF6692",
           "#B6E880",
           "#FF97FF",
           "#FECB52"
          ],
          "font": {
           "color": "#2a3f5f"
          },
          "geo": {
           "bgcolor": "white",
           "lakecolor": "white",
           "landcolor": "#E5ECF6",
           "showlakes": true,
           "showland": true,
           "subunitcolor": "white"
          },
          "hoverlabel": {
           "align": "left"
          },
          "hovermode": "closest",
          "mapbox": {
           "style": "light"
          },
          "paper_bgcolor": "white",
          "plot_bgcolor": "#E5ECF6",
          "polar": {
           "angularaxis": {
            "gridcolor": "white",
            "linecolor": "white",
            "ticks": ""
           },
           "bgcolor": "#E5ECF6",
           "radialaxis": {
            "gridcolor": "white",
            "linecolor": "white",
            "ticks": ""
           }
          },
          "scene": {
           "xaxis": {
            "backgroundcolor": "#E5ECF6",
            "gridcolor": "white",
            "gridwidth": 2,
            "linecolor": "white",
            "showbackground": true,
            "ticks": "",
            "zerolinecolor": "white"
           },
           "yaxis": {
            "backgroundcolor": "#E5ECF6",
            "gridcolor": "white",
            "gridwidth": 2,
            "linecolor": "white",
            "showbackground": true,
            "ticks": "",
            "zerolinecolor": "white"
           },
           "zaxis": {
            "backgroundcolor": "#E5ECF6",
            "gridcolor": "white",
            "gridwidth": 2,
            "linecolor": "white",
            "showbackground": true,
            "ticks": "",
            "zerolinecolor": "white"
           }
          },
          "shapedefaults": {
           "line": {
            "color": "#2a3f5f"
           }
          },
          "ternary": {
           "aaxis": {
            "gridcolor": "white",
            "linecolor": "white",
            "ticks": ""
           },
           "baxis": {
            "gridcolor": "white",
            "linecolor": "white",
            "ticks": ""
           },
           "bgcolor": "#E5ECF6",
           "caxis": {
            "gridcolor": "white",
            "linecolor": "white",
            "ticks": ""
           }
          },
          "title": {
           "x": 0.05
          },
          "xaxis": {
           "automargin": true,
           "gridcolor": "white",
           "linecolor": "white",
           "ticks": "",
           "title": {
            "standoff": 15
           },
           "zerolinecolor": "white",
           "zerolinewidth": 2
          },
          "yaxis": {
           "automargin": true,
           "gridcolor": "white",
           "linecolor": "white",
           "ticks": "",
           "title": {
            "standoff": 15
           },
           "zerolinecolor": "white",
           "zerolinewidth": 2
          }
         }
        },
        "xaxis": {
         "anchor": "y",
         "domain": [
          0,
          0.94
         ]
        },
        "yaxis": {
         "anchor": "x",
         "domain": [
          0,
          1
         ]
        },
        "yaxis2": {
         "anchor": "x",
         "overlaying": "y",
         "side": "right",
         "ticksuffix": "%",
         "title": {
          "text": "Conversion Rate"
         }
        }
       }
      }
     },
     "metadata": {},
     "output_type": "display_data"
    }
   ],
   "source": [
    "import plotly.graph_objects as go\n",
    "from plotly.subplots import make_subplots\n",
    "import pandas as pd\n",
    "\n",
    "# Create subplots with one trace for the bar chart and another trace for the line plot\n",
    "fig = make_subplots(specs=[[{\"secondary_y\": True}]])\n",
    "\n",
    "# Bar chart for the second DataFrame\n",
    "for platform in df2['Platform'].unique():\n",
    "    platform_data = df2[df2['Platform'] == platform]\n",
    "    fig.add_trace(go.Bar(x=platform_data['EventDateTime_soft'], y=platform_data['platform_count'], name=platform), secondary_y=False)\n",
    "\n",
    "# Line plot for the first DataFrame\n",
    "for conver in df1['EventType'].unique():\n",
    "    conver_data = df1[df1['EventType'] == conver]\n",
    "    fig.add_trace(go.Scatter(x=conver_data['EventDateTime_soft'], y=conver_data['ConversionRate'], mode='lines+markers', name=conver), secondary_y=True)\n",
    "# Update layout to show the secondary y-axis\n",
    "fig.update_layout(\n",
    "    yaxis2=dict(\n",
    "        title='Conversion Rate',\n",
    "        overlaying='y',\n",
    "        side='right',\n",
    "        ticksuffix='%'\n",
    "    )\n",
    ")\n",
    "fig.show()\n"
   ]
  }
 ],
 "metadata": {
  "kernelspec": {
   "display_name": "Python 3",
   "language": "python",
   "name": "python3"
  },
  "language_info": {
   "codemirror_mode": {
    "name": "ipython",
    "version": 3
   },
   "file_extension": ".py",
   "mimetype": "text/x-python",
   "name": "python",
   "nbconvert_exporter": "python",
   "pygments_lexer": "ipython3",
   "version": "3.11.6"
  }
 },
 "nbformat": 4,
 "nbformat_minor": 2
}
