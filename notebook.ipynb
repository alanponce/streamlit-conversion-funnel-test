{
 "cells": [
  {
   "cell_type": "code",
   "execution_count": 11,
   "metadata": {},
   "outputs": [],
   "source": [
    "import pandas as pd"
   ]
  },
  {
   "cell_type": "code",
   "execution_count": 12,
   "metadata": {},
   "outputs": [
    {
     "name": "stderr",
     "output_type": "stream",
     "text": [
      "C:\\Users\\PC\\AppData\\Local\\Temp\\ipykernel_15956\\617503286.py:1: DtypeWarning: Columns (6,7) have mixed types. Specify dtype option on import or set low_memory=False.\n",
      "  df = pd.read_csv(\"data/final_df_20231215.csv\")\n"
     ]
    }
   ],
   "source": [
    "df = pd.read_csv(\"data/final_df_20231215.csv\")\n",
    "df[ 'EventDateTime_soft' ] = pd.to_datetime(df[ 'EventDateTime_soft'], format=\"%Y-%m-%dT%H:%M:%S%z\")\n",
    "df[ 'EventDateTime_soft' ] = df[\"EventDateTime_soft\"].dt.date\n"
   ]
  },
  {
   "cell_type": "code",
   "execution_count": 13,
   "metadata": {},
   "outputs": [
    {
     "data": {
      "text/html": [
       "<div>\n",
       "<style scoped>\n",
       "    .dataframe tbody tr th:only-of-type {\n",
       "        vertical-align: middle;\n",
       "    }\n",
       "\n",
       "    .dataframe tbody tr th {\n",
       "        vertical-align: top;\n",
       "    }\n",
       "\n",
       "    .dataframe thead th {\n",
       "        text-align: right;\n",
       "    }\n",
       "</style>\n",
       "<table border=\"1\" class=\"dataframe\">\n",
       "  <thead>\n",
       "    <tr style=\"text-align: right;\">\n",
       "      <th></th>\n",
       "      <th>UserId</th>\n",
       "      <th>EventType</th>\n",
       "      <th>EventType.1</th>\n",
       "      <th>EventType.2</th>\n",
       "      <th>EventType.3</th>\n",
       "      <th>EventDateTime</th>\n",
       "      <th>Platform</th>\n",
       "      <th>Platform.1</th>\n",
       "      <th>User.M.Age.N</th>\n",
       "      <th>User.M.Age.N.1</th>\n",
       "      <th>...</th>\n",
       "      <th>DateDifference_portafolioC</th>\n",
       "      <th>ConversionRate_portafolioC</th>\n",
       "      <th>EventType_identityV</th>\n",
       "      <th>EventDateTime_identityV</th>\n",
       "      <th>DateDifference_identityV</th>\n",
       "      <th>ConversionRate_identityV</th>\n",
       "      <th>EventType_accountIF</th>\n",
       "      <th>EventDateTime_accountIF</th>\n",
       "      <th>DateDifference_accountIF</th>\n",
       "      <th>ConversionRate_accountIF</th>\n",
       "    </tr>\n",
       "  </thead>\n",
       "  <tbody>\n",
       "    <tr>\n",
       "      <th>0</th>\n",
       "      <td>1112158</td>\n",
       "      <td>SOFT_LEAD</td>\n",
       "      <td>SOFT_LEAD</td>\n",
       "      <td>SOFT_LEAD</td>\n",
       "      <td>SOFT_LEAD</td>\n",
       "      <td>2023-01-01 00:32:48+00:00</td>\n",
       "      <td>NaN</td>\n",
       "      <td>NaN</td>\n",
       "      <td>NaN</td>\n",
       "      <td>NaN</td>\n",
       "      <td>...</td>\n",
       "      <td>NaN</td>\n",
       "      <td>28.71</td>\n",
       "      <td>NaN</td>\n",
       "      <td>NaN</td>\n",
       "      <td>NaN</td>\n",
       "      <td>24.75</td>\n",
       "      <td>NaN</td>\n",
       "      <td>NaN</td>\n",
       "      <td>NaN</td>\n",
       "      <td>12.87</td>\n",
       "    </tr>\n",
       "    <tr>\n",
       "      <th>1</th>\n",
       "      <td>1112159</td>\n",
       "      <td>SOFT_LEAD</td>\n",
       "      <td>SOFT_LEAD</td>\n",
       "      <td>SOFT_LEAD</td>\n",
       "      <td>SOFT_LEAD</td>\n",
       "      <td>2023-01-01 00:52:35+00:00</td>\n",
       "      <td>NaN</td>\n",
       "      <td>NaN</td>\n",
       "      <td>27.0</td>\n",
       "      <td>27.0</td>\n",
       "      <td>...</td>\n",
       "      <td>0.0</td>\n",
       "      <td>28.71</td>\n",
       "      <td>IDENTITY_VERIFIED</td>\n",
       "      <td>2023-01-08 15:10:20.931000+00:00</td>\n",
       "      <td>7.0</td>\n",
       "      <td>24.75</td>\n",
       "      <td>NaN</td>\n",
       "      <td>NaN</td>\n",
       "      <td>NaN</td>\n",
       "      <td>12.87</td>\n",
       "    </tr>\n",
       "    <tr>\n",
       "      <th>2</th>\n",
       "      <td>1112160</td>\n",
       "      <td>SOFT_LEAD</td>\n",
       "      <td>SOFT_LEAD</td>\n",
       "      <td>SOFT_LEAD</td>\n",
       "      <td>SOFT_LEAD</td>\n",
       "      <td>2023-01-01 01:07:16+00:00</td>\n",
       "      <td>NaN</td>\n",
       "      <td>NaN</td>\n",
       "      <td>NaN</td>\n",
       "      <td>NaN</td>\n",
       "      <td>...</td>\n",
       "      <td>NaN</td>\n",
       "      <td>28.71</td>\n",
       "      <td>NaN</td>\n",
       "      <td>NaN</td>\n",
       "      <td>NaN</td>\n",
       "      <td>24.75</td>\n",
       "      <td>NaN</td>\n",
       "      <td>NaN</td>\n",
       "      <td>NaN</td>\n",
       "      <td>12.87</td>\n",
       "    </tr>\n",
       "    <tr>\n",
       "      <th>3</th>\n",
       "      <td>1112161</td>\n",
       "      <td>SOFT_LEAD</td>\n",
       "      <td>SOFT_LEAD</td>\n",
       "      <td>SOFT_LEAD</td>\n",
       "      <td>SOFT_LEAD</td>\n",
       "      <td>2023-01-01 01:19:29+00:00</td>\n",
       "      <td>NaN</td>\n",
       "      <td>NaN</td>\n",
       "      <td>NaN</td>\n",
       "      <td>NaN</td>\n",
       "      <td>...</td>\n",
       "      <td>NaN</td>\n",
       "      <td>28.71</td>\n",
       "      <td>NaN</td>\n",
       "      <td>NaN</td>\n",
       "      <td>NaN</td>\n",
       "      <td>24.75</td>\n",
       "      <td>NaN</td>\n",
       "      <td>NaN</td>\n",
       "      <td>NaN</td>\n",
       "      <td>12.87</td>\n",
       "    </tr>\n",
       "    <tr>\n",
       "      <th>4</th>\n",
       "      <td>1112162</td>\n",
       "      <td>SOFT_LEAD</td>\n",
       "      <td>SOFT_LEAD</td>\n",
       "      <td>SOFT_LEAD</td>\n",
       "      <td>SOFT_LEAD</td>\n",
       "      <td>2023-01-01 01:19:39+00:00</td>\n",
       "      <td>NaN</td>\n",
       "      <td>NaN</td>\n",
       "      <td>NaN</td>\n",
       "      <td>NaN</td>\n",
       "      <td>...</td>\n",
       "      <td>NaN</td>\n",
       "      <td>28.71</td>\n",
       "      <td>NaN</td>\n",
       "      <td>NaN</td>\n",
       "      <td>NaN</td>\n",
       "      <td>24.75</td>\n",
       "      <td>NaN</td>\n",
       "      <td>NaN</td>\n",
       "      <td>NaN</td>\n",
       "      <td>12.87</td>\n",
       "    </tr>\n",
       "    <tr>\n",
       "      <th>...</th>\n",
       "      <td>...</td>\n",
       "      <td>...</td>\n",
       "      <td>...</td>\n",
       "      <td>...</td>\n",
       "      <td>...</td>\n",
       "      <td>...</td>\n",
       "      <td>...</td>\n",
       "      <td>...</td>\n",
       "      <td>...</td>\n",
       "      <td>...</td>\n",
       "      <td>...</td>\n",
       "      <td>...</td>\n",
       "      <td>...</td>\n",
       "      <td>...</td>\n",
       "      <td>...</td>\n",
       "      <td>...</td>\n",
       "      <td>...</td>\n",
       "      <td>...</td>\n",
       "      <td>...</td>\n",
       "      <td>...</td>\n",
       "      <td>...</td>\n",
       "    </tr>\n",
       "    <tr>\n",
       "      <th>51753</th>\n",
       "      <td>1164008</td>\n",
       "      <td>SOFT_LEAD</td>\n",
       "      <td>SOFT_LEAD</td>\n",
       "      <td>SOFT_LEAD</td>\n",
       "      <td>SOFT_LEAD</td>\n",
       "      <td>2023-12-15 07:03:42+00:00</td>\n",
       "      <td>iOS</td>\n",
       "      <td>iOS</td>\n",
       "      <td>26.0</td>\n",
       "      <td>26.0</td>\n",
       "      <td>...</td>\n",
       "      <td>0.0</td>\n",
       "      <td>23.21</td>\n",
       "      <td>NaN</td>\n",
       "      <td>NaN</td>\n",
       "      <td>NaN</td>\n",
       "      <td>19.64</td>\n",
       "      <td>NaN</td>\n",
       "      <td>NaN</td>\n",
       "      <td>NaN</td>\n",
       "      <td>3.57</td>\n",
       "    </tr>\n",
       "    <tr>\n",
       "      <th>51754</th>\n",
       "      <td>1164009</td>\n",
       "      <td>SOFT_LEAD</td>\n",
       "      <td>SOFT_LEAD</td>\n",
       "      <td>SOFT_LEAD</td>\n",
       "      <td>SOFT_LEAD</td>\n",
       "      <td>2023-12-15 07:26:43+00:00</td>\n",
       "      <td>iOS</td>\n",
       "      <td>iOS</td>\n",
       "      <td>24.0</td>\n",
       "      <td>24.0</td>\n",
       "      <td>...</td>\n",
       "      <td>NaN</td>\n",
       "      <td>23.21</td>\n",
       "      <td>NaN</td>\n",
       "      <td>NaN</td>\n",
       "      <td>NaN</td>\n",
       "      <td>19.64</td>\n",
       "      <td>NaN</td>\n",
       "      <td>NaN</td>\n",
       "      <td>NaN</td>\n",
       "      <td>3.57</td>\n",
       "    </tr>\n",
       "    <tr>\n",
       "      <th>51755</th>\n",
       "      <td>1164010</td>\n",
       "      <td>SOFT_LEAD</td>\n",
       "      <td>SOFT_LEAD</td>\n",
       "      <td>SOFT_LEAD</td>\n",
       "      <td>SOFT_LEAD</td>\n",
       "      <td>2023-12-15 08:13:10+00:00</td>\n",
       "      <td>iOS</td>\n",
       "      <td>iOS</td>\n",
       "      <td>NaN</td>\n",
       "      <td>NaN</td>\n",
       "      <td>...</td>\n",
       "      <td>NaN</td>\n",
       "      <td>23.21</td>\n",
       "      <td>NaN</td>\n",
       "      <td>NaN</td>\n",
       "      <td>NaN</td>\n",
       "      <td>19.64</td>\n",
       "      <td>NaN</td>\n",
       "      <td>NaN</td>\n",
       "      <td>NaN</td>\n",
       "      <td>3.57</td>\n",
       "    </tr>\n",
       "    <tr>\n",
       "      <th>51756</th>\n",
       "      <td>1164011</td>\n",
       "      <td>SOFT_LEAD</td>\n",
       "      <td>SOFT_LEAD</td>\n",
       "      <td>SOFT_LEAD</td>\n",
       "      <td>SOFT_LEAD</td>\n",
       "      <td>2023-12-15 08:31:43+00:00</td>\n",
       "      <td>iOS</td>\n",
       "      <td>iOS</td>\n",
       "      <td>NaN</td>\n",
       "      <td>NaN</td>\n",
       "      <td>...</td>\n",
       "      <td>NaN</td>\n",
       "      <td>23.21</td>\n",
       "      <td>NaN</td>\n",
       "      <td>NaN</td>\n",
       "      <td>NaN</td>\n",
       "      <td>19.64</td>\n",
       "      <td>NaN</td>\n",
       "      <td>NaN</td>\n",
       "      <td>NaN</td>\n",
       "      <td>3.57</td>\n",
       "    </tr>\n",
       "    <tr>\n",
       "      <th>51757</th>\n",
       "      <td>1164012</td>\n",
       "      <td>SOFT_LEAD</td>\n",
       "      <td>SOFT_LEAD</td>\n",
       "      <td>SOFT_LEAD</td>\n",
       "      <td>SOFT_LEAD</td>\n",
       "      <td>2023-12-15 08:50:00+00:00</td>\n",
       "      <td>iOS</td>\n",
       "      <td>iOS</td>\n",
       "      <td>NaN</td>\n",
       "      <td>NaN</td>\n",
       "      <td>...</td>\n",
       "      <td>NaN</td>\n",
       "      <td>23.21</td>\n",
       "      <td>NaN</td>\n",
       "      <td>NaN</td>\n",
       "      <td>NaN</td>\n",
       "      <td>19.64</td>\n",
       "      <td>NaN</td>\n",
       "      <td>NaN</td>\n",
       "      <td>NaN</td>\n",
       "      <td>3.57</td>\n",
       "    </tr>\n",
       "  </tbody>\n",
       "</table>\n",
       "<p>51758 rows × 64 columns</p>\n",
       "</div>"
      ],
      "text/plain": [
       "        UserId  EventType EventType.1 EventType.2 EventType.3  \\\n",
       "0      1112158  SOFT_LEAD   SOFT_LEAD   SOFT_LEAD   SOFT_LEAD   \n",
       "1      1112159  SOFT_LEAD   SOFT_LEAD   SOFT_LEAD   SOFT_LEAD   \n",
       "2      1112160  SOFT_LEAD   SOFT_LEAD   SOFT_LEAD   SOFT_LEAD   \n",
       "3      1112161  SOFT_LEAD   SOFT_LEAD   SOFT_LEAD   SOFT_LEAD   \n",
       "4      1112162  SOFT_LEAD   SOFT_LEAD   SOFT_LEAD   SOFT_LEAD   \n",
       "...        ...        ...         ...         ...         ...   \n",
       "51753  1164008  SOFT_LEAD   SOFT_LEAD   SOFT_LEAD   SOFT_LEAD   \n",
       "51754  1164009  SOFT_LEAD   SOFT_LEAD   SOFT_LEAD   SOFT_LEAD   \n",
       "51755  1164010  SOFT_LEAD   SOFT_LEAD   SOFT_LEAD   SOFT_LEAD   \n",
       "51756  1164011  SOFT_LEAD   SOFT_LEAD   SOFT_LEAD   SOFT_LEAD   \n",
       "51757  1164012  SOFT_LEAD   SOFT_LEAD   SOFT_LEAD   SOFT_LEAD   \n",
       "\n",
       "                   EventDateTime Platform Platform.1  User.M.Age.N  \\\n",
       "0      2023-01-01 00:32:48+00:00      NaN        NaN           NaN   \n",
       "1      2023-01-01 00:52:35+00:00      NaN        NaN          27.0   \n",
       "2      2023-01-01 01:07:16+00:00      NaN        NaN           NaN   \n",
       "3      2023-01-01 01:19:29+00:00      NaN        NaN           NaN   \n",
       "4      2023-01-01 01:19:39+00:00      NaN        NaN           NaN   \n",
       "...                          ...      ...        ...           ...   \n",
       "51753  2023-12-15 07:03:42+00:00      iOS        iOS          26.0   \n",
       "51754  2023-12-15 07:26:43+00:00      iOS        iOS          24.0   \n",
       "51755  2023-12-15 08:13:10+00:00      iOS        iOS           NaN   \n",
       "51756  2023-12-15 08:31:43+00:00      iOS        iOS           NaN   \n",
       "51757  2023-12-15 08:50:00+00:00      iOS        iOS           NaN   \n",
       "\n",
       "       User.M.Age.N.1  ...  DateDifference_portafolioC  \\\n",
       "0                 NaN  ...                         NaN   \n",
       "1                27.0  ...                         0.0   \n",
       "2                 NaN  ...                         NaN   \n",
       "3                 NaN  ...                         NaN   \n",
       "4                 NaN  ...                         NaN   \n",
       "...               ...  ...                         ...   \n",
       "51753            26.0  ...                         0.0   \n",
       "51754            24.0  ...                         NaN   \n",
       "51755             NaN  ...                         NaN   \n",
       "51756             NaN  ...                         NaN   \n",
       "51757             NaN  ...                         NaN   \n",
       "\n",
       "       ConversionRate_portafolioC EventType_identityV  \\\n",
       "0                           28.71                 NaN   \n",
       "1                           28.71   IDENTITY_VERIFIED   \n",
       "2                           28.71                 NaN   \n",
       "3                           28.71                 NaN   \n",
       "4                           28.71                 NaN   \n",
       "...                           ...                 ...   \n",
       "51753                       23.21                 NaN   \n",
       "51754                       23.21                 NaN   \n",
       "51755                       23.21                 NaN   \n",
       "51756                       23.21                 NaN   \n",
       "51757                       23.21                 NaN   \n",
       "\n",
       "                EventDateTime_identityV DateDifference_identityV  \\\n",
       "0                                   NaN                      NaN   \n",
       "1      2023-01-08 15:10:20.931000+00:00                      7.0   \n",
       "2                                   NaN                      NaN   \n",
       "3                                   NaN                      NaN   \n",
       "4                                   NaN                      NaN   \n",
       "...                                 ...                      ...   \n",
       "51753                               NaN                      NaN   \n",
       "51754                               NaN                      NaN   \n",
       "51755                               NaN                      NaN   \n",
       "51756                               NaN                      NaN   \n",
       "51757                               NaN                      NaN   \n",
       "\n",
       "      ConversionRate_identityV EventType_accountIF EventDateTime_accountIF  \\\n",
       "0                        24.75                 NaN                     NaN   \n",
       "1                        24.75                 NaN                     NaN   \n",
       "2                        24.75                 NaN                     NaN   \n",
       "3                        24.75                 NaN                     NaN   \n",
       "4                        24.75                 NaN                     NaN   \n",
       "...                        ...                 ...                     ...   \n",
       "51753                    19.64                 NaN                     NaN   \n",
       "51754                    19.64                 NaN                     NaN   \n",
       "51755                    19.64                 NaN                     NaN   \n",
       "51756                    19.64                 NaN                     NaN   \n",
       "51757                    19.64                 NaN                     NaN   \n",
       "\n",
       "       DateDifference_accountIF  ConversionRate_accountIF  \n",
       "0                           NaN                     12.87  \n",
       "1                           NaN                     12.87  \n",
       "2                           NaN                     12.87  \n",
       "3                           NaN                     12.87  \n",
       "4                           NaN                     12.87  \n",
       "...                         ...                       ...  \n",
       "51753                       NaN                      3.57  \n",
       "51754                       NaN                      3.57  \n",
       "51755                       NaN                      3.57  \n",
       "51756                       NaN                      3.57  \n",
       "51757                       NaN                      3.57  \n",
       "\n",
       "[51758 rows x 64 columns]"
      ]
     },
     "execution_count": 13,
     "metadata": {},
     "output_type": "execute_result"
    }
   ],
   "source": [
    "df"
   ]
  },
  {
   "cell_type": "code",
   "execution_count": 14,
   "metadata": {},
   "outputs": [
    {
     "data": {
      "text/plain": [
       "Index(['UserId', 'EventType', 'EventType.1', 'EventType.2', 'EventType.3',\n",
       "       'EventDateTime', 'Platform', 'Platform.1', 'User.M.Age.N',\n",
       "       'User.M.Age.N.1', 'User.M.Income.N', 'User.M.Income.N.1',\n",
       "       'EventType_soft', 'EventType_soft.1', 'Soft_Day', 'EventDateTime_soft',\n",
       "       'EventType_hot', 'EventDateTime_hot', 'DateDifference_hot',\n",
       "       'ConversionRate_hot', 'EventType_mobile', 'EventDateTime_mobile',\n",
       "       'DateDifference_mobile', 'ConversionRate_mobile', 'EventType_emma',\n",
       "       'EventDateTime_emma', 'DateDifference_emma', 'ConversionRate_emma',\n",
       "       'EventType_identity', 'EventDateTime_identity',\n",
       "       'DateDifference_identity', 'ConversionRate_identity',\n",
       "       'EventType_address', 'EventDateTime_address', 'DateDifference_address',\n",
       "       'ConversionRate_address', 'EventType_disclosures',\n",
       "       'EventDateTime_disclosures', 'DateDifference_disclosures',\n",
       "       'ConversionRate_disclosures', 'EventType_agreements',\n",
       "       'EventDateTime_agreements', 'DateDifference_agreements',\n",
       "       'ConversionRate_agreements', 'EventType_financial',\n",
       "       'EventDateTime_financial', 'DateDifference_financial',\n",
       "       'ConversionRate_financial', 'EventType_portafolioS',\n",
       "       'EventDateTime_portafolioS', 'DateDifference_portafolioS',\n",
       "       'ConversionRate_portafolioS', 'EventType_portafolioC',\n",
       "       'EventDateTime_portafolioC', 'DateDifference_portafolioC',\n",
       "       'ConversionRate_portafolioC', 'EventType_identityV',\n",
       "       'EventDateTime_identityV', 'DateDifference_identityV',\n",
       "       'ConversionRate_identityV', 'EventType_accountIF',\n",
       "       'EventDateTime_accountIF', 'DateDifference_accountIF',\n",
       "       'ConversionRate_accountIF'],\n",
       "      dtype='object')"
      ]
     },
     "execution_count": 14,
     "metadata": {},
     "output_type": "execute_result"
    }
   ],
   "source": [
    "df.columns"
   ]
  },
  {
   "cell_type": "code",
   "execution_count": 15,
   "metadata": {},
   "outputs": [
    {
     "data": {
      "text/plain": [
       "datetime.date(2023, 1, 1)"
      ]
     },
     "execution_count": 15,
     "metadata": {},
     "output_type": "execute_result"
    }
   ],
   "source": [
    "\n",
    "min(df[\"EventDateTime_soft\"])"
   ]
  },
  {
   "cell_type": "code",
   "execution_count": 16,
   "metadata": {},
   "outputs": [],
   "source": [
    "import datetime"
   ]
  },
  {
   "cell_type": "code",
   "execution_count": 17,
   "metadata": {},
   "outputs": [
    {
     "data": {
      "text/plain": [
       "datetime.date(2023, 1, 1)"
      ]
     },
     "execution_count": 17,
     "metadata": {},
     "output_type": "execute_result"
    }
   ],
   "source": [
    "datetime.date(2023, 1, 1)"
   ]
  },
  {
   "cell_type": "code",
   "execution_count": 18,
   "metadata": {},
   "outputs": [
    {
     "data": {
      "text/plain": [
       "17.0"
      ]
     },
     "execution_count": 18,
     "metadata": {},
     "output_type": "execute_result"
    }
   ],
   "source": [
    "#min(df[\"User.M.Age.N\"])\n",
    "df[\"User.M.Age.N\"].dropna().min()\n"
   ]
  },
  {
   "cell_type": "code",
   "execution_count": 19,
   "metadata": {},
   "outputs": [
    {
     "data": {
      "text/plain": [
       "Platform\n",
       "iOS        22144\n",
       "Android     6665\n",
       "dtype: int64"
      ]
     },
     "execution_count": 19,
     "metadata": {},
     "output_type": "execute_result"
    }
   ],
   "source": [
    "df.value_counts(\"Platform\")"
   ]
  },
  {
   "cell_type": "code",
   "execution_count": 20,
   "metadata": {},
   "outputs": [
    {
     "data": {
      "text/plain": [
       "UserId                          0\n",
       "EventType                       0\n",
       "EventType.1                     0\n",
       "EventType.2                     0\n",
       "EventType.3                     0\n",
       "                            ...  \n",
       "ConversionRate_identityV        0\n",
       "EventType_accountIF         44967\n",
       "EventDateTime_accountIF     44967\n",
       "DateDifference_accountIF    44967\n",
       "ConversionRate_accountIF        0\n",
       "Length: 64, dtype: int64"
      ]
     },
     "execution_count": 20,
     "metadata": {},
     "output_type": "execute_result"
    }
   ],
   "source": [
    "df.isna().sum()"
   ]
  },
  {
   "cell_type": "code",
   "execution_count": 21,
   "metadata": {},
   "outputs": [
    {
     "data": {
      "text/plain": [
       "User.M.Age.N\n",
       "22.0    991\n",
       "23.0    928\n",
       "21.0    901\n",
       "24.0    846\n",
       "19.0    818\n",
       "20.0    813\n",
       "26.0    750\n",
       "27.0    750\n",
       "25.0    744\n",
       "18.0    743\n",
       "28.0    705\n",
       "29.0    693\n",
       "30.0    682\n",
       "31.0    630\n",
       "34.0    613\n",
       "35.0    601\n",
       "32.0    598\n",
       "36.0    597\n",
       "37.0    597\n",
       "33.0    583\n",
       "39.0    582\n",
       "40.0    559\n",
       "38.0    539\n",
       "42.0    525\n",
       "41.0    514\n",
       "43.0    489\n",
       "44.0    448\n",
       "45.0    408\n",
       "46.0    356\n",
       "48.0    354\n",
       "47.0    330\n",
       "49.0    294\n",
       "51.0    290\n",
       "50.0    266\n",
       "52.0    254\n",
       "53.0    239\n",
       "54.0    222\n",
       "55.0    176\n",
       "56.0    173\n",
       "57.0    147\n",
       "58.0    133\n",
       "60.0    110\n",
       "59.0    101\n",
       "61.0     79\n",
       "62.0     63\n",
       "63.0     59\n",
       "64.0     45\n",
       "65.0     37\n",
       "68.0     27\n",
       "66.0     19\n",
       "69.0     16\n",
       "67.0     14\n",
       "17.0      9\n",
       "dtype: int64"
      ]
     },
     "execution_count": 21,
     "metadata": {},
     "output_type": "execute_result"
    }
   ],
   "source": [
    "df.value_counts(\"User.M.Age.N\")"
   ]
  },
  {
   "cell_type": "code",
   "execution_count": 22,
   "metadata": {},
   "outputs": [
    {
     "data": {
      "text/plain": [
       "User.M.Income.N\n",
       "12500.0     6600\n",
       "37500.0     6153\n",
       "62500.0     2260\n",
       "96000.0      817\n",
       "150500.0     163\n",
       "184000.0      90\n",
       "dtype: int64"
      ]
     },
     "execution_count": 22,
     "metadata": {},
     "output_type": "execute_result"
    }
   ],
   "source": [
    "df.value_counts(\"User.M.Income.N\")"
   ]
  },
  {
   "cell_type": "code",
   "execution_count": 23,
   "metadata": {},
   "outputs": [
    {
     "name": "stdout",
     "output_type": "stream",
     "text": [
      "<class 'pandas.core.frame.DataFrame'>\n",
      "RangeIndex: 51758 entries, 0 to 51757\n",
      "Data columns (total 64 columns):\n",
      " #   Column                      Non-Null Count  Dtype  \n",
      "---  ------                      --------------  -----  \n",
      " 0   UserId                      51758 non-null  int64  \n",
      " 1   EventType                   51758 non-null  object \n",
      " 2   EventType.1                 51758 non-null  object \n",
      " 3   EventType.2                 51758 non-null  object \n",
      " 4   EventType.3                 51758 non-null  object \n",
      " 5   EventDateTime               51758 non-null  object \n",
      " 6   Platform                    28809 non-null  object \n",
      " 7   Platform.1                  28809 non-null  object \n",
      " 8   User.M.Age.N                22460 non-null  float64\n",
      " 9   User.M.Age.N.1              22460 non-null  float64\n",
      " 10  User.M.Income.N             16083 non-null  float64\n",
      " 11  User.M.Income.N.1           16083 non-null  float64\n",
      " 12  EventType_soft              51758 non-null  object \n",
      " 13  EventType_soft.1            51758 non-null  object \n",
      " 14  Soft_Day                    51758 non-null  object \n",
      " 15  EventDateTime_soft          51758 non-null  object \n",
      " 16  EventType_hot               45348 non-null  object \n",
      " 17  EventDateTime_hot           45348 non-null  object \n",
      " 18  DateDifference_hot          45348 non-null  float64\n",
      " 19  ConversionRate_hot          51758 non-null  float64\n",
      " 20  EventType_mobile            31970 non-null  object \n",
      " 21  EventDateTime_mobile        31970 non-null  object \n",
      " 22  DateDifference_mobile       31970 non-null  float64\n",
      " 23  ConversionRate_mobile       51758 non-null  float64\n",
      " 24  EventType_emma              33635 non-null  object \n",
      " 25  EventDateTime_emma          33635 non-null  object \n",
      " 26  DateDifference_emma         33635 non-null  float64\n",
      " 27  ConversionRate_emma         51758 non-null  float64\n",
      " 28  EventType_identity          22460 non-null  object \n",
      " 29  EventDateTime_identity      22460 non-null  object \n",
      " 30  DateDifference_identity     22460 non-null  float64\n",
      " 31  ConversionRate_identity     51758 non-null  float64\n",
      " 32  EventType_address           20446 non-null  object \n",
      " 33  EventDateTime_address       20446 non-null  object \n",
      " 34  DateDifference_address      20446 non-null  float64\n",
      " 35  ConversionRate_address      51758 non-null  float64\n",
      " 36  EventType_disclosures       20099 non-null  object \n",
      " 37  EventDateTime_disclosures   20099 non-null  object \n",
      " 38  DateDifference_disclosures  20099 non-null  float64\n",
      " 39  ConversionRate_disclosures  51758 non-null  float64\n",
      " 40  EventType_agreements        16083 non-null  object \n",
      " 41  EventDateTime_agreements    16083 non-null  object \n",
      " 42  DateDifference_agreements   16083 non-null  float64\n",
      " 43  ConversionRate_agreements   51758 non-null  float64\n",
      " 44  EventType_financial         17881 non-null  object \n",
      " 45  EventDateTime_financial     17881 non-null  object \n",
      " 46  DateDifference_financial    17881 non-null  float64\n",
      " 47  ConversionRate_financial    51758 non-null  float64\n",
      " 48  EventType_portafolioS       15735 non-null  object \n",
      " 49  EventDateTime_portafolioS   15735 non-null  object \n",
      " 50  DateDifference_portafolioS  15735 non-null  float64\n",
      " 51  ConversionRate_portafolioS  51758 non-null  float64\n",
      " 52  EventType_portafolioC       15671 non-null  object \n",
      " 53  EventDateTime_portafolioC   15671 non-null  object \n",
      " 54  DateDifference_portafolioC  15671 non-null  float64\n",
      " 55  ConversionRate_portafolioC  51758 non-null  float64\n",
      " 56  EventType_identityV         10860 non-null  object \n",
      " 57  EventDateTime_identityV     10860 non-null  object \n",
      " 58  DateDifference_identityV    10860 non-null  float64\n",
      " 59  ConversionRate_identityV    51758 non-null  float64\n",
      " 60  EventType_accountIF         6791 non-null   object \n",
      " 61  EventDateTime_accountIF     6791 non-null   object \n",
      " 62  DateDifference_accountIF    6791 non-null   float64\n",
      " 63  ConversionRate_accountIF    51758 non-null  float64\n",
      "dtypes: float64(28), int64(1), object(35)\n",
      "memory usage: 25.3+ MB\n"
     ]
    }
   ],
   "source": [
    "df.info()"
   ]
  },
  {
   "cell_type": "code",
   "execution_count": 24,
   "metadata": {},
   "outputs": [
    {
     "data": {
      "text/plain": [
       "'\\ndf[\\'EventDateTime_hot\\'] = pd.to_datetime(df[\\'EventDateTime_hot\\'], format=\"%Y-%m-%dT%H:%M:%S%z\")\\ndf[\\'EventDateTime_hot\\'] = df[\\'EventDateTime_hot\\'].dt.normalize()\\ndf[[\"EventType_hot\", \"EventDateTime_hot\", \"ConversionRate_hot\"]].info()\\nprueba = df[[\"UserId\",\"EventType_hot\", \"EventDateTime_hot\", \"ConversionRate_hot\"]]\\n\\n# Extract month from the datetime column\\nprueba[\\'Month\\'] = prueba[\\'EventDateTime_hot\\'].dt.to_period(\\'M\\')\\n\\n# Group by \\'Month\\' and calculate the mean for \\'ConversionRate_hot\\'\\nmean_by_month = prueba.groupby(\\'Month\\')[\\'ConversionRate_hot\\'].mean().reset_index()\\nmean_by_month[\\'Month\\'] = mean_by_month[\\'Month\\'].dt.to_timestamp().dt.strftime(\\'%Y-%m\\')\\n'"
      ]
     },
     "execution_count": 24,
     "metadata": {},
     "output_type": "execute_result"
    }
   ],
   "source": [
    "\"\"\"\n",
    "df['EventDateTime_hot'] = pd.to_datetime(df['EventDateTime_hot'], format=\"%Y-%m-%dT%H:%M:%S%z\")\n",
    "df['EventDateTime_hot'] = df['EventDateTime_hot'].dt.normalize()\n",
    "df[[\"EventType_hot\", \"EventDateTime_hot\", \"ConversionRate_hot\"]].info()\n",
    "prueba = df[[\"UserId\",\"EventType_hot\", \"EventDateTime_hot\", \"ConversionRate_hot\"]]\n",
    "\n",
    "# Extract month from the datetime column\n",
    "prueba['Month'] = prueba['EventDateTime_hot'].dt.to_period('M')\n",
    "\n",
    "# Group by 'Month' and calculate the mean for 'ConversionRate_hot'\n",
    "mean_by_month = prueba.groupby('Month')['ConversionRate_hot'].mean().reset_index()\n",
    "mean_by_month['Month'] = mean_by_month['Month'].dt.to_timestamp().dt.strftime('%Y-%m')\n",
    "\"\"\""
   ]
  },
  {
   "cell_type": "code",
   "execution_count": 25,
   "metadata": {},
   "outputs": [
    {
     "data": {
      "text/html": [
       "<div>\n",
       "<style scoped>\n",
       "    .dataframe tbody tr th:only-of-type {\n",
       "        vertical-align: middle;\n",
       "    }\n",
       "\n",
       "    .dataframe tbody tr th {\n",
       "        vertical-align: top;\n",
       "    }\n",
       "\n",
       "    .dataframe thead th {\n",
       "        text-align: right;\n",
       "    }\n",
       "</style>\n",
       "<table border=\"1\" class=\"dataframe\">\n",
       "  <thead>\n",
       "    <tr style=\"text-align: right;\">\n",
       "      <th></th>\n",
       "      <th>EventType_hot</th>\n",
       "      <th>EventDateTime_hot</th>\n",
       "      <th>DateDifference_hot</th>\n",
       "      <th>ConversionRate_hot</th>\n",
       "    </tr>\n",
       "  </thead>\n",
       "  <tbody>\n",
       "    <tr>\n",
       "      <th>0</th>\n",
       "      <td>NaN</td>\n",
       "      <td>NaN</td>\n",
       "      <td>NaN</td>\n",
       "      <td>85.15</td>\n",
       "    </tr>\n",
       "    <tr>\n",
       "      <th>1</th>\n",
       "      <td>HOT_LEAD</td>\n",
       "      <td>2023-01-01T00:52:55+0000</td>\n",
       "      <td>0.0</td>\n",
       "      <td>85.15</td>\n",
       "    </tr>\n",
       "    <tr>\n",
       "      <th>2</th>\n",
       "      <td>HOT_LEAD</td>\n",
       "      <td>2023-01-01T01:07:59+0000</td>\n",
       "      <td>0.0</td>\n",
       "      <td>85.15</td>\n",
       "    </tr>\n",
       "    <tr>\n",
       "      <th>3</th>\n",
       "      <td>HOT_LEAD</td>\n",
       "      <td>2023-01-01T01:20:10+0000</td>\n",
       "      <td>0.0</td>\n",
       "      <td>85.15</td>\n",
       "    </tr>\n",
       "    <tr>\n",
       "      <th>4</th>\n",
       "      <td>HOT_LEAD</td>\n",
       "      <td>2023-01-01T01:23:40+0000</td>\n",
       "      <td>0.0</td>\n",
       "      <td>85.15</td>\n",
       "    </tr>\n",
       "    <tr>\n",
       "      <th>...</th>\n",
       "      <td>...</td>\n",
       "      <td>...</td>\n",
       "      <td>...</td>\n",
       "      <td>...</td>\n",
       "    </tr>\n",
       "    <tr>\n",
       "      <th>51753</th>\n",
       "      <td>HOT_LEAD</td>\n",
       "      <td>2023-12-15T07:03:57+0000</td>\n",
       "      <td>0.0</td>\n",
       "      <td>87.50</td>\n",
       "    </tr>\n",
       "    <tr>\n",
       "      <th>51754</th>\n",
       "      <td>HOT_LEAD</td>\n",
       "      <td>2023-12-15T07:27:00+0000</td>\n",
       "      <td>0.0</td>\n",
       "      <td>87.50</td>\n",
       "    </tr>\n",
       "    <tr>\n",
       "      <th>51755</th>\n",
       "      <td>HOT_LEAD</td>\n",
       "      <td>2023-12-15T08:13:45+0000</td>\n",
       "      <td>0.0</td>\n",
       "      <td>87.50</td>\n",
       "    </tr>\n",
       "    <tr>\n",
       "      <th>51756</th>\n",
       "      <td>HOT_LEAD</td>\n",
       "      <td>2023-12-15T08:31:54+0000</td>\n",
       "      <td>0.0</td>\n",
       "      <td>87.50</td>\n",
       "    </tr>\n",
       "    <tr>\n",
       "      <th>51757</th>\n",
       "      <td>HOT_LEAD</td>\n",
       "      <td>2023-12-15T08:50:23+0000</td>\n",
       "      <td>0.0</td>\n",
       "      <td>87.50</td>\n",
       "    </tr>\n",
       "  </tbody>\n",
       "</table>\n",
       "<p>51758 rows × 4 columns</p>\n",
       "</div>"
      ],
      "text/plain": [
       "      EventType_hot         EventDateTime_hot  DateDifference_hot  \\\n",
       "0               NaN                       NaN                 NaN   \n",
       "1          HOT_LEAD  2023-01-01T00:52:55+0000                 0.0   \n",
       "2          HOT_LEAD  2023-01-01T01:07:59+0000                 0.0   \n",
       "3          HOT_LEAD  2023-01-01T01:20:10+0000                 0.0   \n",
       "4          HOT_LEAD  2023-01-01T01:23:40+0000                 0.0   \n",
       "...             ...                       ...                 ...   \n",
       "51753      HOT_LEAD  2023-12-15T07:03:57+0000                 0.0   \n",
       "51754      HOT_LEAD  2023-12-15T07:27:00+0000                 0.0   \n",
       "51755      HOT_LEAD  2023-12-15T08:13:45+0000                 0.0   \n",
       "51756      HOT_LEAD  2023-12-15T08:31:54+0000                 0.0   \n",
       "51757      HOT_LEAD  2023-12-15T08:50:23+0000                 0.0   \n",
       "\n",
       "       ConversionRate_hot  \n",
       "0                   85.15  \n",
       "1                   85.15  \n",
       "2                   85.15  \n",
       "3                   85.15  \n",
       "4                   85.15  \n",
       "...                   ...  \n",
       "51753               87.50  \n",
       "51754               87.50  \n",
       "51755               87.50  \n",
       "51756               87.50  \n",
       "51757               87.50  \n",
       "\n",
       "[51758 rows x 4 columns]"
      ]
     },
     "execution_count": 25,
     "metadata": {},
     "output_type": "execute_result"
    }
   ],
   "source": [
    "df.filter(like='hot')"
   ]
  },
  {
   "cell_type": "code",
   "execution_count": 26,
   "metadata": {},
   "outputs": [
    {
     "data": {
      "text/html": [
       "<div>\n",
       "<style scoped>\n",
       "    .dataframe tbody tr th:only-of-type {\n",
       "        vertical-align: middle;\n",
       "    }\n",
       "\n",
       "    .dataframe tbody tr th {\n",
       "        vertical-align: top;\n",
       "    }\n",
       "\n",
       "    .dataframe thead th {\n",
       "        text-align: right;\n",
       "    }\n",
       "</style>\n",
       "<table border=\"1\" class=\"dataframe\">\n",
       "  <thead>\n",
       "    <tr style=\"text-align: right;\">\n",
       "      <th></th>\n",
       "      <th>EventType_hot</th>\n",
       "      <th>EventDateTime_hot</th>\n",
       "      <th>ConversionRate_hot</th>\n",
       "    </tr>\n",
       "  </thead>\n",
       "  <tbody>\n",
       "    <tr>\n",
       "      <th>0</th>\n",
       "      <td>NaN</td>\n",
       "      <td>NaN</td>\n",
       "      <td>85.15</td>\n",
       "    </tr>\n",
       "    <tr>\n",
       "      <th>1</th>\n",
       "      <td>HOT_LEAD</td>\n",
       "      <td>2023-01-01T00:52:55+0000</td>\n",
       "      <td>85.15</td>\n",
       "    </tr>\n",
       "    <tr>\n",
       "      <th>2</th>\n",
       "      <td>HOT_LEAD</td>\n",
       "      <td>2023-01-01T01:07:59+0000</td>\n",
       "      <td>85.15</td>\n",
       "    </tr>\n",
       "    <tr>\n",
       "      <th>3</th>\n",
       "      <td>HOT_LEAD</td>\n",
       "      <td>2023-01-01T01:20:10+0000</td>\n",
       "      <td>85.15</td>\n",
       "    </tr>\n",
       "    <tr>\n",
       "      <th>4</th>\n",
       "      <td>HOT_LEAD</td>\n",
       "      <td>2023-01-01T01:23:40+0000</td>\n",
       "      <td>85.15</td>\n",
       "    </tr>\n",
       "    <tr>\n",
       "      <th>...</th>\n",
       "      <td>...</td>\n",
       "      <td>...</td>\n",
       "      <td>...</td>\n",
       "    </tr>\n",
       "    <tr>\n",
       "      <th>51753</th>\n",
       "      <td>HOT_LEAD</td>\n",
       "      <td>2023-12-15T07:03:57+0000</td>\n",
       "      <td>87.50</td>\n",
       "    </tr>\n",
       "    <tr>\n",
       "      <th>51754</th>\n",
       "      <td>HOT_LEAD</td>\n",
       "      <td>2023-12-15T07:27:00+0000</td>\n",
       "      <td>87.50</td>\n",
       "    </tr>\n",
       "    <tr>\n",
       "      <th>51755</th>\n",
       "      <td>HOT_LEAD</td>\n",
       "      <td>2023-12-15T08:13:45+0000</td>\n",
       "      <td>87.50</td>\n",
       "    </tr>\n",
       "    <tr>\n",
       "      <th>51756</th>\n",
       "      <td>HOT_LEAD</td>\n",
       "      <td>2023-12-15T08:31:54+0000</td>\n",
       "      <td>87.50</td>\n",
       "    </tr>\n",
       "    <tr>\n",
       "      <th>51757</th>\n",
       "      <td>HOT_LEAD</td>\n",
       "      <td>2023-12-15T08:50:23+0000</td>\n",
       "      <td>87.50</td>\n",
       "    </tr>\n",
       "  </tbody>\n",
       "</table>\n",
       "<p>51758 rows × 3 columns</p>\n",
       "</div>"
      ],
      "text/plain": [
       "      EventType_hot         EventDateTime_hot  ConversionRate_hot\n",
       "0               NaN                       NaN               85.15\n",
       "1          HOT_LEAD  2023-01-01T00:52:55+0000               85.15\n",
       "2          HOT_LEAD  2023-01-01T01:07:59+0000               85.15\n",
       "3          HOT_LEAD  2023-01-01T01:20:10+0000               85.15\n",
       "4          HOT_LEAD  2023-01-01T01:23:40+0000               85.15\n",
       "...             ...                       ...                 ...\n",
       "51753      HOT_LEAD  2023-12-15T07:03:57+0000               87.50\n",
       "51754      HOT_LEAD  2023-12-15T07:27:00+0000               87.50\n",
       "51755      HOT_LEAD  2023-12-15T08:13:45+0000               87.50\n",
       "51756      HOT_LEAD  2023-12-15T08:31:54+0000               87.50\n",
       "51757      HOT_LEAD  2023-12-15T08:50:23+0000               87.50\n",
       "\n",
       "[51758 rows x 3 columns]"
      ]
     },
     "execution_count": 26,
     "metadata": {},
     "output_type": "execute_result"
    }
   ],
   "source": [
    "df[[\"EventType_hot\", \"EventDateTime_hot\", \"ConversionRate_hot\"]]\n"
   ]
  },
  {
   "cell_type": "code",
   "execution_count": 27,
   "metadata": {},
   "outputs": [
    {
     "ename": "NameError",
     "evalue": "name 'mean_by_month' is not defined",
     "output_type": "error",
     "traceback": [
      "\u001b[1;31m---------------------------------------------------------------------------\u001b[0m",
      "\u001b[1;31mNameError\u001b[0m                                 Traceback (most recent call last)",
      "Cell \u001b[1;32mIn[27], line 1\u001b[0m\n\u001b[1;32m----> 1\u001b[0m \u001b[43mmean_by_month\u001b[49m\u001b[38;5;241m.\u001b[39minfo()\n",
      "\u001b[1;31mNameError\u001b[0m: name 'mean_by_month' is not defined"
     ]
    }
   ],
   "source": [
    "mean_by_month.info()"
   ]
  },
  {
   "cell_type": "code",
   "execution_count": null,
   "metadata": {},
   "outputs": [],
   "source": [
    "def get_mean_event(df, event):\n",
    "    prueba = df.filter(like=event)\n",
    "    prueba = prueba.dropna()\n",
    "\n",
    "    prueba[ 'EventDateTime_' + event ] = pd.to_datetime(prueba[ 'EventDateTime_' + event], format=\"%Y-%m-%dT%H:%M:%S%z\")\n",
    "    prueba[ 'EventDateTime_' + event] = prueba[ 'EventDateTime_' + event].dt.normalize()\n",
    "    # Extract month from the datetime column\n",
    "    prueba['Month'] = prueba['EventDateTime_' + event].dt.to_period('M')\n",
    "\n",
    "    # Group by 'Month' and calculate the mean for 'ConversionRate_hot'\n",
    "    mean_by_month = prueba.groupby(['Month', 'EventType_' + event])['ConversionRate_' + event].mean().reset_index()\n",
    "    mean_by_month = mean_by_month.rename(columns={'EventType_' + event: 'EventType', 'ConversionRate_' + event : 'ConversionRate' })\n",
    "    mean_by_month['Month'] = mean_by_month['Month'].dt.to_timestamp().dt.strftime('%Y-%m')\n",
    "\n",
    "    return mean_by_month"
   ]
  },
  {
   "cell_type": "code",
   "execution_count": null,
   "metadata": {},
   "outputs": [
    {
     "name": "stderr",
     "output_type": "stream",
     "text": [
      "C:\\Users\\PC\\AppData\\Local\\Temp\\ipykernel_11556\\1799243757.py:8: UserWarning:\n",
      "\n",
      "Converting to PeriodArray/Index representation will drop timezone information.\n",
      "\n"
     ]
    },
    {
     "data": {
      "text/html": [
       "<div>\n",
       "<style scoped>\n",
       "    .dataframe tbody tr th:only-of-type {\n",
       "        vertical-align: middle;\n",
       "    }\n",
       "\n",
       "    .dataframe tbody tr th {\n",
       "        vertical-align: top;\n",
       "    }\n",
       "\n",
       "    .dataframe thead th {\n",
       "        text-align: right;\n",
       "    }\n",
       "</style>\n",
       "<table border=\"1\" class=\"dataframe\">\n",
       "  <thead>\n",
       "    <tr style=\"text-align: right;\">\n",
       "      <th></th>\n",
       "      <th>Month</th>\n",
       "      <th>EventType</th>\n",
       "      <th>ConversionRate</th>\n",
       "    </tr>\n",
       "  </thead>\n",
       "  <tbody>\n",
       "    <tr>\n",
       "      <th>0</th>\n",
       "      <td>2023-01</td>\n",
       "      <td>HOT_LEAD</td>\n",
       "      <td>89.056392</td>\n",
       "    </tr>\n",
       "    <tr>\n",
       "      <th>1</th>\n",
       "      <td>2023-02</td>\n",
       "      <td>HOT_LEAD</td>\n",
       "      <td>89.877910</td>\n",
       "    </tr>\n",
       "    <tr>\n",
       "      <th>2</th>\n",
       "      <td>2023-03</td>\n",
       "      <td>HOT_LEAD</td>\n",
       "      <td>88.789303</td>\n",
       "    </tr>\n",
       "    <tr>\n",
       "      <th>3</th>\n",
       "      <td>2023-04</td>\n",
       "      <td>HOT_LEAD</td>\n",
       "      <td>87.489774</td>\n",
       "    </tr>\n",
       "    <tr>\n",
       "      <th>4</th>\n",
       "      <td>2023-05</td>\n",
       "      <td>HOT_LEAD</td>\n",
       "      <td>83.369755</td>\n",
       "    </tr>\n",
       "    <tr>\n",
       "      <th>5</th>\n",
       "      <td>2023-06</td>\n",
       "      <td>HOT_LEAD</td>\n",
       "      <td>85.938726</td>\n",
       "    </tr>\n",
       "    <tr>\n",
       "      <th>6</th>\n",
       "      <td>2023-07</td>\n",
       "      <td>HOT_LEAD</td>\n",
       "      <td>85.930549</td>\n",
       "    </tr>\n",
       "    <tr>\n",
       "      <th>7</th>\n",
       "      <td>2023-08</td>\n",
       "      <td>HOT_LEAD</td>\n",
       "      <td>85.173047</td>\n",
       "    </tr>\n",
       "    <tr>\n",
       "      <th>8</th>\n",
       "      <td>2023-09</td>\n",
       "      <td>HOT_LEAD</td>\n",
       "      <td>86.086293</td>\n",
       "    </tr>\n",
       "    <tr>\n",
       "      <th>9</th>\n",
       "      <td>2023-10</td>\n",
       "      <td>HOT_LEAD</td>\n",
       "      <td>89.136490</td>\n",
       "    </tr>\n",
       "    <tr>\n",
       "      <th>10</th>\n",
       "      <td>2023-11</td>\n",
       "      <td>HOT_LEAD</td>\n",
       "      <td>89.292371</td>\n",
       "    </tr>\n",
       "    <tr>\n",
       "      <th>11</th>\n",
       "      <td>2023-12</td>\n",
       "      <td>HOT_LEAD</td>\n",
       "      <td>88.758832</td>\n",
       "    </tr>\n",
       "  </tbody>\n",
       "</table>\n",
       "</div>"
      ],
      "text/plain": [
       "      Month EventType  ConversionRate\n",
       "0   2023-01  HOT_LEAD       89.056392\n",
       "1   2023-02  HOT_LEAD       89.877910\n",
       "2   2023-03  HOT_LEAD       88.789303\n",
       "3   2023-04  HOT_LEAD       87.489774\n",
       "4   2023-05  HOT_LEAD       83.369755\n",
       "5   2023-06  HOT_LEAD       85.938726\n",
       "6   2023-07  HOT_LEAD       85.930549\n",
       "7   2023-08  HOT_LEAD       85.173047\n",
       "8   2023-09  HOT_LEAD       86.086293\n",
       "9   2023-10  HOT_LEAD       89.136490\n",
       "10  2023-11  HOT_LEAD       89.292371\n",
       "11  2023-12  HOT_LEAD       88.758832"
      ]
     },
     "execution_count": 89,
     "metadata": {},
     "output_type": "execute_result"
    }
   ],
   "source": [
    "get_mean_event(df, \"hot\")"
   ]
  },
  {
   "cell_type": "code",
   "execution_count": null,
   "metadata": {},
   "outputs": [
    {
     "name": "stderr",
     "output_type": "stream",
     "text": [
      "C:\\Users\\PC\\AppData\\Local\\Temp\\ipykernel_11556\\1799243757.py:8: UserWarning:\n",
      "\n",
      "Converting to PeriodArray/Index representation will drop timezone information.\n",
      "\n"
     ]
    },
    {
     "data": {
      "text/html": [
       "<div>\n",
       "<style scoped>\n",
       "    .dataframe tbody tr th:only-of-type {\n",
       "        vertical-align: middle;\n",
       "    }\n",
       "\n",
       "    .dataframe tbody tr th {\n",
       "        vertical-align: top;\n",
       "    }\n",
       "\n",
       "    .dataframe thead th {\n",
       "        text-align: right;\n",
       "    }\n",
       "</style>\n",
       "<table border=\"1\" class=\"dataframe\">\n",
       "  <thead>\n",
       "    <tr style=\"text-align: right;\">\n",
       "      <th></th>\n",
       "      <th>Month</th>\n",
       "      <th>EventType</th>\n",
       "      <th>ConversionRate</th>\n",
       "    </tr>\n",
       "  </thead>\n",
       "  <tbody>\n",
       "    <tr>\n",
       "      <th>0</th>\n",
       "      <td>2023-01</td>\n",
       "      <td>FINANCIAL_PROFILE_COMPLETED</td>\n",
       "      <td>39.595921</td>\n",
       "    </tr>\n",
       "    <tr>\n",
       "      <th>1</th>\n",
       "      <td>2023-02</td>\n",
       "      <td>FINANCIAL_PROFILE_COMPLETED</td>\n",
       "      <td>37.896312</td>\n",
       "    </tr>\n",
       "    <tr>\n",
       "      <th>2</th>\n",
       "      <td>2023-03</td>\n",
       "      <td>FINANCIAL_PROFILE_COMPLETED</td>\n",
       "      <td>36.646811</td>\n",
       "    </tr>\n",
       "    <tr>\n",
       "      <th>3</th>\n",
       "      <td>2023-04</td>\n",
       "      <td>FINANCIAL_PROFILE_COMPLETED</td>\n",
       "      <td>37.817446</td>\n",
       "    </tr>\n",
       "    <tr>\n",
       "      <th>4</th>\n",
       "      <td>2023-05</td>\n",
       "      <td>FINANCIAL_PROFILE_COMPLETED</td>\n",
       "      <td>37.625043</td>\n",
       "    </tr>\n",
       "    <tr>\n",
       "      <th>5</th>\n",
       "      <td>2023-06</td>\n",
       "      <td>FINANCIAL_PROFILE_COMPLETED</td>\n",
       "      <td>35.951867</td>\n",
       "    </tr>\n",
       "    <tr>\n",
       "      <th>6</th>\n",
       "      <td>2023-07</td>\n",
       "      <td>FINANCIAL_PROFILE_COMPLETED</td>\n",
       "      <td>36.671258</td>\n",
       "    </tr>\n",
       "    <tr>\n",
       "      <th>7</th>\n",
       "      <td>2023-08</td>\n",
       "      <td>FINANCIAL_PROFILE_COMPLETED</td>\n",
       "      <td>35.591573</td>\n",
       "    </tr>\n",
       "    <tr>\n",
       "      <th>8</th>\n",
       "      <td>2023-09</td>\n",
       "      <td>FINANCIAL_PROFILE_COMPLETED</td>\n",
       "      <td>37.437383</td>\n",
       "    </tr>\n",
       "    <tr>\n",
       "      <th>9</th>\n",
       "      <td>2023-10</td>\n",
       "      <td>FINANCIAL_PROFILE_COMPLETED</td>\n",
       "      <td>29.731694</td>\n",
       "    </tr>\n",
       "    <tr>\n",
       "      <th>10</th>\n",
       "      <td>2023-11</td>\n",
       "      <td>FINANCIAL_PROFILE_COMPLETED</td>\n",
       "      <td>28.695120</td>\n",
       "    </tr>\n",
       "    <tr>\n",
       "      <th>11</th>\n",
       "      <td>2023-12</td>\n",
       "      <td>FINANCIAL_PROFILE_COMPLETED</td>\n",
       "      <td>26.872681</td>\n",
       "    </tr>\n",
       "  </tbody>\n",
       "</table>\n",
       "</div>"
      ],
      "text/plain": [
       "      Month                    EventType  ConversionRate\n",
       "0   2023-01  FINANCIAL_PROFILE_COMPLETED       39.595921\n",
       "1   2023-02  FINANCIAL_PROFILE_COMPLETED       37.896312\n",
       "2   2023-03  FINANCIAL_PROFILE_COMPLETED       36.646811\n",
       "3   2023-04  FINANCIAL_PROFILE_COMPLETED       37.817446\n",
       "4   2023-05  FINANCIAL_PROFILE_COMPLETED       37.625043\n",
       "5   2023-06  FINANCIAL_PROFILE_COMPLETED       35.951867\n",
       "6   2023-07  FINANCIAL_PROFILE_COMPLETED       36.671258\n",
       "7   2023-08  FINANCIAL_PROFILE_COMPLETED       35.591573\n",
       "8   2023-09  FINANCIAL_PROFILE_COMPLETED       37.437383\n",
       "9   2023-10  FINANCIAL_PROFILE_COMPLETED       29.731694\n",
       "10  2023-11  FINANCIAL_PROFILE_COMPLETED       28.695120\n",
       "11  2023-12  FINANCIAL_PROFILE_COMPLETED       26.872681"
      ]
     },
     "execution_count": 88,
     "metadata": {},
     "output_type": "execute_result"
    }
   ],
   "source": [
    "get_mean_event(df, \"financial\")"
   ]
  },
  {
   "cell_type": "code",
   "execution_count": null,
   "metadata": {},
   "outputs": [
    {
     "name": "stderr",
     "output_type": "stream",
     "text": [
      "C:\\Users\\PC\\AppData\\Local\\Temp\\ipykernel_11556\\1799243757.py:8: UserWarning:\n",
      "\n",
      "Converting to PeriodArray/Index representation will drop timezone information.\n",
      "\n",
      "C:\\Users\\PC\\AppData\\Local\\Temp\\ipykernel_11556\\1799243757.py:8: UserWarning:\n",
      "\n",
      "Converting to PeriodArray/Index representation will drop timezone information.\n",
      "\n"
     ]
    },
    {
     "data": {
      "text/html": [
       "<div>\n",
       "<style scoped>\n",
       "    .dataframe tbody tr th:only-of-type {\n",
       "        vertical-align: middle;\n",
       "    }\n",
       "\n",
       "    .dataframe tbody tr th {\n",
       "        vertical-align: top;\n",
       "    }\n",
       "\n",
       "    .dataframe thead th {\n",
       "        text-align: right;\n",
       "    }\n",
       "</style>\n",
       "<table border=\"1\" class=\"dataframe\">\n",
       "  <thead>\n",
       "    <tr style=\"text-align: right;\">\n",
       "      <th></th>\n",
       "      <th>Month</th>\n",
       "      <th>EventType</th>\n",
       "      <th>ConversionRate</th>\n",
       "    </tr>\n",
       "  </thead>\n",
       "  <tbody>\n",
       "    <tr>\n",
       "      <th>0</th>\n",
       "      <td>2023-01</td>\n",
       "      <td>HOT_LEAD</td>\n",
       "      <td>89.056392</td>\n",
       "    </tr>\n",
       "    <tr>\n",
       "      <th>1</th>\n",
       "      <td>2023-02</td>\n",
       "      <td>HOT_LEAD</td>\n",
       "      <td>89.877910</td>\n",
       "    </tr>\n",
       "    <tr>\n",
       "      <th>2</th>\n",
       "      <td>2023-03</td>\n",
       "      <td>HOT_LEAD</td>\n",
       "      <td>88.789303</td>\n",
       "    </tr>\n",
       "    <tr>\n",
       "      <th>3</th>\n",
       "      <td>2023-04</td>\n",
       "      <td>HOT_LEAD</td>\n",
       "      <td>87.489774</td>\n",
       "    </tr>\n",
       "    <tr>\n",
       "      <th>4</th>\n",
       "      <td>2023-05</td>\n",
       "      <td>HOT_LEAD</td>\n",
       "      <td>83.369755</td>\n",
       "    </tr>\n",
       "    <tr>\n",
       "      <th>5</th>\n",
       "      <td>2023-06</td>\n",
       "      <td>HOT_LEAD</td>\n",
       "      <td>85.938726</td>\n",
       "    </tr>\n",
       "    <tr>\n",
       "      <th>6</th>\n",
       "      <td>2023-07</td>\n",
       "      <td>HOT_LEAD</td>\n",
       "      <td>85.930549</td>\n",
       "    </tr>\n",
       "    <tr>\n",
       "      <th>7</th>\n",
       "      <td>2023-08</td>\n",
       "      <td>HOT_LEAD</td>\n",
       "      <td>85.173047</td>\n",
       "    </tr>\n",
       "    <tr>\n",
       "      <th>8</th>\n",
       "      <td>2023-09</td>\n",
       "      <td>HOT_LEAD</td>\n",
       "      <td>86.086293</td>\n",
       "    </tr>\n",
       "    <tr>\n",
       "      <th>9</th>\n",
       "      <td>2023-10</td>\n",
       "      <td>HOT_LEAD</td>\n",
       "      <td>89.136490</td>\n",
       "    </tr>\n",
       "    <tr>\n",
       "      <th>10</th>\n",
       "      <td>2023-11</td>\n",
       "      <td>HOT_LEAD</td>\n",
       "      <td>89.292371</td>\n",
       "    </tr>\n",
       "    <tr>\n",
       "      <th>11</th>\n",
       "      <td>2023-12</td>\n",
       "      <td>HOT_LEAD</td>\n",
       "      <td>88.758832</td>\n",
       "    </tr>\n",
       "    <tr>\n",
       "      <th>12</th>\n",
       "      <td>2023-01</td>\n",
       "      <td>FINANCIAL_PROFILE_COMPLETED</td>\n",
       "      <td>39.595921</td>\n",
       "    </tr>\n",
       "    <tr>\n",
       "      <th>13</th>\n",
       "      <td>2023-02</td>\n",
       "      <td>FINANCIAL_PROFILE_COMPLETED</td>\n",
       "      <td>37.896312</td>\n",
       "    </tr>\n",
       "    <tr>\n",
       "      <th>14</th>\n",
       "      <td>2023-03</td>\n",
       "      <td>FINANCIAL_PROFILE_COMPLETED</td>\n",
       "      <td>36.646811</td>\n",
       "    </tr>\n",
       "    <tr>\n",
       "      <th>15</th>\n",
       "      <td>2023-04</td>\n",
       "      <td>FINANCIAL_PROFILE_COMPLETED</td>\n",
       "      <td>37.817446</td>\n",
       "    </tr>\n",
       "    <tr>\n",
       "      <th>16</th>\n",
       "      <td>2023-05</td>\n",
       "      <td>FINANCIAL_PROFILE_COMPLETED</td>\n",
       "      <td>37.625043</td>\n",
       "    </tr>\n",
       "    <tr>\n",
       "      <th>17</th>\n",
       "      <td>2023-06</td>\n",
       "      <td>FINANCIAL_PROFILE_COMPLETED</td>\n",
       "      <td>35.951867</td>\n",
       "    </tr>\n",
       "    <tr>\n",
       "      <th>18</th>\n",
       "      <td>2023-07</td>\n",
       "      <td>FINANCIAL_PROFILE_COMPLETED</td>\n",
       "      <td>36.671258</td>\n",
       "    </tr>\n",
       "    <tr>\n",
       "      <th>19</th>\n",
       "      <td>2023-08</td>\n",
       "      <td>FINANCIAL_PROFILE_COMPLETED</td>\n",
       "      <td>35.591573</td>\n",
       "    </tr>\n",
       "    <tr>\n",
       "      <th>20</th>\n",
       "      <td>2023-09</td>\n",
       "      <td>FINANCIAL_PROFILE_COMPLETED</td>\n",
       "      <td>37.437383</td>\n",
       "    </tr>\n",
       "    <tr>\n",
       "      <th>21</th>\n",
       "      <td>2023-10</td>\n",
       "      <td>FINANCIAL_PROFILE_COMPLETED</td>\n",
       "      <td>29.731694</td>\n",
       "    </tr>\n",
       "    <tr>\n",
       "      <th>22</th>\n",
       "      <td>2023-11</td>\n",
       "      <td>FINANCIAL_PROFILE_COMPLETED</td>\n",
       "      <td>28.695120</td>\n",
       "    </tr>\n",
       "    <tr>\n",
       "      <th>23</th>\n",
       "      <td>2023-12</td>\n",
       "      <td>FINANCIAL_PROFILE_COMPLETED</td>\n",
       "      <td>26.872681</td>\n",
       "    </tr>\n",
       "  </tbody>\n",
       "</table>\n",
       "</div>"
      ],
      "text/plain": [
       "      Month                    EventType  ConversionRate\n",
       "0   2023-01                     HOT_LEAD       89.056392\n",
       "1   2023-02                     HOT_LEAD       89.877910\n",
       "2   2023-03                     HOT_LEAD       88.789303\n",
       "3   2023-04                     HOT_LEAD       87.489774\n",
       "4   2023-05                     HOT_LEAD       83.369755\n",
       "5   2023-06                     HOT_LEAD       85.938726\n",
       "6   2023-07                     HOT_LEAD       85.930549\n",
       "7   2023-08                     HOT_LEAD       85.173047\n",
       "8   2023-09                     HOT_LEAD       86.086293\n",
       "9   2023-10                     HOT_LEAD       89.136490\n",
       "10  2023-11                     HOT_LEAD       89.292371\n",
       "11  2023-12                     HOT_LEAD       88.758832\n",
       "12  2023-01  FINANCIAL_PROFILE_COMPLETED       39.595921\n",
       "13  2023-02  FINANCIAL_PROFILE_COMPLETED       37.896312\n",
       "14  2023-03  FINANCIAL_PROFILE_COMPLETED       36.646811\n",
       "15  2023-04  FINANCIAL_PROFILE_COMPLETED       37.817446\n",
       "16  2023-05  FINANCIAL_PROFILE_COMPLETED       37.625043\n",
       "17  2023-06  FINANCIAL_PROFILE_COMPLETED       35.951867\n",
       "18  2023-07  FINANCIAL_PROFILE_COMPLETED       36.671258\n",
       "19  2023-08  FINANCIAL_PROFILE_COMPLETED       35.591573\n",
       "20  2023-09  FINANCIAL_PROFILE_COMPLETED       37.437383\n",
       "21  2023-10  FINANCIAL_PROFILE_COMPLETED       29.731694\n",
       "22  2023-11  FINANCIAL_PROFILE_COMPLETED       28.695120\n",
       "23  2023-12  FINANCIAL_PROFILE_COMPLETED       26.872681"
      ]
     },
     "execution_count": 94,
     "metadata": {},
     "output_type": "execute_result"
    }
   ],
   "source": [
    "concat_df = pd.concat([get_mean_event(df, \"hot\"), get_mean_event(df, \"financial\")], ignore_index=True)\n",
    "\n",
    "concat_df"
   ]
  },
  {
   "cell_type": "code",
   "execution_count": null,
   "metadata": {},
   "outputs": [
    {
     "data": {
      "application/vnd.plotly.v1+json": {
       "config": {
        "plotlyServerURL": "https://plot.ly"
       },
       "data": [
        {
         "hovertemplate": "EventType=HOT_LEAD<br>Month=%{x}<br>ConversionRate=%{text}<extra></extra>",
         "legendgroup": "HOT_LEAD",
         "line": {
          "color": "#636efa",
          "dash": "solid"
         },
         "marker": {
          "symbol": "circle"
         },
         "mode": "markers+lines+text",
         "name": "HOT_LEAD",
         "orientation": "v",
         "showlegend": true,
         "text": [
          89.06,
          89.88,
          88.79,
          87.49,
          83.37,
          85.94,
          85.93,
          85.17,
          86.09,
          89.14,
          89.29,
          88.76
         ],
         "textposition": "bottom center",
         "type": "scatter",
         "x": [
          "2023-01",
          "2023-02",
          "2023-03",
          "2023-04",
          "2023-05",
          "2023-06",
          "2023-07",
          "2023-08",
          "2023-09",
          "2023-10",
          "2023-11",
          "2023-12"
         ],
         "xaxis": "x",
         "y": [
          89.06,
          89.88,
          88.79,
          87.49,
          83.37,
          85.94,
          85.93,
          85.17,
          86.09,
          89.14,
          89.29,
          88.76
         ],
         "yaxis": "y"
        },
        {
         "hovertemplate": "EventType=FINANCIAL_PROFILE_COMPLETED<br>Month=%{x}<br>ConversionRate=%{text}<extra></extra>",
         "legendgroup": "FINANCIAL_PROFILE_COMPLETED",
         "line": {
          "color": "#EF553B",
          "dash": "solid"
         },
         "marker": {
          "symbol": "circle"
         },
         "mode": "markers+lines+text",
         "name": "FINANCIAL_PROFILE_COMPLETED",
         "orientation": "v",
         "showlegend": true,
         "text": [
          39.6,
          37.9,
          36.65,
          37.82,
          37.63,
          35.95,
          36.67,
          35.59,
          37.44,
          29.73,
          28.7,
          26.87
         ],
         "textposition": "bottom center",
         "type": "scatter",
         "x": [
          "2023-01",
          "2023-02",
          "2023-03",
          "2023-04",
          "2023-05",
          "2023-06",
          "2023-07",
          "2023-08",
          "2023-09",
          "2023-10",
          "2023-11",
          "2023-12"
         ],
         "xaxis": "x",
         "y": [
          39.6,
          37.9,
          36.65,
          37.82,
          37.63,
          35.95,
          36.67,
          35.59,
          37.44,
          29.73,
          28.7,
          26.87
         ],
         "yaxis": "y"
        }
       ],
       "layout": {
        "legend": {
         "title": {
          "text": "EventType"
         },
         "tracegroupgap": 0
        },
        "margin": {
         "t": 60
        },
        "template": {
         "data": {
          "bar": [
           {
            "error_x": {
             "color": "#2a3f5f"
            },
            "error_y": {
             "color": "#2a3f5f"
            },
            "marker": {
             "line": {
              "color": "#E5ECF6",
              "width": 0.5
             },
             "pattern": {
              "fillmode": "overlay",
              "size": 10,
              "solidity": 0.2
             }
            },
            "type": "bar"
           }
          ],
          "barpolar": [
           {
            "marker": {
             "line": {
              "color": "#E5ECF6",
              "width": 0.5
             },
             "pattern": {
              "fillmode": "overlay",
              "size": 10,
              "solidity": 0.2
             }
            },
            "type": "barpolar"
           }
          ],
          "carpet": [
           {
            "aaxis": {
             "endlinecolor": "#2a3f5f",
             "gridcolor": "white",
             "linecolor": "white",
             "minorgridcolor": "white",
             "startlinecolor": "#2a3f5f"
            },
            "baxis": {
             "endlinecolor": "#2a3f5f",
             "gridcolor": "white",
             "linecolor": "white",
             "minorgridcolor": "white",
             "startlinecolor": "#2a3f5f"
            },
            "type": "carpet"
           }
          ],
          "choropleth": [
           {
            "colorbar": {
             "outlinewidth": 0,
             "ticks": ""
            },
            "type": "choropleth"
           }
          ],
          "contour": [
           {
            "colorbar": {
             "outlinewidth": 0,
             "ticks": ""
            },
            "colorscale": [
             [
              0,
              "#0d0887"
             ],
             [
              0.1111111111111111,
              "#46039f"
             ],
             [
              0.2222222222222222,
              "#7201a8"
             ],
             [
              0.3333333333333333,
              "#9c179e"
             ],
             [
              0.4444444444444444,
              "#bd3786"
             ],
             [
              0.5555555555555556,
              "#d8576b"
             ],
             [
              0.6666666666666666,
              "#ed7953"
             ],
             [
              0.7777777777777778,
              "#fb9f3a"
             ],
             [
              0.8888888888888888,
              "#fdca26"
             ],
             [
              1,
              "#f0f921"
             ]
            ],
            "type": "contour"
           }
          ],
          "contourcarpet": [
           {
            "colorbar": {
             "outlinewidth": 0,
             "ticks": ""
            },
            "type": "contourcarpet"
           }
          ],
          "heatmap": [
           {
            "colorbar": {
             "outlinewidth": 0,
             "ticks": ""
            },
            "colorscale": [
             [
              0,
              "#0d0887"
             ],
             [
              0.1111111111111111,
              "#46039f"
             ],
             [
              0.2222222222222222,
              "#7201a8"
             ],
             [
              0.3333333333333333,
              "#9c179e"
             ],
             [
              0.4444444444444444,
              "#bd3786"
             ],
             [
              0.5555555555555556,
              "#d8576b"
             ],
             [
              0.6666666666666666,
              "#ed7953"
             ],
             [
              0.7777777777777778,
              "#fb9f3a"
             ],
             [
              0.8888888888888888,
              "#fdca26"
             ],
             [
              1,
              "#f0f921"
             ]
            ],
            "type": "heatmap"
           }
          ],
          "heatmapgl": [
           {
            "colorbar": {
             "outlinewidth": 0,
             "ticks": ""
            },
            "colorscale": [
             [
              0,
              "#0d0887"
             ],
             [
              0.1111111111111111,
              "#46039f"
             ],
             [
              0.2222222222222222,
              "#7201a8"
             ],
             [
              0.3333333333333333,
              "#9c179e"
             ],
             [
              0.4444444444444444,
              "#bd3786"
             ],
             [
              0.5555555555555556,
              "#d8576b"
             ],
             [
              0.6666666666666666,
              "#ed7953"
             ],
             [
              0.7777777777777778,
              "#fb9f3a"
             ],
             [
              0.8888888888888888,
              "#fdca26"
             ],
             [
              1,
              "#f0f921"
             ]
            ],
            "type": "heatmapgl"
           }
          ],
          "histogram": [
           {
            "marker": {
             "pattern": {
              "fillmode": "overlay",
              "size": 10,
              "solidity": 0.2
             }
            },
            "type": "histogram"
           }
          ],
          "histogram2d": [
           {
            "colorbar": {
             "outlinewidth": 0,
             "ticks": ""
            },
            "colorscale": [
             [
              0,
              "#0d0887"
             ],
             [
              0.1111111111111111,
              "#46039f"
             ],
             [
              0.2222222222222222,
              "#7201a8"
             ],
             [
              0.3333333333333333,
              "#9c179e"
             ],
             [
              0.4444444444444444,
              "#bd3786"
             ],
             [
              0.5555555555555556,
              "#d8576b"
             ],
             [
              0.6666666666666666,
              "#ed7953"
             ],
             [
              0.7777777777777778,
              "#fb9f3a"
             ],
             [
              0.8888888888888888,
              "#fdca26"
             ],
             [
              1,
              "#f0f921"
             ]
            ],
            "type": "histogram2d"
           }
          ],
          "histogram2dcontour": [
           {
            "colorbar": {
             "outlinewidth": 0,
             "ticks": ""
            },
            "colorscale": [
             [
              0,
              "#0d0887"
             ],
             [
              0.1111111111111111,
              "#46039f"
             ],
             [
              0.2222222222222222,
              "#7201a8"
             ],
             [
              0.3333333333333333,
              "#9c179e"
             ],
             [
              0.4444444444444444,
              "#bd3786"
             ],
             [
              0.5555555555555556,
              "#d8576b"
             ],
             [
              0.6666666666666666,
              "#ed7953"
             ],
             [
              0.7777777777777778,
              "#fb9f3a"
             ],
             [
              0.8888888888888888,
              "#fdca26"
             ],
             [
              1,
              "#f0f921"
             ]
            ],
            "type": "histogram2dcontour"
           }
          ],
          "mesh3d": [
           {
            "colorbar": {
             "outlinewidth": 0,
             "ticks": ""
            },
            "type": "mesh3d"
           }
          ],
          "parcoords": [
           {
            "line": {
             "colorbar": {
              "outlinewidth": 0,
              "ticks": ""
             }
            },
            "type": "parcoords"
           }
          ],
          "pie": [
           {
            "automargin": true,
            "type": "pie"
           }
          ],
          "scatter": [
           {
            "fillpattern": {
             "fillmode": "overlay",
             "size": 10,
             "solidity": 0.2
            },
            "type": "scatter"
           }
          ],
          "scatter3d": [
           {
            "line": {
             "colorbar": {
              "outlinewidth": 0,
              "ticks": ""
             }
            },
            "marker": {
             "colorbar": {
              "outlinewidth": 0,
              "ticks": ""
             }
            },
            "type": "scatter3d"
           }
          ],
          "scattercarpet": [
           {
            "marker": {
             "colorbar": {
              "outlinewidth": 0,
              "ticks": ""
             }
            },
            "type": "scattercarpet"
           }
          ],
          "scattergeo": [
           {
            "marker": {
             "colorbar": {
              "outlinewidth": 0,
              "ticks": ""
             }
            },
            "type": "scattergeo"
           }
          ],
          "scattergl": [
           {
            "marker": {
             "colorbar": {
              "outlinewidth": 0,
              "ticks": ""
             }
            },
            "type": "scattergl"
           }
          ],
          "scattermapbox": [
           {
            "marker": {
             "colorbar": {
              "outlinewidth": 0,
              "ticks": ""
             }
            },
            "type": "scattermapbox"
           }
          ],
          "scatterpolar": [
           {
            "marker": {
             "colorbar": {
              "outlinewidth": 0,
              "ticks": ""
             }
            },
            "type": "scatterpolar"
           }
          ],
          "scatterpolargl": [
           {
            "marker": {
             "colorbar": {
              "outlinewidth": 0,
              "ticks": ""
             }
            },
            "type": "scatterpolargl"
           }
          ],
          "scatterternary": [
           {
            "marker": {
             "colorbar": {
              "outlinewidth": 0,
              "ticks": ""
             }
            },
            "type": "scatterternary"
           }
          ],
          "surface": [
           {
            "colorbar": {
             "outlinewidth": 0,
             "ticks": ""
            },
            "colorscale": [
             [
              0,
              "#0d0887"
             ],
             [
              0.1111111111111111,
              "#46039f"
             ],
             [
              0.2222222222222222,
              "#7201a8"
             ],
             [
              0.3333333333333333,
              "#9c179e"
             ],
             [
              0.4444444444444444,
              "#bd3786"
             ],
             [
              0.5555555555555556,
              "#d8576b"
             ],
             [
              0.6666666666666666,
              "#ed7953"
             ],
             [
              0.7777777777777778,
              "#fb9f3a"
             ],
             [
              0.8888888888888888,
              "#fdca26"
             ],
             [
              1,
              "#f0f921"
             ]
            ],
            "type": "surface"
           }
          ],
          "table": [
           {
            "cells": {
             "fill": {
              "color": "#EBF0F8"
             },
             "line": {
              "color": "white"
             }
            },
            "header": {
             "fill": {
              "color": "#C8D4E3"
             },
             "line": {
              "color": "white"
             }
            },
            "type": "table"
           }
          ]
         },
         "layout": {
          "annotationdefaults": {
           "arrowcolor": "#2a3f5f",
           "arrowhead": 0,
           "arrowwidth": 1
          },
          "autotypenumbers": "strict",
          "coloraxis": {
           "colorbar": {
            "outlinewidth": 0,
            "ticks": ""
           }
          },
          "colorscale": {
           "diverging": [
            [
             0,
             "#8e0152"
            ],
            [
             0.1,
             "#c51b7d"
            ],
            [
             0.2,
             "#de77ae"
            ],
            [
             0.3,
             "#f1b6da"
            ],
            [
             0.4,
             "#fde0ef"
            ],
            [
             0.5,
             "#f7f7f7"
            ],
            [
             0.6,
             "#e6f5d0"
            ],
            [
             0.7,
             "#b8e186"
            ],
            [
             0.8,
             "#7fbc41"
            ],
            [
             0.9,
             "#4d9221"
            ],
            [
             1,
             "#276419"
            ]
           ],
           "sequential": [
            [
             0,
             "#0d0887"
            ],
            [
             0.1111111111111111,
             "#46039f"
            ],
            [
             0.2222222222222222,
             "#7201a8"
            ],
            [
             0.3333333333333333,
             "#9c179e"
            ],
            [
             0.4444444444444444,
             "#bd3786"
            ],
            [
             0.5555555555555556,
             "#d8576b"
            ],
            [
             0.6666666666666666,
             "#ed7953"
            ],
            [
             0.7777777777777778,
             "#fb9f3a"
            ],
            [
             0.8888888888888888,
             "#fdca26"
            ],
            [
             1,
             "#f0f921"
            ]
           ],
           "sequentialminus": [
            [
             0,
             "#0d0887"
            ],
            [
             0.1111111111111111,
             "#46039f"
            ],
            [
             0.2222222222222222,
             "#7201a8"
            ],
            [
             0.3333333333333333,
             "#9c179e"
            ],
            [
             0.4444444444444444,
             "#bd3786"
            ],
            [
             0.5555555555555556,
             "#d8576b"
            ],
            [
             0.6666666666666666,
             "#ed7953"
            ],
            [
             0.7777777777777778,
             "#fb9f3a"
            ],
            [
             0.8888888888888888,
             "#fdca26"
            ],
            [
             1,
             "#f0f921"
            ]
           ]
          },
          "colorway": [
           "#636efa",
           "#EF553B",
           "#00cc96",
           "#ab63fa",
           "#FFA15A",
           "#19d3f3",
           "#FF6692",
           "#B6E880",
           "#FF97FF",
           "#FECB52"
          ],
          "font": {
           "color": "#2a3f5f"
          },
          "geo": {
           "bgcolor": "white",
           "lakecolor": "white",
           "landcolor": "#E5ECF6",
           "showlakes": true,
           "showland": true,
           "subunitcolor": "white"
          },
          "hoverlabel": {
           "align": "left"
          },
          "hovermode": "closest",
          "mapbox": {
           "style": "light"
          },
          "paper_bgcolor": "white",
          "plot_bgcolor": "#E5ECF6",
          "polar": {
           "angularaxis": {
            "gridcolor": "white",
            "linecolor": "white",
            "ticks": ""
           },
           "bgcolor": "#E5ECF6",
           "radialaxis": {
            "gridcolor": "white",
            "linecolor": "white",
            "ticks": ""
           }
          },
          "scene": {
           "xaxis": {
            "backgroundcolor": "#E5ECF6",
            "gridcolor": "white",
            "gridwidth": 2,
            "linecolor": "white",
            "showbackground": true,
            "ticks": "",
            "zerolinecolor": "white"
           },
           "yaxis": {
            "backgroundcolor": "#E5ECF6",
            "gridcolor": "white",
            "gridwidth": 2,
            "linecolor": "white",
            "showbackground": true,
            "ticks": "",
            "zerolinecolor": "white"
           },
           "zaxis": {
            "backgroundcolor": "#E5ECF6",
            "gridcolor": "white",
            "gridwidth": 2,
            "linecolor": "white",
            "showbackground": true,
            "ticks": "",
            "zerolinecolor": "white"
           }
          },
          "shapedefaults": {
           "line": {
            "color": "#2a3f5f"
           }
          },
          "ternary": {
           "aaxis": {
            "gridcolor": "white",
            "linecolor": "white",
            "ticks": ""
           },
           "baxis": {
            "gridcolor": "white",
            "linecolor": "white",
            "ticks": ""
           },
           "bgcolor": "#E5ECF6",
           "caxis": {
            "gridcolor": "white",
            "linecolor": "white",
            "ticks": ""
           }
          },
          "title": {
           "x": 0.05
          },
          "xaxis": {
           "automargin": true,
           "gridcolor": "white",
           "linecolor": "white",
           "ticks": "",
           "title": {
            "standoff": 15
           },
           "zerolinecolor": "white",
           "zerolinewidth": 2
          },
          "yaxis": {
           "automargin": true,
           "gridcolor": "white",
           "linecolor": "white",
           "ticks": "",
           "title": {
            "standoff": 15
           },
           "zerolinecolor": "white",
           "zerolinewidth": 2
          }
         }
        },
        "xaxis": {
         "anchor": "y",
         "domain": [
          0,
          1
         ],
         "title": {
          "text": "Month"
         }
        },
        "yaxis": {
         "anchor": "x",
         "domain": [
          0,
          1
         ],
         "title": {
          "text": "ConversionRate"
         }
        }
       }
      }
     },
     "metadata": {},
     "output_type": "display_data"
    }
   ],
   "source": [
    "import plotly.express as px\n",
    "\n",
    "concat_df['ConversionRate'] = concat_df['ConversionRate'].round(2)  # Round ConversionRate to two decimal places\n",
    "# Create a scatter plot with a trendline, color by 'EventType_hot', and facet by 'Month'\n",
    "fig = px.line(concat_df,\n",
    "                  x='Month', y='ConversionRate', color='EventType', markers=True,\n",
    "                  text='ConversionRate')\n",
    "\n",
    "fig.update_traces(textposition='bottom center')\n",
    "# Show the plot\n",
    "fig.show()"
   ]
  },
  {
   "cell_type": "code",
   "execution_count": null,
   "metadata": {},
   "outputs": [
    {
     "data": {
      "text/html": [
       "<div>\n",
       "<style scoped>\n",
       "    .dataframe tbody tr th:only-of-type {\n",
       "        vertical-align: middle;\n",
       "    }\n",
       "\n",
       "    .dataframe tbody tr th {\n",
       "        vertical-align: top;\n",
       "    }\n",
       "\n",
       "    .dataframe thead th {\n",
       "        text-align: right;\n",
       "    }\n",
       "</style>\n",
       "<table border=\"1\" class=\"dataframe\">\n",
       "  <thead>\n",
       "    <tr style=\"text-align: right;\">\n",
       "      <th></th>\n",
       "      <th>EventType_mobile</th>\n",
       "      <th>EventDateTime_mobile</th>\n",
       "      <th>DateDifference_mobile</th>\n",
       "    </tr>\n",
       "  </thead>\n",
       "  <tbody>\n",
       "    <tr>\n",
       "      <th>0</th>\n",
       "      <td>NaN</td>\n",
       "      <td>NaN</td>\n",
       "      <td>NaN</td>\n",
       "    </tr>\n",
       "    <tr>\n",
       "      <th>1</th>\n",
       "      <td>MOBILE_VERIFIED</td>\n",
       "      <td>2023-01-01T00:53:40+0000</td>\n",
       "      <td>0.0</td>\n",
       "    </tr>\n",
       "    <tr>\n",
       "      <th>2</th>\n",
       "      <td>MOBILE_VERIFIED</td>\n",
       "      <td>2023-01-01T01:09:21+0000</td>\n",
       "      <td>0.0</td>\n",
       "    </tr>\n",
       "    <tr>\n",
       "      <th>3</th>\n",
       "      <td>MOBILE_VERIFIED</td>\n",
       "      <td>2023-01-01T01:20:54+0000</td>\n",
       "      <td>0.0</td>\n",
       "    </tr>\n",
       "    <tr>\n",
       "      <th>4</th>\n",
       "      <td>MOBILE_VERIFIED</td>\n",
       "      <td>2023-01-01T01:25:54+0000</td>\n",
       "      <td>0.0</td>\n",
       "    </tr>\n",
       "    <tr>\n",
       "      <th>...</th>\n",
       "      <td>...</td>\n",
       "      <td>...</td>\n",
       "      <td>...</td>\n",
       "    </tr>\n",
       "    <tr>\n",
       "      <th>51753</th>\n",
       "      <td>NaN</td>\n",
       "      <td>NaN</td>\n",
       "      <td>NaN</td>\n",
       "    </tr>\n",
       "    <tr>\n",
       "      <th>51754</th>\n",
       "      <td>NaN</td>\n",
       "      <td>NaN</td>\n",
       "      <td>NaN</td>\n",
       "    </tr>\n",
       "    <tr>\n",
       "      <th>51755</th>\n",
       "      <td>NaN</td>\n",
       "      <td>NaN</td>\n",
       "      <td>NaN</td>\n",
       "    </tr>\n",
       "    <tr>\n",
       "      <th>51756</th>\n",
       "      <td>NaN</td>\n",
       "      <td>NaN</td>\n",
       "      <td>NaN</td>\n",
       "    </tr>\n",
       "    <tr>\n",
       "      <th>51757</th>\n",
       "      <td>NaN</td>\n",
       "      <td>NaN</td>\n",
       "      <td>NaN</td>\n",
       "    </tr>\n",
       "  </tbody>\n",
       "</table>\n",
       "<p>51758 rows × 3 columns</p>\n",
       "</div>"
      ],
      "text/plain": [
       "      EventType_mobile      EventDateTime_mobile  DateDifference_mobile\n",
       "0                  NaN                       NaN                    NaN\n",
       "1      MOBILE_VERIFIED  2023-01-01T00:53:40+0000                    0.0\n",
       "2      MOBILE_VERIFIED  2023-01-01T01:09:21+0000                    0.0\n",
       "3      MOBILE_VERIFIED  2023-01-01T01:20:54+0000                    0.0\n",
       "4      MOBILE_VERIFIED  2023-01-01T01:25:54+0000                    0.0\n",
       "...                ...                       ...                    ...\n",
       "51753              NaN                       NaN                    NaN\n",
       "51754              NaN                       NaN                    NaN\n",
       "51755              NaN                       NaN                    NaN\n",
       "51756              NaN                       NaN                    NaN\n",
       "51757              NaN                       NaN                    NaN\n",
       "\n",
       "[51758 rows x 3 columns]"
      ]
     },
     "execution_count": 14,
     "metadata": {},
     "output_type": "execute_result"
    }
   ],
   "source": [
    "df[[\"EventType_mobile\", \"EventDateTime_mobile\", \"DateDifference_mobile\"]]"
   ]
  }
 ],
 "metadata": {
  "kernelspec": {
   "display_name": "Python 3",
   "language": "python",
   "name": "python3"
  },
  "language_info": {
   "codemirror_mode": {
    "name": "ipython",
    "version": 3
   },
   "file_extension": ".py",
   "mimetype": "text/x-python",
   "name": "python",
   "nbconvert_exporter": "python",
   "pygments_lexer": "ipython3",
   "version": "3.11.6"
  }
 },
 "nbformat": 4,
 "nbformat_minor": 2
}
