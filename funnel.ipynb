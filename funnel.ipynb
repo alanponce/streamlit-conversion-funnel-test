{
 "cells": [
  {
   "cell_type": "code",
   "execution_count": 6,
   "metadata": {},
   "outputs": [],
   "source": [
    "import pandas as pd\n",
    "import datetime"
   ]
  },
  {
   "cell_type": "code",
   "execution_count": 21,
   "metadata": {},
   "outputs": [
    {
     "name": "stderr",
     "output_type": "stream",
     "text": [
      "C:\\Users\\PC\\AppData\\Local\\Temp\\ipykernel_15440\\58712716.py:2: DtypeWarning: Columns (57) have mixed types. Specify dtype option on import or set low_memory=False.\n",
      "  df = pd.read_csv(path_to_csv)\n"
     ]
    }
   ],
   "source": [
    "path_to_csv = \"data/merge_data.csv\"\n",
    "df = pd.read_csv(path_to_csv)\n",
    "df[ 'EventDateTime_soft' ] = pd.to_datetime(df[ 'EventDateTime_soft'], format=\"%Y-%m-%dT%H:%M:%S%z\")\n",
    "df[ 'EventDateTime_soft' ] = df[\"EventDateTime_soft\"].dt.date\n",
    "df[ 'EventDateTime_soft' ] = pd.to_datetime(df[ 'EventDateTime_soft'], format=\"%Y-%m-%d\")\n"
   ]
  },
  {
   "cell_type": "code",
   "execution_count": 22,
   "metadata": {},
   "outputs": [
    {
     "data": {
      "text/html": [
       "<div>\n",
       "<style scoped>\n",
       "    .dataframe tbody tr th:only-of-type {\n",
       "        vertical-align: middle;\n",
       "    }\n",
       "\n",
       "    .dataframe tbody tr th {\n",
       "        vertical-align: top;\n",
       "    }\n",
       "\n",
       "    .dataframe thead th {\n",
       "        text-align: right;\n",
       "    }\n",
       "</style>\n",
       "<table border=\"1\" class=\"dataframe\">\n",
       "  <thead>\n",
       "    <tr style=\"text-align: right;\">\n",
       "      <th></th>\n",
       "      <th>UserId</th>\n",
       "      <th>EventType</th>\n",
       "      <th>EventType.1</th>\n",
       "      <th>EventDateTime</th>\n",
       "      <th>EventType_soft</th>\n",
       "      <th>EventType_soft.1</th>\n",
       "      <th>EventDateTime_soft</th>\n",
       "      <th>DateDifference_soft</th>\n",
       "      <th>FundingIn2weeks_soft</th>\n",
       "      <th>EventType_hot</th>\n",
       "      <th>...</th>\n",
       "      <th>EventDateTime_identityV</th>\n",
       "      <th>DateDifference_identityV</th>\n",
       "      <th>FundingIn2weeks_identityV</th>\n",
       "      <th>EventType_accountIF</th>\n",
       "      <th>EventDateTime_accountIF</th>\n",
       "      <th>DateDifference_accountIF</th>\n",
       "      <th>FundingIn2weeks_accountIF</th>\n",
       "      <th>Platform</th>\n",
       "      <th>User.M.Age.N</th>\n",
       "      <th>User.M.Income.N</th>\n",
       "    </tr>\n",
       "  </thead>\n",
       "  <tbody>\n",
       "    <tr>\n",
       "      <th>0</th>\n",
       "      <td>1112158</td>\n",
       "      <td>SOFT_LEAD</td>\n",
       "      <td>SOFT_LEAD</td>\n",
       "      <td>2023-01-01T00:32:48+0000</td>\n",
       "      <td>SOFT_LEAD</td>\n",
       "      <td>SOFT_LEAD</td>\n",
       "      <td>2023-01-01</td>\n",
       "      <td>0</td>\n",
       "      <td>1</td>\n",
       "      <td>NaN</td>\n",
       "      <td>...</td>\n",
       "      <td>NaN</td>\n",
       "      <td>NaN</td>\n",
       "      <td>0</td>\n",
       "      <td>NaN</td>\n",
       "      <td>NaN</td>\n",
       "      <td>NaN</td>\n",
       "      <td>0</td>\n",
       "      <td>NaN</td>\n",
       "      <td>NaN</td>\n",
       "      <td>NaN</td>\n",
       "    </tr>\n",
       "    <tr>\n",
       "      <th>1</th>\n",
       "      <td>1112159</td>\n",
       "      <td>SOFT_LEAD</td>\n",
       "      <td>SOFT_LEAD</td>\n",
       "      <td>2023-01-01T00:52:35+0000</td>\n",
       "      <td>SOFT_LEAD</td>\n",
       "      <td>SOFT_LEAD</td>\n",
       "      <td>2023-01-01</td>\n",
       "      <td>0</td>\n",
       "      <td>1</td>\n",
       "      <td>HOT_LEAD</td>\n",
       "      <td>...</td>\n",
       "      <td>2023-01-08 15:10:20.931000+00:00</td>\n",
       "      <td>7.0</td>\n",
       "      <td>1</td>\n",
       "      <td>NaN</td>\n",
       "      <td>NaN</td>\n",
       "      <td>NaN</td>\n",
       "      <td>0</td>\n",
       "      <td>NaN</td>\n",
       "      <td>27.0</td>\n",
       "      <td>12500.0</td>\n",
       "    </tr>\n",
       "    <tr>\n",
       "      <th>2</th>\n",
       "      <td>1112160</td>\n",
       "      <td>SOFT_LEAD</td>\n",
       "      <td>SOFT_LEAD</td>\n",
       "      <td>2023-01-01T01:07:16+0000</td>\n",
       "      <td>SOFT_LEAD</td>\n",
       "      <td>SOFT_LEAD</td>\n",
       "      <td>2023-01-01</td>\n",
       "      <td>0</td>\n",
       "      <td>1</td>\n",
       "      <td>HOT_LEAD</td>\n",
       "      <td>...</td>\n",
       "      <td>NaN</td>\n",
       "      <td>NaN</td>\n",
       "      <td>0</td>\n",
       "      <td>NaN</td>\n",
       "      <td>NaN</td>\n",
       "      <td>NaN</td>\n",
       "      <td>0</td>\n",
       "      <td>NaN</td>\n",
       "      <td>NaN</td>\n",
       "      <td>NaN</td>\n",
       "    </tr>\n",
       "    <tr>\n",
       "      <th>3</th>\n",
       "      <td>1112161</td>\n",
       "      <td>SOFT_LEAD</td>\n",
       "      <td>SOFT_LEAD</td>\n",
       "      <td>2023-01-01T01:19:29+0000</td>\n",
       "      <td>SOFT_LEAD</td>\n",
       "      <td>SOFT_LEAD</td>\n",
       "      <td>2023-01-01</td>\n",
       "      <td>0</td>\n",
       "      <td>1</td>\n",
       "      <td>HOT_LEAD</td>\n",
       "      <td>...</td>\n",
       "      <td>NaN</td>\n",
       "      <td>NaN</td>\n",
       "      <td>0</td>\n",
       "      <td>NaN</td>\n",
       "      <td>NaN</td>\n",
       "      <td>NaN</td>\n",
       "      <td>0</td>\n",
       "      <td>NaN</td>\n",
       "      <td>NaN</td>\n",
       "      <td>NaN</td>\n",
       "    </tr>\n",
       "    <tr>\n",
       "      <th>4</th>\n",
       "      <td>1112162</td>\n",
       "      <td>SOFT_LEAD</td>\n",
       "      <td>SOFT_LEAD</td>\n",
       "      <td>2023-01-01T01:19:39+0000</td>\n",
       "      <td>SOFT_LEAD</td>\n",
       "      <td>SOFT_LEAD</td>\n",
       "      <td>2023-01-01</td>\n",
       "      <td>0</td>\n",
       "      <td>1</td>\n",
       "      <td>HOT_LEAD</td>\n",
       "      <td>...</td>\n",
       "      <td>NaN</td>\n",
       "      <td>NaN</td>\n",
       "      <td>0</td>\n",
       "      <td>NaN</td>\n",
       "      <td>NaN</td>\n",
       "      <td>NaN</td>\n",
       "      <td>0</td>\n",
       "      <td>NaN</td>\n",
       "      <td>NaN</td>\n",
       "      <td>NaN</td>\n",
       "    </tr>\n",
       "    <tr>\n",
       "      <th>...</th>\n",
       "      <td>...</td>\n",
       "      <td>...</td>\n",
       "      <td>...</td>\n",
       "      <td>...</td>\n",
       "      <td>...</td>\n",
       "      <td>...</td>\n",
       "      <td>...</td>\n",
       "      <td>...</td>\n",
       "      <td>...</td>\n",
       "      <td>...</td>\n",
       "      <td>...</td>\n",
       "      <td>...</td>\n",
       "      <td>...</td>\n",
       "      <td>...</td>\n",
       "      <td>...</td>\n",
       "      <td>...</td>\n",
       "      <td>...</td>\n",
       "      <td>...</td>\n",
       "      <td>...</td>\n",
       "      <td>...</td>\n",
       "      <td>...</td>\n",
       "    </tr>\n",
       "    <tr>\n",
       "      <th>51542</th>\n",
       "      <td>1163797</td>\n",
       "      <td>SOFT_LEAD</td>\n",
       "      <td>SOFT_LEAD</td>\n",
       "      <td>2023-12-14T07:36:09+0000</td>\n",
       "      <td>SOFT_LEAD</td>\n",
       "      <td>SOFT_LEAD</td>\n",
       "      <td>2023-12-14</td>\n",
       "      <td>0</td>\n",
       "      <td>1</td>\n",
       "      <td>HOT_LEAD</td>\n",
       "      <td>...</td>\n",
       "      <td>NaN</td>\n",
       "      <td>NaN</td>\n",
       "      <td>0</td>\n",
       "      <td>NaN</td>\n",
       "      <td>NaN</td>\n",
       "      <td>NaN</td>\n",
       "      <td>0</td>\n",
       "      <td>iOS</td>\n",
       "      <td>NaN</td>\n",
       "      <td>NaN</td>\n",
       "    </tr>\n",
       "    <tr>\n",
       "      <th>51543</th>\n",
       "      <td>1163798</td>\n",
       "      <td>SOFT_LEAD</td>\n",
       "      <td>SOFT_LEAD</td>\n",
       "      <td>2023-12-14T07:36:48+0000</td>\n",
       "      <td>SOFT_LEAD</td>\n",
       "      <td>SOFT_LEAD</td>\n",
       "      <td>2023-12-14</td>\n",
       "      <td>0</td>\n",
       "      <td>1</td>\n",
       "      <td>HOT_LEAD</td>\n",
       "      <td>...</td>\n",
       "      <td>NaN</td>\n",
       "      <td>NaN</td>\n",
       "      <td>0</td>\n",
       "      <td>NaN</td>\n",
       "      <td>NaN</td>\n",
       "      <td>NaN</td>\n",
       "      <td>0</td>\n",
       "      <td>Android</td>\n",
       "      <td>NaN</td>\n",
       "      <td>NaN</td>\n",
       "    </tr>\n",
       "    <tr>\n",
       "      <th>51544</th>\n",
       "      <td>1163799</td>\n",
       "      <td>SOFT_LEAD</td>\n",
       "      <td>SOFT_LEAD</td>\n",
       "      <td>2023-12-14T07:43:23+0000</td>\n",
       "      <td>SOFT_LEAD</td>\n",
       "      <td>SOFT_LEAD</td>\n",
       "      <td>2023-12-14</td>\n",
       "      <td>0</td>\n",
       "      <td>1</td>\n",
       "      <td>HOT_LEAD</td>\n",
       "      <td>...</td>\n",
       "      <td>NaN</td>\n",
       "      <td>NaN</td>\n",
       "      <td>0</td>\n",
       "      <td>NaN</td>\n",
       "      <td>NaN</td>\n",
       "      <td>NaN</td>\n",
       "      <td>0</td>\n",
       "      <td>iOS</td>\n",
       "      <td>19.0</td>\n",
       "      <td>NaN</td>\n",
       "    </tr>\n",
       "    <tr>\n",
       "      <th>51545</th>\n",
       "      <td>1163800</td>\n",
       "      <td>SOFT_LEAD</td>\n",
       "      <td>SOFT_LEAD</td>\n",
       "      <td>2023-12-14T07:54:46+0000</td>\n",
       "      <td>SOFT_LEAD</td>\n",
       "      <td>SOFT_LEAD</td>\n",
       "      <td>2023-12-14</td>\n",
       "      <td>0</td>\n",
       "      <td>1</td>\n",
       "      <td>HOT_LEAD</td>\n",
       "      <td>...</td>\n",
       "      <td>NaN</td>\n",
       "      <td>NaN</td>\n",
       "      <td>0</td>\n",
       "      <td>NaN</td>\n",
       "      <td>NaN</td>\n",
       "      <td>NaN</td>\n",
       "      <td>0</td>\n",
       "      <td>iOS</td>\n",
       "      <td>NaN</td>\n",
       "      <td>NaN</td>\n",
       "    </tr>\n",
       "    <tr>\n",
       "      <th>51546</th>\n",
       "      <td>1163801</td>\n",
       "      <td>SOFT_LEAD</td>\n",
       "      <td>SOFT_LEAD</td>\n",
       "      <td>2023-12-14T08:47:02+0000</td>\n",
       "      <td>SOFT_LEAD</td>\n",
       "      <td>SOFT_LEAD</td>\n",
       "      <td>2023-12-14</td>\n",
       "      <td>0</td>\n",
       "      <td>1</td>\n",
       "      <td>HOT_LEAD</td>\n",
       "      <td>...</td>\n",
       "      <td>NaN</td>\n",
       "      <td>NaN</td>\n",
       "      <td>0</td>\n",
       "      <td>NaN</td>\n",
       "      <td>NaN</td>\n",
       "      <td>NaN</td>\n",
       "      <td>0</td>\n",
       "      <td>iOS</td>\n",
       "      <td>24.0</td>\n",
       "      <td>12500.0</td>\n",
       "    </tr>\n",
       "  </tbody>\n",
       "</table>\n",
       "<p>51547 rows × 60 columns</p>\n",
       "</div>"
      ],
      "text/plain": [
       "        UserId  EventType EventType.1             EventDateTime  \\\n",
       "0      1112158  SOFT_LEAD   SOFT_LEAD  2023-01-01T00:32:48+0000   \n",
       "1      1112159  SOFT_LEAD   SOFT_LEAD  2023-01-01T00:52:35+0000   \n",
       "2      1112160  SOFT_LEAD   SOFT_LEAD  2023-01-01T01:07:16+0000   \n",
       "3      1112161  SOFT_LEAD   SOFT_LEAD  2023-01-01T01:19:29+0000   \n",
       "4      1112162  SOFT_LEAD   SOFT_LEAD  2023-01-01T01:19:39+0000   \n",
       "...        ...        ...         ...                       ...   \n",
       "51542  1163797  SOFT_LEAD   SOFT_LEAD  2023-12-14T07:36:09+0000   \n",
       "51543  1163798  SOFT_LEAD   SOFT_LEAD  2023-12-14T07:36:48+0000   \n",
       "51544  1163799  SOFT_LEAD   SOFT_LEAD  2023-12-14T07:43:23+0000   \n",
       "51545  1163800  SOFT_LEAD   SOFT_LEAD  2023-12-14T07:54:46+0000   \n",
       "51546  1163801  SOFT_LEAD   SOFT_LEAD  2023-12-14T08:47:02+0000   \n",
       "\n",
       "      EventType_soft EventType_soft.1 EventDateTime_soft  DateDifference_soft  \\\n",
       "0          SOFT_LEAD        SOFT_LEAD         2023-01-01                    0   \n",
       "1          SOFT_LEAD        SOFT_LEAD         2023-01-01                    0   \n",
       "2          SOFT_LEAD        SOFT_LEAD         2023-01-01                    0   \n",
       "3          SOFT_LEAD        SOFT_LEAD         2023-01-01                    0   \n",
       "4          SOFT_LEAD        SOFT_LEAD         2023-01-01                    0   \n",
       "...              ...              ...                ...                  ...   \n",
       "51542      SOFT_LEAD        SOFT_LEAD         2023-12-14                    0   \n",
       "51543      SOFT_LEAD        SOFT_LEAD         2023-12-14                    0   \n",
       "51544      SOFT_LEAD        SOFT_LEAD         2023-12-14                    0   \n",
       "51545      SOFT_LEAD        SOFT_LEAD         2023-12-14                    0   \n",
       "51546      SOFT_LEAD        SOFT_LEAD         2023-12-14                    0   \n",
       "\n",
       "       FundingIn2weeks_soft EventType_hot  ...  \\\n",
       "0                         1           NaN  ...   \n",
       "1                         1      HOT_LEAD  ...   \n",
       "2                         1      HOT_LEAD  ...   \n",
       "3                         1      HOT_LEAD  ...   \n",
       "4                         1      HOT_LEAD  ...   \n",
       "...                     ...           ...  ...   \n",
       "51542                     1      HOT_LEAD  ...   \n",
       "51543                     1      HOT_LEAD  ...   \n",
       "51544                     1      HOT_LEAD  ...   \n",
       "51545                     1      HOT_LEAD  ...   \n",
       "51546                     1      HOT_LEAD  ...   \n",
       "\n",
       "                EventDateTime_identityV  DateDifference_identityV  \\\n",
       "0                                   NaN                       NaN   \n",
       "1      2023-01-08 15:10:20.931000+00:00                       7.0   \n",
       "2                                   NaN                       NaN   \n",
       "3                                   NaN                       NaN   \n",
       "4                                   NaN                       NaN   \n",
       "...                                 ...                       ...   \n",
       "51542                               NaN                       NaN   \n",
       "51543                               NaN                       NaN   \n",
       "51544                               NaN                       NaN   \n",
       "51545                               NaN                       NaN   \n",
       "51546                               NaN                       NaN   \n",
       "\n",
       "       FundingIn2weeks_identityV EventType_accountIF EventDateTime_accountIF  \\\n",
       "0                              0                 NaN                     NaN   \n",
       "1                              1                 NaN                     NaN   \n",
       "2                              0                 NaN                     NaN   \n",
       "3                              0                 NaN                     NaN   \n",
       "4                              0                 NaN                     NaN   \n",
       "...                          ...                 ...                     ...   \n",
       "51542                          0                 NaN                     NaN   \n",
       "51543                          0                 NaN                     NaN   \n",
       "51544                          0                 NaN                     NaN   \n",
       "51545                          0                 NaN                     NaN   \n",
       "51546                          0                 NaN                     NaN   \n",
       "\n",
       "       DateDifference_accountIF  FundingIn2weeks_accountIF Platform  \\\n",
       "0                           NaN                          0      NaN   \n",
       "1                           NaN                          0      NaN   \n",
       "2                           NaN                          0      NaN   \n",
       "3                           NaN                          0      NaN   \n",
       "4                           NaN                          0      NaN   \n",
       "...                         ...                        ...      ...   \n",
       "51542                       NaN                          0      iOS   \n",
       "51543                       NaN                          0  Android   \n",
       "51544                       NaN                          0      iOS   \n",
       "51545                       NaN                          0      iOS   \n",
       "51546                       NaN                          0      iOS   \n",
       "\n",
       "      User.M.Age.N  User.M.Income.N  \n",
       "0              NaN              NaN  \n",
       "1             27.0          12500.0  \n",
       "2              NaN              NaN  \n",
       "3              NaN              NaN  \n",
       "4              NaN              NaN  \n",
       "...            ...              ...  \n",
       "51542          NaN              NaN  \n",
       "51543          NaN              NaN  \n",
       "51544         19.0              NaN  \n",
       "51545          NaN              NaN  \n",
       "51546         24.0          12500.0  \n",
       "\n",
       "[51547 rows x 60 columns]"
      ]
     },
     "execution_count": 22,
     "metadata": {},
     "output_type": "execute_result"
    }
   ],
   "source": [
    "df"
   ]
  },
  {
   "cell_type": "code",
   "execution_count": 92,
   "metadata": {},
   "outputs": [],
   "source": [
    "df_filter = df[(df['EventDateTime_soft'] >= datetime.datetime(2023, 1, 1)) & (df['EventDateTime_soft'] <=  datetime.datetime(2023, 1, 30) )]"
   ]
  },
  {
   "cell_type": "code",
   "execution_count": 93,
   "metadata": {},
   "outputs": [
    {
     "data": {
      "text/html": [
       "<div>\n",
       "<style scoped>\n",
       "    .dataframe tbody tr th:only-of-type {\n",
       "        vertical-align: middle;\n",
       "    }\n",
       "\n",
       "    .dataframe tbody tr th {\n",
       "        vertical-align: top;\n",
       "    }\n",
       "\n",
       "    .dataframe thead th {\n",
       "        text-align: right;\n",
       "    }\n",
       "</style>\n",
       "<table border=\"1\" class=\"dataframe\">\n",
       "  <thead>\n",
       "    <tr style=\"text-align: right;\">\n",
       "      <th></th>\n",
       "      <th>UserId</th>\n",
       "      <th>EventType</th>\n",
       "      <th>EventType.1</th>\n",
       "      <th>EventDateTime</th>\n",
       "      <th>EventType_soft</th>\n",
       "      <th>EventType_soft.1</th>\n",
       "      <th>EventDateTime_soft</th>\n",
       "      <th>DateDifference_soft</th>\n",
       "      <th>FundingIn2weeks_soft</th>\n",
       "      <th>EventType_hot</th>\n",
       "      <th>...</th>\n",
       "      <th>EventDateTime_identityV</th>\n",
       "      <th>DateDifference_identityV</th>\n",
       "      <th>FundingIn2weeks_identityV</th>\n",
       "      <th>EventType_accountIF</th>\n",
       "      <th>EventDateTime_accountIF</th>\n",
       "      <th>DateDifference_accountIF</th>\n",
       "      <th>FundingIn2weeks_accountIF</th>\n",
       "      <th>Platform</th>\n",
       "      <th>User.M.Age.N</th>\n",
       "      <th>User.M.Income.N</th>\n",
       "    </tr>\n",
       "  </thead>\n",
       "  <tbody>\n",
       "    <tr>\n",
       "      <th>0</th>\n",
       "      <td>1112158</td>\n",
       "      <td>SOFT_LEAD</td>\n",
       "      <td>SOFT_LEAD</td>\n",
       "      <td>2023-01-01T00:32:48+0000</td>\n",
       "      <td>SOFT_LEAD</td>\n",
       "      <td>SOFT_LEAD</td>\n",
       "      <td>2023-01-01</td>\n",
       "      <td>0</td>\n",
       "      <td>1</td>\n",
       "      <td>NaN</td>\n",
       "      <td>...</td>\n",
       "      <td>NaN</td>\n",
       "      <td>NaN</td>\n",
       "      <td>0</td>\n",
       "      <td>NaN</td>\n",
       "      <td>NaN</td>\n",
       "      <td>NaN</td>\n",
       "      <td>0</td>\n",
       "      <td>NaN</td>\n",
       "      <td>NaN</td>\n",
       "      <td>NaN</td>\n",
       "    </tr>\n",
       "    <tr>\n",
       "      <th>1</th>\n",
       "      <td>1112159</td>\n",
       "      <td>SOFT_LEAD</td>\n",
       "      <td>SOFT_LEAD</td>\n",
       "      <td>2023-01-01T00:52:35+0000</td>\n",
       "      <td>SOFT_LEAD</td>\n",
       "      <td>SOFT_LEAD</td>\n",
       "      <td>2023-01-01</td>\n",
       "      <td>0</td>\n",
       "      <td>1</td>\n",
       "      <td>HOT_LEAD</td>\n",
       "      <td>...</td>\n",
       "      <td>2023-01-08 15:10:20.931000+00:00</td>\n",
       "      <td>7.0</td>\n",
       "      <td>1</td>\n",
       "      <td>NaN</td>\n",
       "      <td>NaN</td>\n",
       "      <td>NaN</td>\n",
       "      <td>0</td>\n",
       "      <td>NaN</td>\n",
       "      <td>27.0</td>\n",
       "      <td>12500.0</td>\n",
       "    </tr>\n",
       "    <tr>\n",
       "      <th>2</th>\n",
       "      <td>1112160</td>\n",
       "      <td>SOFT_LEAD</td>\n",
       "      <td>SOFT_LEAD</td>\n",
       "      <td>2023-01-01T01:07:16+0000</td>\n",
       "      <td>SOFT_LEAD</td>\n",
       "      <td>SOFT_LEAD</td>\n",
       "      <td>2023-01-01</td>\n",
       "      <td>0</td>\n",
       "      <td>1</td>\n",
       "      <td>HOT_LEAD</td>\n",
       "      <td>...</td>\n",
       "      <td>NaN</td>\n",
       "      <td>NaN</td>\n",
       "      <td>0</td>\n",
       "      <td>NaN</td>\n",
       "      <td>NaN</td>\n",
       "      <td>NaN</td>\n",
       "      <td>0</td>\n",
       "      <td>NaN</td>\n",
       "      <td>NaN</td>\n",
       "      <td>NaN</td>\n",
       "    </tr>\n",
       "    <tr>\n",
       "      <th>3</th>\n",
       "      <td>1112161</td>\n",
       "      <td>SOFT_LEAD</td>\n",
       "      <td>SOFT_LEAD</td>\n",
       "      <td>2023-01-01T01:19:29+0000</td>\n",
       "      <td>SOFT_LEAD</td>\n",
       "      <td>SOFT_LEAD</td>\n",
       "      <td>2023-01-01</td>\n",
       "      <td>0</td>\n",
       "      <td>1</td>\n",
       "      <td>HOT_LEAD</td>\n",
       "      <td>...</td>\n",
       "      <td>NaN</td>\n",
       "      <td>NaN</td>\n",
       "      <td>0</td>\n",
       "      <td>NaN</td>\n",
       "      <td>NaN</td>\n",
       "      <td>NaN</td>\n",
       "      <td>0</td>\n",
       "      <td>NaN</td>\n",
       "      <td>NaN</td>\n",
       "      <td>NaN</td>\n",
       "    </tr>\n",
       "    <tr>\n",
       "      <th>4</th>\n",
       "      <td>1112162</td>\n",
       "      <td>SOFT_LEAD</td>\n",
       "      <td>SOFT_LEAD</td>\n",
       "      <td>2023-01-01T01:19:39+0000</td>\n",
       "      <td>SOFT_LEAD</td>\n",
       "      <td>SOFT_LEAD</td>\n",
       "      <td>2023-01-01</td>\n",
       "      <td>0</td>\n",
       "      <td>1</td>\n",
       "      <td>HOT_LEAD</td>\n",
       "      <td>...</td>\n",
       "      <td>NaN</td>\n",
       "      <td>NaN</td>\n",
       "      <td>0</td>\n",
       "      <td>NaN</td>\n",
       "      <td>NaN</td>\n",
       "      <td>NaN</td>\n",
       "      <td>0</td>\n",
       "      <td>NaN</td>\n",
       "      <td>NaN</td>\n",
       "      <td>NaN</td>\n",
       "    </tr>\n",
       "    <tr>\n",
       "      <th>...</th>\n",
       "      <td>...</td>\n",
       "      <td>...</td>\n",
       "      <td>...</td>\n",
       "      <td>...</td>\n",
       "      <td>...</td>\n",
       "      <td>...</td>\n",
       "      <td>...</td>\n",
       "      <td>...</td>\n",
       "      <td>...</td>\n",
       "      <td>...</td>\n",
       "      <td>...</td>\n",
       "      <td>...</td>\n",
       "      <td>...</td>\n",
       "      <td>...</td>\n",
       "      <td>...</td>\n",
       "      <td>...</td>\n",
       "      <td>...</td>\n",
       "      <td>...</td>\n",
       "      <td>...</td>\n",
       "      <td>...</td>\n",
       "      <td>...</td>\n",
       "    </tr>\n",
       "    <tr>\n",
       "      <th>3752</th>\n",
       "      <td>1115920</td>\n",
       "      <td>SOFT_LEAD</td>\n",
       "      <td>SOFT_LEAD</td>\n",
       "      <td>2023-01-30T23:31:38+0000</td>\n",
       "      <td>SOFT_LEAD</td>\n",
       "      <td>SOFT_LEAD</td>\n",
       "      <td>2023-01-30</td>\n",
       "      <td>0</td>\n",
       "      <td>1</td>\n",
       "      <td>HOT_LEAD</td>\n",
       "      <td>...</td>\n",
       "      <td>2023-02-09 11:36:37.976000+00:00</td>\n",
       "      <td>9.0</td>\n",
       "      <td>1</td>\n",
       "      <td>NaN</td>\n",
       "      <td>NaN</td>\n",
       "      <td>NaN</td>\n",
       "      <td>0</td>\n",
       "      <td>NaN</td>\n",
       "      <td>44.0</td>\n",
       "      <td>62500.0</td>\n",
       "    </tr>\n",
       "    <tr>\n",
       "      <th>3753</th>\n",
       "      <td>1115921</td>\n",
       "      <td>SOFT_LEAD</td>\n",
       "      <td>SOFT_LEAD</td>\n",
       "      <td>2023-01-30T23:32:14+0000</td>\n",
       "      <td>SOFT_LEAD</td>\n",
       "      <td>SOFT_LEAD</td>\n",
       "      <td>2023-01-30</td>\n",
       "      <td>0</td>\n",
       "      <td>1</td>\n",
       "      <td>HOT_LEAD</td>\n",
       "      <td>...</td>\n",
       "      <td>NaN</td>\n",
       "      <td>NaN</td>\n",
       "      <td>0</td>\n",
       "      <td>NaN</td>\n",
       "      <td>NaN</td>\n",
       "      <td>NaN</td>\n",
       "      <td>0</td>\n",
       "      <td>NaN</td>\n",
       "      <td>NaN</td>\n",
       "      <td>NaN</td>\n",
       "    </tr>\n",
       "    <tr>\n",
       "      <th>3754</th>\n",
       "      <td>1115922</td>\n",
       "      <td>SOFT_LEAD</td>\n",
       "      <td>SOFT_LEAD</td>\n",
       "      <td>2023-01-30T23:37:15+0000</td>\n",
       "      <td>SOFT_LEAD</td>\n",
       "      <td>SOFT_LEAD</td>\n",
       "      <td>2023-01-30</td>\n",
       "      <td>0</td>\n",
       "      <td>1</td>\n",
       "      <td>HOT_LEAD</td>\n",
       "      <td>...</td>\n",
       "      <td>2023-02-24 17:47:22.514000+00:00</td>\n",
       "      <td>24.0</td>\n",
       "      <td>0</td>\n",
       "      <td>ACCOUNT_INITIAL_FUNDING</td>\n",
       "      <td>2023-02-28 12:26:44.006000+00:00</td>\n",
       "      <td>28.0</td>\n",
       "      <td>0</td>\n",
       "      <td>NaN</td>\n",
       "      <td>35.0</td>\n",
       "      <td>62500.0</td>\n",
       "    </tr>\n",
       "    <tr>\n",
       "      <th>3755</th>\n",
       "      <td>1115923</td>\n",
       "      <td>SOFT_LEAD</td>\n",
       "      <td>SOFT_LEAD</td>\n",
       "      <td>2023-01-30T23:46:57+0000</td>\n",
       "      <td>SOFT_LEAD</td>\n",
       "      <td>SOFT_LEAD</td>\n",
       "      <td>2023-01-30</td>\n",
       "      <td>0</td>\n",
       "      <td>1</td>\n",
       "      <td>HOT_LEAD</td>\n",
       "      <td>...</td>\n",
       "      <td>NaN</td>\n",
       "      <td>NaN</td>\n",
       "      <td>0</td>\n",
       "      <td>NaN</td>\n",
       "      <td>NaN</td>\n",
       "      <td>NaN</td>\n",
       "      <td>0</td>\n",
       "      <td>NaN</td>\n",
       "      <td>44.0</td>\n",
       "      <td>NaN</td>\n",
       "    </tr>\n",
       "    <tr>\n",
       "      <th>3756</th>\n",
       "      <td>1115924</td>\n",
       "      <td>SOFT_LEAD</td>\n",
       "      <td>SOFT_LEAD</td>\n",
       "      <td>2023-01-30T23:47:25+0000</td>\n",
       "      <td>SOFT_LEAD</td>\n",
       "      <td>SOFT_LEAD</td>\n",
       "      <td>2023-01-30</td>\n",
       "      <td>0</td>\n",
       "      <td>1</td>\n",
       "      <td>NaN</td>\n",
       "      <td>...</td>\n",
       "      <td>NaN</td>\n",
       "      <td>NaN</td>\n",
       "      <td>0</td>\n",
       "      <td>NaN</td>\n",
       "      <td>NaN</td>\n",
       "      <td>NaN</td>\n",
       "      <td>0</td>\n",
       "      <td>NaN</td>\n",
       "      <td>NaN</td>\n",
       "      <td>NaN</td>\n",
       "    </tr>\n",
       "  </tbody>\n",
       "</table>\n",
       "<p>3757 rows × 60 columns</p>\n",
       "</div>"
      ],
      "text/plain": [
       "       UserId  EventType EventType.1             EventDateTime EventType_soft  \\\n",
       "0     1112158  SOFT_LEAD   SOFT_LEAD  2023-01-01T00:32:48+0000      SOFT_LEAD   \n",
       "1     1112159  SOFT_LEAD   SOFT_LEAD  2023-01-01T00:52:35+0000      SOFT_LEAD   \n",
       "2     1112160  SOFT_LEAD   SOFT_LEAD  2023-01-01T01:07:16+0000      SOFT_LEAD   \n",
       "3     1112161  SOFT_LEAD   SOFT_LEAD  2023-01-01T01:19:29+0000      SOFT_LEAD   \n",
       "4     1112162  SOFT_LEAD   SOFT_LEAD  2023-01-01T01:19:39+0000      SOFT_LEAD   \n",
       "...       ...        ...         ...                       ...            ...   \n",
       "3752  1115920  SOFT_LEAD   SOFT_LEAD  2023-01-30T23:31:38+0000      SOFT_LEAD   \n",
       "3753  1115921  SOFT_LEAD   SOFT_LEAD  2023-01-30T23:32:14+0000      SOFT_LEAD   \n",
       "3754  1115922  SOFT_LEAD   SOFT_LEAD  2023-01-30T23:37:15+0000      SOFT_LEAD   \n",
       "3755  1115923  SOFT_LEAD   SOFT_LEAD  2023-01-30T23:46:57+0000      SOFT_LEAD   \n",
       "3756  1115924  SOFT_LEAD   SOFT_LEAD  2023-01-30T23:47:25+0000      SOFT_LEAD   \n",
       "\n",
       "     EventType_soft.1 EventDateTime_soft  DateDifference_soft  \\\n",
       "0           SOFT_LEAD         2023-01-01                    0   \n",
       "1           SOFT_LEAD         2023-01-01                    0   \n",
       "2           SOFT_LEAD         2023-01-01                    0   \n",
       "3           SOFT_LEAD         2023-01-01                    0   \n",
       "4           SOFT_LEAD         2023-01-01                    0   \n",
       "...               ...                ...                  ...   \n",
       "3752        SOFT_LEAD         2023-01-30                    0   \n",
       "3753        SOFT_LEAD         2023-01-30                    0   \n",
       "3754        SOFT_LEAD         2023-01-30                    0   \n",
       "3755        SOFT_LEAD         2023-01-30                    0   \n",
       "3756        SOFT_LEAD         2023-01-30                    0   \n",
       "\n",
       "      FundingIn2weeks_soft EventType_hot  ...  \\\n",
       "0                        1           NaN  ...   \n",
       "1                        1      HOT_LEAD  ...   \n",
       "2                        1      HOT_LEAD  ...   \n",
       "3                        1      HOT_LEAD  ...   \n",
       "4                        1      HOT_LEAD  ...   \n",
       "...                    ...           ...  ...   \n",
       "3752                     1      HOT_LEAD  ...   \n",
       "3753                     1      HOT_LEAD  ...   \n",
       "3754                     1      HOT_LEAD  ...   \n",
       "3755                     1      HOT_LEAD  ...   \n",
       "3756                     1           NaN  ...   \n",
       "\n",
       "               EventDateTime_identityV  DateDifference_identityV  \\\n",
       "0                                  NaN                       NaN   \n",
       "1     2023-01-08 15:10:20.931000+00:00                       7.0   \n",
       "2                                  NaN                       NaN   \n",
       "3                                  NaN                       NaN   \n",
       "4                                  NaN                       NaN   \n",
       "...                                ...                       ...   \n",
       "3752  2023-02-09 11:36:37.976000+00:00                       9.0   \n",
       "3753                               NaN                       NaN   \n",
       "3754  2023-02-24 17:47:22.514000+00:00                      24.0   \n",
       "3755                               NaN                       NaN   \n",
       "3756                               NaN                       NaN   \n",
       "\n",
       "      FundingIn2weeks_identityV      EventType_accountIF  \\\n",
       "0                             0                      NaN   \n",
       "1                             1                      NaN   \n",
       "2                             0                      NaN   \n",
       "3                             0                      NaN   \n",
       "4                             0                      NaN   \n",
       "...                         ...                      ...   \n",
       "3752                          1                      NaN   \n",
       "3753                          0                      NaN   \n",
       "3754                          0  ACCOUNT_INITIAL_FUNDING   \n",
       "3755                          0                      NaN   \n",
       "3756                          0                      NaN   \n",
       "\n",
       "               EventDateTime_accountIF  DateDifference_accountIF  \\\n",
       "0                                  NaN                       NaN   \n",
       "1                                  NaN                       NaN   \n",
       "2                                  NaN                       NaN   \n",
       "3                                  NaN                       NaN   \n",
       "4                                  NaN                       NaN   \n",
       "...                                ...                       ...   \n",
       "3752                               NaN                       NaN   \n",
       "3753                               NaN                       NaN   \n",
       "3754  2023-02-28 12:26:44.006000+00:00                      28.0   \n",
       "3755                               NaN                       NaN   \n",
       "3756                               NaN                       NaN   \n",
       "\n",
       "      FundingIn2weeks_accountIF Platform User.M.Age.N  User.M.Income.N  \n",
       "0                             0      NaN          NaN              NaN  \n",
       "1                             0      NaN         27.0          12500.0  \n",
       "2                             0      NaN          NaN              NaN  \n",
       "3                             0      NaN          NaN              NaN  \n",
       "4                             0      NaN          NaN              NaN  \n",
       "...                         ...      ...          ...              ...  \n",
       "3752                          0      NaN         44.0          62500.0  \n",
       "3753                          0      NaN          NaN              NaN  \n",
       "3754                          0      NaN         35.0          62500.0  \n",
       "3755                          0      NaN         44.0              NaN  \n",
       "3756                          0      NaN          NaN              NaN  \n",
       "\n",
       "[3757 rows x 60 columns]"
      ]
     },
     "execution_count": 93,
     "metadata": {},
     "output_type": "execute_result"
    }
   ],
   "source": [
    "df_filter"
   ]
  },
  {
   "cell_type": "code",
   "execution_count": 37,
   "metadata": {},
   "outputs": [],
   "source": [
    "suffixes_2023 = [\n",
    "    'soft', 'hot', 'mobile', 'emma', 'identity', 'address', 'disclosures', 'agreements',\n",
    "    'financial', 'portafolioS', 'portafolioC', 'identityV','accountIF']"
   ]
  },
  {
   "cell_type": "code",
   "execution_count": 31,
   "metadata": {},
   "outputs": [],
   "source": [
    "def create_conversionRate(df, event):\n",
    "\n",
    "    result = df.groupby([df['EventDateTime_soft'].dt.to_period(\"M\") ]).agg(\n",
    "        total_rows=pd.NamedAgg(column='EventDateTime_soft', aggfunc='size'),\n",
    "        count_values_positives=pd.NamedAgg(column='FundingIn2weeks_' + event, aggfunc=lambda x: sum(x == 1))\n",
    "    ).reset_index()\n",
    "\n",
    "    result[\"ConversionRate\"] = ( result[\"count_values_positives\"] / result[\"total_rows\"] ) * 100\n",
    "\n",
    "    result['ConversionRate'] = result['ConversionRate'].round(2)  \n",
    "\n",
    "    result[\"ConversionRate\"] = result[\"ConversionRate\"].astype(str) \n",
    "\n",
    "    result[\"ConversionRate\"]  = result[\"ConversionRate\"]  + \"%\"\n",
    "\n",
    "    result['EventDateTime_soft'] = result['EventDateTime_soft'].dt.to_timestamp().dt.strftime('%Y-%m')\n",
    "\n",
    "    result[\"EventType\"] =  [df.dropna()[\"EventType_\"  + event].unique()[0]] * len(result.index)\n",
    "\n",
    "    #result \n",
    "    \n",
    "    return result"
   ]
  },
  {
   "cell_type": "code",
   "execution_count": 38,
   "metadata": {},
   "outputs": [
    {
     "data": {
      "text/plain": [
       "Index(['UserId', 'EventType', 'EventType.1', 'EventDateTime', 'EventType_soft',\n",
       "       'EventType_soft.1', 'EventDateTime_soft', 'DateDifference_soft',\n",
       "       'FundingIn2weeks_soft', 'EventType_hot', 'EventDateTime_hot',\n",
       "       'DateDifference_hot', 'FundingIn2weeks_hot', 'EventType_mobile',\n",
       "       'EventDateTime_mobile', 'DateDifference_mobile',\n",
       "       'FundingIn2weeks_mobile', 'EventType_emma', 'EventDateTime_emma',\n",
       "       'DateDifference_emma', 'FundingIn2weeks_emma', 'EventType_identity',\n",
       "       'EventDateTime_identity', 'DateDifference_identity',\n",
       "       'FundingIn2weeks_identity', 'EventType_address',\n",
       "       'EventDateTime_address', 'DateDifference_address',\n",
       "       'FundingIn2weeks_address', 'EventType_disclosures',\n",
       "       'EventDateTime_disclosures', 'DateDifference_disclosures',\n",
       "       'FundingIn2weeks_disclosures', 'EventType_agreements',\n",
       "       'EventDateTime_agreements', 'DateDifference_agreements',\n",
       "       'FundingIn2weeks_agreements', 'EventType_financial',\n",
       "       'EventDateTime_financial', 'DateDifference_financial',\n",
       "       'FundingIn2weeks_financial', 'EventType_portafolioS',\n",
       "       'EventDateTime_portafolioS', 'DateDifference_portafolioS',\n",
       "       'FundingIn2weeks_portafolioS', 'EventType_portafolioC',\n",
       "       'EventDateTime_portafolioC', 'DateDifference_portafolioC',\n",
       "       'FundingIn2weeks_portafolioC', 'EventType_identityV',\n",
       "       'EventDateTime_identityV', 'DateDifference_identityV',\n",
       "       'FundingIn2weeks_identityV', 'EventType_accountIF',\n",
       "       'EventDateTime_accountIF', 'DateDifference_accountIF',\n",
       "       'FundingIn2weeks_accountIF', 'Platform', 'User.M.Age.N',\n",
       "       'User.M.Income.N'],\n",
       "      dtype='object')"
      ]
     },
     "execution_count": 38,
     "metadata": {},
     "output_type": "execute_result"
    }
   ],
   "source": [
    "df_filter.columns"
   ]
  },
  {
   "cell_type": "code",
   "execution_count": 39,
   "metadata": {},
   "outputs": [],
   "source": [
    "concat_df = pd.DataFrame(columns=['EventDateTime_soft', 'EventType', 'total_rows', 'count_values_positives' , 'ConversionRate'])\n",
    "\n",
    "for value in suffixes_2023:\n",
    "    #st.write('You selected:', value)\n",
    "    concat_df = pd.concat([concat_df, create_conversionRate(df_filter, value)], ignore_index=True)\n"
   ]
  },
  {
   "cell_type": "code",
   "execution_count": 40,
   "metadata": {},
   "outputs": [
    {
     "data": {
      "text/html": [
       "<div>\n",
       "<style scoped>\n",
       "    .dataframe tbody tr th:only-of-type {\n",
       "        vertical-align: middle;\n",
       "    }\n",
       "\n",
       "    .dataframe tbody tr th {\n",
       "        vertical-align: top;\n",
       "    }\n",
       "\n",
       "    .dataframe thead th {\n",
       "        text-align: right;\n",
       "    }\n",
       "</style>\n",
       "<table border=\"1\" class=\"dataframe\">\n",
       "  <thead>\n",
       "    <tr style=\"text-align: right;\">\n",
       "      <th></th>\n",
       "      <th>EventDateTime_soft</th>\n",
       "      <th>EventType</th>\n",
       "      <th>total_rows</th>\n",
       "      <th>count_values_positives</th>\n",
       "      <th>ConversionRate</th>\n",
       "    </tr>\n",
       "  </thead>\n",
       "  <tbody>\n",
       "    <tr>\n",
       "      <th>0</th>\n",
       "      <td>2023-11</td>\n",
       "      <td>SOFT_LEAD</td>\n",
       "      <td>7568</td>\n",
       "      <td>7568</td>\n",
       "      <td>100.0%</td>\n",
       "    </tr>\n",
       "    <tr>\n",
       "      <th>1</th>\n",
       "      <td>2023-11</td>\n",
       "      <td>HOT_LEAD</td>\n",
       "      <td>7568</td>\n",
       "      <td>6754</td>\n",
       "      <td>89.24%</td>\n",
       "    </tr>\n",
       "    <tr>\n",
       "      <th>2</th>\n",
       "      <td>2023-11</td>\n",
       "      <td>MOBILE_VERIFIED</td>\n",
       "      <td>7568</td>\n",
       "      <td>936</td>\n",
       "      <td>12.37%</td>\n",
       "    </tr>\n",
       "    <tr>\n",
       "      <th>3</th>\n",
       "      <td>2023-11</td>\n",
       "      <td>EMMA_ANSWERED</td>\n",
       "      <td>7568</td>\n",
       "      <td>5528</td>\n",
       "      <td>73.04%</td>\n",
       "    </tr>\n",
       "    <tr>\n",
       "      <th>4</th>\n",
       "      <td>2023-11</td>\n",
       "      <td>IDENTITY_COMPLETED</td>\n",
       "      <td>7568</td>\n",
       "      <td>2632</td>\n",
       "      <td>34.78%</td>\n",
       "    </tr>\n",
       "    <tr>\n",
       "      <th>5</th>\n",
       "      <td>2023-11</td>\n",
       "      <td>ADDRESS_COMPLETED</td>\n",
       "      <td>7568</td>\n",
       "      <td>2419</td>\n",
       "      <td>31.96%</td>\n",
       "    </tr>\n",
       "    <tr>\n",
       "      <th>6</th>\n",
       "      <td>2023-11</td>\n",
       "      <td>DISCLOSURES_COMPLETED</td>\n",
       "      <td>7568</td>\n",
       "      <td>2371</td>\n",
       "      <td>31.33%</td>\n",
       "    </tr>\n",
       "    <tr>\n",
       "      <th>7</th>\n",
       "      <td>2023-11</td>\n",
       "      <td>AGREEMENTS_COMPLETED</td>\n",
       "      <td>7568</td>\n",
       "      <td>1841</td>\n",
       "      <td>24.33%</td>\n",
       "    </tr>\n",
       "    <tr>\n",
       "      <th>8</th>\n",
       "      <td>2023-11</td>\n",
       "      <td>FINANCIAL_PROFILE_COMPLETED</td>\n",
       "      <td>7568</td>\n",
       "      <td>2076</td>\n",
       "      <td>27.43%</td>\n",
       "    </tr>\n",
       "    <tr>\n",
       "      <th>9</th>\n",
       "      <td>2023-11</td>\n",
       "      <td>PORTFOLIO_SELECTED</td>\n",
       "      <td>7568</td>\n",
       "      <td>1804</td>\n",
       "      <td>23.84%</td>\n",
       "    </tr>\n",
       "    <tr>\n",
       "      <th>10</th>\n",
       "      <td>2023-11</td>\n",
       "      <td>PORTFOLIO_CONFIRMED</td>\n",
       "      <td>7568</td>\n",
       "      <td>1798</td>\n",
       "      <td>23.76%</td>\n",
       "    </tr>\n",
       "    <tr>\n",
       "      <th>11</th>\n",
       "      <td>2023-11</td>\n",
       "      <td>IDENTITY_VERIFIED</td>\n",
       "      <td>7568</td>\n",
       "      <td>1153</td>\n",
       "      <td>15.24%</td>\n",
       "    </tr>\n",
       "    <tr>\n",
       "      <th>12</th>\n",
       "      <td>2023-11</td>\n",
       "      <td>ACCOUNT_INITIAL_FUNDING</td>\n",
       "      <td>7568</td>\n",
       "      <td>269</td>\n",
       "      <td>3.55%</td>\n",
       "    </tr>\n",
       "  </tbody>\n",
       "</table>\n",
       "</div>"
      ],
      "text/plain": [
       "   EventDateTime_soft                    EventType total_rows  \\\n",
       "0             2023-11                    SOFT_LEAD       7568   \n",
       "1             2023-11                     HOT_LEAD       7568   \n",
       "2             2023-11              MOBILE_VERIFIED       7568   \n",
       "3             2023-11                EMMA_ANSWERED       7568   \n",
       "4             2023-11           IDENTITY_COMPLETED       7568   \n",
       "5             2023-11            ADDRESS_COMPLETED       7568   \n",
       "6             2023-11        DISCLOSURES_COMPLETED       7568   \n",
       "7             2023-11         AGREEMENTS_COMPLETED       7568   \n",
       "8             2023-11  FINANCIAL_PROFILE_COMPLETED       7568   \n",
       "9             2023-11           PORTFOLIO_SELECTED       7568   \n",
       "10            2023-11          PORTFOLIO_CONFIRMED       7568   \n",
       "11            2023-11            IDENTITY_VERIFIED       7568   \n",
       "12            2023-11      ACCOUNT_INITIAL_FUNDING       7568   \n",
       "\n",
       "   count_values_positives ConversionRate  \n",
       "0                    7568         100.0%  \n",
       "1                    6754         89.24%  \n",
       "2                     936         12.37%  \n",
       "3                    5528         73.04%  \n",
       "4                    2632         34.78%  \n",
       "5                    2419         31.96%  \n",
       "6                    2371         31.33%  \n",
       "7                    1841         24.33%  \n",
       "8                    2076         27.43%  \n",
       "9                    1804         23.84%  \n",
       "10                   1798         23.76%  \n",
       "11                   1153         15.24%  \n",
       "12                    269          3.55%  "
      ]
     },
     "execution_count": 40,
     "metadata": {},
     "output_type": "execute_result"
    }
   ],
   "source": [
    "concat_df"
   ]
  },
  {
   "cell_type": "code",
   "execution_count": 41,
   "metadata": {},
   "outputs": [],
   "source": [
    "import plotly.express as px"
   ]
  },
  {
   "cell_type": "code",
   "execution_count": 68,
   "metadata": {},
   "outputs": [
    {
     "data": {
      "application/vnd.plotly.v1+json": {
       "config": {
        "plotlyServerURL": "https://plot.ly"
       },
       "data": [
        {
         "hovertemplate": "Count of Positive Values=%{x}<br>Event Type=%{y}<br>ConversionRate=%{text}<extra></extra>",
         "legendgroup": "",
         "marker": {
          "color": [
           "#feef4b",
           "#444b4d",
           "#caa72f",
           "#38c0b8",
           "#fa1d7c"
          ]
         },
         "name": "",
         "orientation": "h",
         "showlegend": false,
         "text": [
          "100.0%",
          "89.24%",
          "12.37%",
          "73.04%",
          "34.78%",
          "31.96%",
          "31.33%",
          "24.33%",
          "27.43%",
          "23.84%",
          "23.76%",
          "15.24%",
          "3.55%"
         ],
         "textposition": "inside",
         "texttemplate": "%{x:.0f\n}<br>%{text}",
         "type": "funnel",
         "x": [
          7568,
          6754,
          936,
          5528,
          2632,
          2419,
          2371,
          1841,
          2076,
          1804,
          1798,
          1153,
          269
         ],
         "xaxis": "x",
         "y": [
          "SOFT_LEAD",
          "HOT_LEAD",
          "MOBILE_VERIFIED",
          "EMMA_ANSWERED",
          "IDENTITY_COMPLETED",
          "ADDRESS_COMPLETED",
          "DISCLOSURES_COMPLETED",
          "AGREEMENTS_COMPLETED",
          "FINANCIAL_PROFILE_COMPLETED",
          "PORTFOLIO_SELECTED",
          "PORTFOLIO_CONFIRMED",
          "IDENTITY_VERIFIED",
          "ACCOUNT_INITIAL_FUNDING"
         ],
         "yaxis": "y"
        }
       ],
       "layout": {
        "legend": {
         "tracegroupgap": 0
        },
        "template": {
         "data": {
          "bar": [
           {
            "error_x": {
             "color": "#2a3f5f"
            },
            "error_y": {
             "color": "#2a3f5f"
            },
            "marker": {
             "line": {
              "color": "#E5ECF6",
              "width": 0.5
             },
             "pattern": {
              "fillmode": "overlay",
              "size": 10,
              "solidity": 0.2
             }
            },
            "type": "bar"
           }
          ],
          "barpolar": [
           {
            "marker": {
             "line": {
              "color": "#E5ECF6",
              "width": 0.5
             },
             "pattern": {
              "fillmode": "overlay",
              "size": 10,
              "solidity": 0.2
             }
            },
            "type": "barpolar"
           }
          ],
          "carpet": [
           {
            "aaxis": {
             "endlinecolor": "#2a3f5f",
             "gridcolor": "white",
             "linecolor": "white",
             "minorgridcolor": "white",
             "startlinecolor": "#2a3f5f"
            },
            "baxis": {
             "endlinecolor": "#2a3f5f",
             "gridcolor": "white",
             "linecolor": "white",
             "minorgridcolor": "white",
             "startlinecolor": "#2a3f5f"
            },
            "type": "carpet"
           }
          ],
          "choropleth": [
           {
            "colorbar": {
             "outlinewidth": 0,
             "ticks": ""
            },
            "type": "choropleth"
           }
          ],
          "contour": [
           {
            "colorbar": {
             "outlinewidth": 0,
             "ticks": ""
            },
            "colorscale": [
             [
              0,
              "#0d0887"
             ],
             [
              0.1111111111111111,
              "#46039f"
             ],
             [
              0.2222222222222222,
              "#7201a8"
             ],
             [
              0.3333333333333333,
              "#9c179e"
             ],
             [
              0.4444444444444444,
              "#bd3786"
             ],
             [
              0.5555555555555556,
              "#d8576b"
             ],
             [
              0.6666666666666666,
              "#ed7953"
             ],
             [
              0.7777777777777778,
              "#fb9f3a"
             ],
             [
              0.8888888888888888,
              "#fdca26"
             ],
             [
              1,
              "#f0f921"
             ]
            ],
            "type": "contour"
           }
          ],
          "contourcarpet": [
           {
            "colorbar": {
             "outlinewidth": 0,
             "ticks": ""
            },
            "type": "contourcarpet"
           }
          ],
          "heatmap": [
           {
            "colorbar": {
             "outlinewidth": 0,
             "ticks": ""
            },
            "colorscale": [
             [
              0,
              "#0d0887"
             ],
             [
              0.1111111111111111,
              "#46039f"
             ],
             [
              0.2222222222222222,
              "#7201a8"
             ],
             [
              0.3333333333333333,
              "#9c179e"
             ],
             [
              0.4444444444444444,
              "#bd3786"
             ],
             [
              0.5555555555555556,
              "#d8576b"
             ],
             [
              0.6666666666666666,
              "#ed7953"
             ],
             [
              0.7777777777777778,
              "#fb9f3a"
             ],
             [
              0.8888888888888888,
              "#fdca26"
             ],
             [
              1,
              "#f0f921"
             ]
            ],
            "type": "heatmap"
           }
          ],
          "heatmapgl": [
           {
            "colorbar": {
             "outlinewidth": 0,
             "ticks": ""
            },
            "colorscale": [
             [
              0,
              "#0d0887"
             ],
             [
              0.1111111111111111,
              "#46039f"
             ],
             [
              0.2222222222222222,
              "#7201a8"
             ],
             [
              0.3333333333333333,
              "#9c179e"
             ],
             [
              0.4444444444444444,
              "#bd3786"
             ],
             [
              0.5555555555555556,
              "#d8576b"
             ],
             [
              0.6666666666666666,
              "#ed7953"
             ],
             [
              0.7777777777777778,
              "#fb9f3a"
             ],
             [
              0.8888888888888888,
              "#fdca26"
             ],
             [
              1,
              "#f0f921"
             ]
            ],
            "type": "heatmapgl"
           }
          ],
          "histogram": [
           {
            "marker": {
             "pattern": {
              "fillmode": "overlay",
              "size": 10,
              "solidity": 0.2
             }
            },
            "type": "histogram"
           }
          ],
          "histogram2d": [
           {
            "colorbar": {
             "outlinewidth": 0,
             "ticks": ""
            },
            "colorscale": [
             [
              0,
              "#0d0887"
             ],
             [
              0.1111111111111111,
              "#46039f"
             ],
             [
              0.2222222222222222,
              "#7201a8"
             ],
             [
              0.3333333333333333,
              "#9c179e"
             ],
             [
              0.4444444444444444,
              "#bd3786"
             ],
             [
              0.5555555555555556,
              "#d8576b"
             ],
             [
              0.6666666666666666,
              "#ed7953"
             ],
             [
              0.7777777777777778,
              "#fb9f3a"
             ],
             [
              0.8888888888888888,
              "#fdca26"
             ],
             [
              1,
              "#f0f921"
             ]
            ],
            "type": "histogram2d"
           }
          ],
          "histogram2dcontour": [
           {
            "colorbar": {
             "outlinewidth": 0,
             "ticks": ""
            },
            "colorscale": [
             [
              0,
              "#0d0887"
             ],
             [
              0.1111111111111111,
              "#46039f"
             ],
             [
              0.2222222222222222,
              "#7201a8"
             ],
             [
              0.3333333333333333,
              "#9c179e"
             ],
             [
              0.4444444444444444,
              "#bd3786"
             ],
             [
              0.5555555555555556,
              "#d8576b"
             ],
             [
              0.6666666666666666,
              "#ed7953"
             ],
             [
              0.7777777777777778,
              "#fb9f3a"
             ],
             [
              0.8888888888888888,
              "#fdca26"
             ],
             [
              1,
              "#f0f921"
             ]
            ],
            "type": "histogram2dcontour"
           }
          ],
          "mesh3d": [
           {
            "colorbar": {
             "outlinewidth": 0,
             "ticks": ""
            },
            "type": "mesh3d"
           }
          ],
          "parcoords": [
           {
            "line": {
             "colorbar": {
              "outlinewidth": 0,
              "ticks": ""
             }
            },
            "type": "parcoords"
           }
          ],
          "pie": [
           {
            "automargin": true,
            "type": "pie"
           }
          ],
          "scatter": [
           {
            "fillpattern": {
             "fillmode": "overlay",
             "size": 10,
             "solidity": 0.2
            },
            "type": "scatter"
           }
          ],
          "scatter3d": [
           {
            "line": {
             "colorbar": {
              "outlinewidth": 0,
              "ticks": ""
             }
            },
            "marker": {
             "colorbar": {
              "outlinewidth": 0,
              "ticks": ""
             }
            },
            "type": "scatter3d"
           }
          ],
          "scattercarpet": [
           {
            "marker": {
             "colorbar": {
              "outlinewidth": 0,
              "ticks": ""
             }
            },
            "type": "scattercarpet"
           }
          ],
          "scattergeo": [
           {
            "marker": {
             "colorbar": {
              "outlinewidth": 0,
              "ticks": ""
             }
            },
            "type": "scattergeo"
           }
          ],
          "scattergl": [
           {
            "marker": {
             "colorbar": {
              "outlinewidth": 0,
              "ticks": ""
             }
            },
            "type": "scattergl"
           }
          ],
          "scattermapbox": [
           {
            "marker": {
             "colorbar": {
              "outlinewidth": 0,
              "ticks": ""
             }
            },
            "type": "scattermapbox"
           }
          ],
          "scatterpolar": [
           {
            "marker": {
             "colorbar": {
              "outlinewidth": 0,
              "ticks": ""
             }
            },
            "type": "scatterpolar"
           }
          ],
          "scatterpolargl": [
           {
            "marker": {
             "colorbar": {
              "outlinewidth": 0,
              "ticks": ""
             }
            },
            "type": "scatterpolargl"
           }
          ],
          "scatterternary": [
           {
            "marker": {
             "colorbar": {
              "outlinewidth": 0,
              "ticks": ""
             }
            },
            "type": "scatterternary"
           }
          ],
          "surface": [
           {
            "colorbar": {
             "outlinewidth": 0,
             "ticks": ""
            },
            "colorscale": [
             [
              0,
              "#0d0887"
             ],
             [
              0.1111111111111111,
              "#46039f"
             ],
             [
              0.2222222222222222,
              "#7201a8"
             ],
             [
              0.3333333333333333,
              "#9c179e"
             ],
             [
              0.4444444444444444,
              "#bd3786"
             ],
             [
              0.5555555555555556,
              "#d8576b"
             ],
             [
              0.6666666666666666,
              "#ed7953"
             ],
             [
              0.7777777777777778,
              "#fb9f3a"
             ],
             [
              0.8888888888888888,
              "#fdca26"
             ],
             [
              1,
              "#f0f921"
             ]
            ],
            "type": "surface"
           }
          ],
          "table": [
           {
            "cells": {
             "fill": {
              "color": "#EBF0F8"
             },
             "line": {
              "color": "white"
             }
            },
            "header": {
             "fill": {
              "color": "#C8D4E3"
             },
             "line": {
              "color": "white"
             }
            },
            "type": "table"
           }
          ]
         },
         "layout": {
          "annotationdefaults": {
           "arrowcolor": "#2a3f5f",
           "arrowhead": 0,
           "arrowwidth": 1
          },
          "autotypenumbers": "strict",
          "coloraxis": {
           "colorbar": {
            "outlinewidth": 0,
            "ticks": ""
           }
          },
          "colorscale": {
           "diverging": [
            [
             0,
             "#8e0152"
            ],
            [
             0.1,
             "#c51b7d"
            ],
            [
             0.2,
             "#de77ae"
            ],
            [
             0.3,
             "#f1b6da"
            ],
            [
             0.4,
             "#fde0ef"
            ],
            [
             0.5,
             "#f7f7f7"
            ],
            [
             0.6,
             "#e6f5d0"
            ],
            [
             0.7,
             "#b8e186"
            ],
            [
             0.8,
             "#7fbc41"
            ],
            [
             0.9,
             "#4d9221"
            ],
            [
             1,
             "#276419"
            ]
           ],
           "sequential": [
            [
             0,
             "#0d0887"
            ],
            [
             0.1111111111111111,
             "#46039f"
            ],
            [
             0.2222222222222222,
             "#7201a8"
            ],
            [
             0.3333333333333333,
             "#9c179e"
            ],
            [
             0.4444444444444444,
             "#bd3786"
            ],
            [
             0.5555555555555556,
             "#d8576b"
            ],
            [
             0.6666666666666666,
             "#ed7953"
            ],
            [
             0.7777777777777778,
             "#fb9f3a"
            ],
            [
             0.8888888888888888,
             "#fdca26"
            ],
            [
             1,
             "#f0f921"
            ]
           ],
           "sequentialminus": [
            [
             0,
             "#0d0887"
            ],
            [
             0.1111111111111111,
             "#46039f"
            ],
            [
             0.2222222222222222,
             "#7201a8"
            ],
            [
             0.3333333333333333,
             "#9c179e"
            ],
            [
             0.4444444444444444,
             "#bd3786"
            ],
            [
             0.5555555555555556,
             "#d8576b"
            ],
            [
             0.6666666666666666,
             "#ed7953"
            ],
            [
             0.7777777777777778,
             "#fb9f3a"
            ],
            [
             0.8888888888888888,
             "#fdca26"
            ],
            [
             1,
             "#f0f921"
            ]
           ]
          },
          "colorway": [
           "#636efa",
           "#EF553B",
           "#00cc96",
           "#ab63fa",
           "#FFA15A",
           "#19d3f3",
           "#FF6692",
           "#B6E880",
           "#FF97FF",
           "#FECB52"
          ],
          "font": {
           "color": "#2a3f5f"
          },
          "geo": {
           "bgcolor": "white",
           "lakecolor": "white",
           "landcolor": "#E5ECF6",
           "showlakes": true,
           "showland": true,
           "subunitcolor": "white"
          },
          "hoverlabel": {
           "align": "left"
          },
          "hovermode": "closest",
          "mapbox": {
           "style": "light"
          },
          "paper_bgcolor": "white",
          "plot_bgcolor": "#E5ECF6",
          "polar": {
           "angularaxis": {
            "gridcolor": "white",
            "linecolor": "white",
            "ticks": ""
           },
           "bgcolor": "#E5ECF6",
           "radialaxis": {
            "gridcolor": "white",
            "linecolor": "white",
            "ticks": ""
           }
          },
          "scene": {
           "xaxis": {
            "backgroundcolor": "#E5ECF6",
            "gridcolor": "white",
            "gridwidth": 2,
            "linecolor": "white",
            "showbackground": true,
            "ticks": "",
            "zerolinecolor": "white"
           },
           "yaxis": {
            "backgroundcolor": "#E5ECF6",
            "gridcolor": "white",
            "gridwidth": 2,
            "linecolor": "white",
            "showbackground": true,
            "ticks": "",
            "zerolinecolor": "white"
           },
           "zaxis": {
            "backgroundcolor": "#E5ECF6",
            "gridcolor": "white",
            "gridwidth": 2,
            "linecolor": "white",
            "showbackground": true,
            "ticks": "",
            "zerolinecolor": "white"
           }
          },
          "shapedefaults": {
           "line": {
            "color": "#2a3f5f"
           }
          },
          "ternary": {
           "aaxis": {
            "gridcolor": "white",
            "linecolor": "white",
            "ticks": ""
           },
           "baxis": {
            "gridcolor": "white",
            "linecolor": "white",
            "ticks": ""
           },
           "bgcolor": "#E5ECF6",
           "caxis": {
            "gridcolor": "white",
            "linecolor": "white",
            "ticks": ""
           }
          },
          "title": {
           "x": 0.05
          },
          "xaxis": {
           "automargin": true,
           "gridcolor": "white",
           "linecolor": "white",
           "ticks": "",
           "title": {
            "standoff": 15
           },
           "zerolinecolor": "white",
           "zerolinewidth": 2
          },
          "yaxis": {
           "automargin": true,
           "gridcolor": "white",
           "linecolor": "white",
           "ticks": "",
           "title": {
            "standoff": 15
           },
           "zerolinecolor": "white",
           "zerolinewidth": 2
          }
         }
        },
        "title": {
         "text": "Horizontal Conversion Funnel"
        },
        "xaxis": {
         "anchor": "y",
         "domain": [
          0,
          1
         ],
         "title": {
          "text": "Count of Positive Values"
         }
        },
        "yaxis": {
         "anchor": "x",
         "domain": [
          0,
          1
         ],
         "title": {
          "text": "Event Type"
         }
        }
       }
      }
     },
     "metadata": {},
     "output_type": "display_data"
    }
   ],
   "source": [
    "\n",
    "fig = px.funnel(concat_df, x='count_values_positives', y='EventType', title='Horizontal Conversion Funnel',\n",
    "                labels={'count_values_positives': 'Count of Positive Values', 'EventType': 'Event Type'},\n",
    "                text = \"ConversionRate\", \n",
    "\n",
    "                 orientation='h')\n",
    "\n",
    "\n",
    "# Define the custom colors\n",
    "finhabits_colors = ['#feef4b', '#444b4d', '#caa72f', '#38c0b8', '#fa1d7c']\n",
    "\n",
    "fig.update_traces(textposition='inside', texttemplate=\"%{x:.0f\\n}<br>%{text}\", \n",
    "                  marker=dict(color=finhabits_colors))\n",
    "fig.show()"
   ]
  },
  {
   "cell_type": "code",
   "execution_count": 72,
   "metadata": {},
   "outputs": [
    {
     "name": "stdout",
     "output_type": "stream",
     "text": [
      "2023-01-01 00:00:00\n"
     ]
    }
   ],
   "source": [
    "import datetime\n",
    "\n",
    "# Your date object\n",
    "date_object = datetime.date(2023, 1, 1)\n",
    "\n",
    "# Convert to datetime object\n",
    "datetime_object = datetime.datetime.combine(date_object, datetime.time.min)\n",
    "\n",
    "print(datetime_object)"
   ]
  },
  {
   "cell_type": "code",
   "execution_count": 89,
   "metadata": {},
   "outputs": [],
   "source": [
    "min_date = datetime.date(2023,1,1)"
   ]
  },
  {
   "cell_type": "code",
   "execution_count": 90,
   "metadata": {},
   "outputs": [
    {
     "data": {
      "text/plain": [
       "datetime.date(2023, 1, 31)"
      ]
     },
     "execution_count": 90,
     "metadata": {},
     "output_type": "execute_result"
    }
   ],
   "source": [
    "from dateutil.relativedelta import relativedelta\n",
    "datetime.date(min_date.year, min_date.month, 1)  + relativedelta(months=1) - datetime .timedelta(days=1)"
   ]
  },
  {
   "cell_type": "code",
   "execution_count": 91,
   "metadata": {},
   "outputs": [
    {
     "data": {
      "text/plain": [
       "'SOFT_LEAD'"
      ]
     },
     "execution_count": 91,
     "metadata": {},
     "output_type": "execute_result"
    }
   ],
   "source": [
    "df.dropna()[\"EventType_\"  + \"soft\"].unique()[0]"
   ]
  },
  {
   "cell_type": "code",
   "execution_count": 97,
   "metadata": {},
   "outputs": [],
   "source": [
    "pan = df[df[\"Platform\"] == \"iOS\"]"
   ]
  },
  {
   "cell_type": "code",
   "execution_count": 99,
   "metadata": {},
   "outputs": [
    {
     "data": {
      "text/html": [
       "<div>\n",
       "<style scoped>\n",
       "    .dataframe tbody tr th:only-of-type {\n",
       "        vertical-align: middle;\n",
       "    }\n",
       "\n",
       "    .dataframe tbody tr th {\n",
       "        vertical-align: top;\n",
       "    }\n",
       "\n",
       "    .dataframe thead th {\n",
       "        text-align: right;\n",
       "    }\n",
       "</style>\n",
       "<table border=\"1\" class=\"dataframe\">\n",
       "  <thead>\n",
       "    <tr style=\"text-align: right;\">\n",
       "      <th></th>\n",
       "      <th>UserId</th>\n",
       "      <th>EventType</th>\n",
       "      <th>EventType.1</th>\n",
       "      <th>EventDateTime</th>\n",
       "      <th>EventType_soft</th>\n",
       "      <th>EventType_soft.1</th>\n",
       "      <th>EventDateTime_soft</th>\n",
       "      <th>DateDifference_soft</th>\n",
       "      <th>FundingIn2weeks_soft</th>\n",
       "      <th>EventType_hot</th>\n",
       "      <th>...</th>\n",
       "      <th>EventDateTime_identityV</th>\n",
       "      <th>DateDifference_identityV</th>\n",
       "      <th>FundingIn2weeks_identityV</th>\n",
       "      <th>EventType_accountIF</th>\n",
       "      <th>EventDateTime_accountIF</th>\n",
       "      <th>DateDifference_accountIF</th>\n",
       "      <th>FundingIn2weeks_accountIF</th>\n",
       "      <th>Platform</th>\n",
       "      <th>User.M.Age.N</th>\n",
       "      <th>User.M.Income.N</th>\n",
       "    </tr>\n",
       "  </thead>\n",
       "  <tbody>\n",
       "    <tr>\n",
       "      <th>21072</th>\n",
       "      <td>1133271</td>\n",
       "      <td>SOFT_LEAD</td>\n",
       "      <td>SOFT_LEAD</td>\n",
       "      <td>2023-06-03T12:28:19+0000</td>\n",
       "      <td>SOFT_LEAD</td>\n",
       "      <td>SOFT_LEAD</td>\n",
       "      <td>2023-06-03</td>\n",
       "      <td>0</td>\n",
       "      <td>1</td>\n",
       "      <td>NaN</td>\n",
       "      <td>...</td>\n",
       "      <td>NaN</td>\n",
       "      <td>NaN</td>\n",
       "      <td>0</td>\n",
       "      <td>NaN</td>\n",
       "      <td>NaN</td>\n",
       "      <td>NaN</td>\n",
       "      <td>0</td>\n",
       "      <td>iOS</td>\n",
       "      <td>NaN</td>\n",
       "      <td>NaN</td>\n",
       "    </tr>\n",
       "    <tr>\n",
       "      <th>21073</th>\n",
       "      <td>1133272</td>\n",
       "      <td>SOFT_LEAD</td>\n",
       "      <td>SOFT_LEAD</td>\n",
       "      <td>2023-06-03T12:36:37+0000</td>\n",
       "      <td>SOFT_LEAD</td>\n",
       "      <td>SOFT_LEAD</td>\n",
       "      <td>2023-06-03</td>\n",
       "      <td>0</td>\n",
       "      <td>1</td>\n",
       "      <td>HOT_LEAD</td>\n",
       "      <td>...</td>\n",
       "      <td>NaN</td>\n",
       "      <td>NaN</td>\n",
       "      <td>0</td>\n",
       "      <td>NaN</td>\n",
       "      <td>NaN</td>\n",
       "      <td>NaN</td>\n",
       "      <td>0</td>\n",
       "      <td>iOS</td>\n",
       "      <td>NaN</td>\n",
       "      <td>NaN</td>\n",
       "    </tr>\n",
       "    <tr>\n",
       "      <th>21074</th>\n",
       "      <td>1133273</td>\n",
       "      <td>SOFT_LEAD</td>\n",
       "      <td>SOFT_LEAD</td>\n",
       "      <td>2023-06-03T12:50:17+0000</td>\n",
       "      <td>SOFT_LEAD</td>\n",
       "      <td>SOFT_LEAD</td>\n",
       "      <td>2023-06-03</td>\n",
       "      <td>0</td>\n",
       "      <td>1</td>\n",
       "      <td>HOT_LEAD</td>\n",
       "      <td>...</td>\n",
       "      <td>NaN</td>\n",
       "      <td>NaN</td>\n",
       "      <td>0</td>\n",
       "      <td>NaN</td>\n",
       "      <td>NaN</td>\n",
       "      <td>NaN</td>\n",
       "      <td>0</td>\n",
       "      <td>iOS</td>\n",
       "      <td>22.0</td>\n",
       "      <td>NaN</td>\n",
       "    </tr>\n",
       "    <tr>\n",
       "      <th>21075</th>\n",
       "      <td>1133274</td>\n",
       "      <td>SOFT_LEAD</td>\n",
       "      <td>SOFT_LEAD</td>\n",
       "      <td>2023-06-03T13:03:05+0000</td>\n",
       "      <td>SOFT_LEAD</td>\n",
       "      <td>SOFT_LEAD</td>\n",
       "      <td>2023-06-03</td>\n",
       "      <td>0</td>\n",
       "      <td>1</td>\n",
       "      <td>NaN</td>\n",
       "      <td>...</td>\n",
       "      <td>NaN</td>\n",
       "      <td>NaN</td>\n",
       "      <td>0</td>\n",
       "      <td>NaN</td>\n",
       "      <td>NaN</td>\n",
       "      <td>NaN</td>\n",
       "      <td>0</td>\n",
       "      <td>iOS</td>\n",
       "      <td>NaN</td>\n",
       "      <td>NaN</td>\n",
       "    </tr>\n",
       "    <tr>\n",
       "      <th>21077</th>\n",
       "      <td>1133276</td>\n",
       "      <td>SOFT_LEAD</td>\n",
       "      <td>SOFT_LEAD</td>\n",
       "      <td>2023-06-03T15:28:00+0000</td>\n",
       "      <td>SOFT_LEAD</td>\n",
       "      <td>SOFT_LEAD</td>\n",
       "      <td>2023-06-03</td>\n",
       "      <td>0</td>\n",
       "      <td>1</td>\n",
       "      <td>HOT_LEAD</td>\n",
       "      <td>...</td>\n",
       "      <td>NaN</td>\n",
       "      <td>NaN</td>\n",
       "      <td>0</td>\n",
       "      <td>NaN</td>\n",
       "      <td>NaN</td>\n",
       "      <td>NaN</td>\n",
       "      <td>0</td>\n",
       "      <td>iOS</td>\n",
       "      <td>NaN</td>\n",
       "      <td>NaN</td>\n",
       "    </tr>\n",
       "    <tr>\n",
       "      <th>...</th>\n",
       "      <td>...</td>\n",
       "      <td>...</td>\n",
       "      <td>...</td>\n",
       "      <td>...</td>\n",
       "      <td>...</td>\n",
       "      <td>...</td>\n",
       "      <td>...</td>\n",
       "      <td>...</td>\n",
       "      <td>...</td>\n",
       "      <td>...</td>\n",
       "      <td>...</td>\n",
       "      <td>...</td>\n",
       "      <td>...</td>\n",
       "      <td>...</td>\n",
       "      <td>...</td>\n",
       "      <td>...</td>\n",
       "      <td>...</td>\n",
       "      <td>...</td>\n",
       "      <td>...</td>\n",
       "      <td>...</td>\n",
       "      <td>...</td>\n",
       "    </tr>\n",
       "    <tr>\n",
       "      <th>51541</th>\n",
       "      <td>1163796</td>\n",
       "      <td>SOFT_LEAD</td>\n",
       "      <td>SOFT_LEAD</td>\n",
       "      <td>2023-12-14T07:29:47+0000</td>\n",
       "      <td>SOFT_LEAD</td>\n",
       "      <td>SOFT_LEAD</td>\n",
       "      <td>2023-12-14</td>\n",
       "      <td>0</td>\n",
       "      <td>1</td>\n",
       "      <td>HOT_LEAD</td>\n",
       "      <td>...</td>\n",
       "      <td>NaN</td>\n",
       "      <td>NaN</td>\n",
       "      <td>0</td>\n",
       "      <td>NaN</td>\n",
       "      <td>NaN</td>\n",
       "      <td>NaN</td>\n",
       "      <td>0</td>\n",
       "      <td>iOS</td>\n",
       "      <td>NaN</td>\n",
       "      <td>NaN</td>\n",
       "    </tr>\n",
       "    <tr>\n",
       "      <th>51542</th>\n",
       "      <td>1163797</td>\n",
       "      <td>SOFT_LEAD</td>\n",
       "      <td>SOFT_LEAD</td>\n",
       "      <td>2023-12-14T07:36:09+0000</td>\n",
       "      <td>SOFT_LEAD</td>\n",
       "      <td>SOFT_LEAD</td>\n",
       "      <td>2023-12-14</td>\n",
       "      <td>0</td>\n",
       "      <td>1</td>\n",
       "      <td>HOT_LEAD</td>\n",
       "      <td>...</td>\n",
       "      <td>NaN</td>\n",
       "      <td>NaN</td>\n",
       "      <td>0</td>\n",
       "      <td>NaN</td>\n",
       "      <td>NaN</td>\n",
       "      <td>NaN</td>\n",
       "      <td>0</td>\n",
       "      <td>iOS</td>\n",
       "      <td>NaN</td>\n",
       "      <td>NaN</td>\n",
       "    </tr>\n",
       "    <tr>\n",
       "      <th>51544</th>\n",
       "      <td>1163799</td>\n",
       "      <td>SOFT_LEAD</td>\n",
       "      <td>SOFT_LEAD</td>\n",
       "      <td>2023-12-14T07:43:23+0000</td>\n",
       "      <td>SOFT_LEAD</td>\n",
       "      <td>SOFT_LEAD</td>\n",
       "      <td>2023-12-14</td>\n",
       "      <td>0</td>\n",
       "      <td>1</td>\n",
       "      <td>HOT_LEAD</td>\n",
       "      <td>...</td>\n",
       "      <td>NaN</td>\n",
       "      <td>NaN</td>\n",
       "      <td>0</td>\n",
       "      <td>NaN</td>\n",
       "      <td>NaN</td>\n",
       "      <td>NaN</td>\n",
       "      <td>0</td>\n",
       "      <td>iOS</td>\n",
       "      <td>19.0</td>\n",
       "      <td>NaN</td>\n",
       "    </tr>\n",
       "    <tr>\n",
       "      <th>51545</th>\n",
       "      <td>1163800</td>\n",
       "      <td>SOFT_LEAD</td>\n",
       "      <td>SOFT_LEAD</td>\n",
       "      <td>2023-12-14T07:54:46+0000</td>\n",
       "      <td>SOFT_LEAD</td>\n",
       "      <td>SOFT_LEAD</td>\n",
       "      <td>2023-12-14</td>\n",
       "      <td>0</td>\n",
       "      <td>1</td>\n",
       "      <td>HOT_LEAD</td>\n",
       "      <td>...</td>\n",
       "      <td>NaN</td>\n",
       "      <td>NaN</td>\n",
       "      <td>0</td>\n",
       "      <td>NaN</td>\n",
       "      <td>NaN</td>\n",
       "      <td>NaN</td>\n",
       "      <td>0</td>\n",
       "      <td>iOS</td>\n",
       "      <td>NaN</td>\n",
       "      <td>NaN</td>\n",
       "    </tr>\n",
       "    <tr>\n",
       "      <th>51546</th>\n",
       "      <td>1163801</td>\n",
       "      <td>SOFT_LEAD</td>\n",
       "      <td>SOFT_LEAD</td>\n",
       "      <td>2023-12-14T08:47:02+0000</td>\n",
       "      <td>SOFT_LEAD</td>\n",
       "      <td>SOFT_LEAD</td>\n",
       "      <td>2023-12-14</td>\n",
       "      <td>0</td>\n",
       "      <td>1</td>\n",
       "      <td>HOT_LEAD</td>\n",
       "      <td>...</td>\n",
       "      <td>NaN</td>\n",
       "      <td>NaN</td>\n",
       "      <td>0</td>\n",
       "      <td>NaN</td>\n",
       "      <td>NaN</td>\n",
       "      <td>NaN</td>\n",
       "      <td>0</td>\n",
       "      <td>iOS</td>\n",
       "      <td>24.0</td>\n",
       "      <td>12500.0</td>\n",
       "    </tr>\n",
       "  </tbody>\n",
       "</table>\n",
       "<p>21990 rows × 60 columns</p>\n",
       "</div>"
      ],
      "text/plain": [
       "        UserId  EventType EventType.1             EventDateTime  \\\n",
       "21072  1133271  SOFT_LEAD   SOFT_LEAD  2023-06-03T12:28:19+0000   \n",
       "21073  1133272  SOFT_LEAD   SOFT_LEAD  2023-06-03T12:36:37+0000   \n",
       "21074  1133273  SOFT_LEAD   SOFT_LEAD  2023-06-03T12:50:17+0000   \n",
       "21075  1133274  SOFT_LEAD   SOFT_LEAD  2023-06-03T13:03:05+0000   \n",
       "21077  1133276  SOFT_LEAD   SOFT_LEAD  2023-06-03T15:28:00+0000   \n",
       "...        ...        ...         ...                       ...   \n",
       "51541  1163796  SOFT_LEAD   SOFT_LEAD  2023-12-14T07:29:47+0000   \n",
       "51542  1163797  SOFT_LEAD   SOFT_LEAD  2023-12-14T07:36:09+0000   \n",
       "51544  1163799  SOFT_LEAD   SOFT_LEAD  2023-12-14T07:43:23+0000   \n",
       "51545  1163800  SOFT_LEAD   SOFT_LEAD  2023-12-14T07:54:46+0000   \n",
       "51546  1163801  SOFT_LEAD   SOFT_LEAD  2023-12-14T08:47:02+0000   \n",
       "\n",
       "      EventType_soft EventType_soft.1 EventDateTime_soft  DateDifference_soft  \\\n",
       "21072      SOFT_LEAD        SOFT_LEAD         2023-06-03                    0   \n",
       "21073      SOFT_LEAD        SOFT_LEAD         2023-06-03                    0   \n",
       "21074      SOFT_LEAD        SOFT_LEAD         2023-06-03                    0   \n",
       "21075      SOFT_LEAD        SOFT_LEAD         2023-06-03                    0   \n",
       "21077      SOFT_LEAD        SOFT_LEAD         2023-06-03                    0   \n",
       "...              ...              ...                ...                  ...   \n",
       "51541      SOFT_LEAD        SOFT_LEAD         2023-12-14                    0   \n",
       "51542      SOFT_LEAD        SOFT_LEAD         2023-12-14                    0   \n",
       "51544      SOFT_LEAD        SOFT_LEAD         2023-12-14                    0   \n",
       "51545      SOFT_LEAD        SOFT_LEAD         2023-12-14                    0   \n",
       "51546      SOFT_LEAD        SOFT_LEAD         2023-12-14                    0   \n",
       "\n",
       "       FundingIn2weeks_soft EventType_hot  ... EventDateTime_identityV  \\\n",
       "21072                     1           NaN  ...                     NaN   \n",
       "21073                     1      HOT_LEAD  ...                     NaN   \n",
       "21074                     1      HOT_LEAD  ...                     NaN   \n",
       "21075                     1           NaN  ...                     NaN   \n",
       "21077                     1      HOT_LEAD  ...                     NaN   \n",
       "...                     ...           ...  ...                     ...   \n",
       "51541                     1      HOT_LEAD  ...                     NaN   \n",
       "51542                     1      HOT_LEAD  ...                     NaN   \n",
       "51544                     1      HOT_LEAD  ...                     NaN   \n",
       "51545                     1      HOT_LEAD  ...                     NaN   \n",
       "51546                     1      HOT_LEAD  ...                     NaN   \n",
       "\n",
       "       DateDifference_identityV  FundingIn2weeks_identityV  \\\n",
       "21072                       NaN                          0   \n",
       "21073                       NaN                          0   \n",
       "21074                       NaN                          0   \n",
       "21075                       NaN                          0   \n",
       "21077                       NaN                          0   \n",
       "...                         ...                        ...   \n",
       "51541                       NaN                          0   \n",
       "51542                       NaN                          0   \n",
       "51544                       NaN                          0   \n",
       "51545                       NaN                          0   \n",
       "51546                       NaN                          0   \n",
       "\n",
       "      EventType_accountIF EventDateTime_accountIF  DateDifference_accountIF  \\\n",
       "21072                 NaN                     NaN                       NaN   \n",
       "21073                 NaN                     NaN                       NaN   \n",
       "21074                 NaN                     NaN                       NaN   \n",
       "21075                 NaN                     NaN                       NaN   \n",
       "21077                 NaN                     NaN                       NaN   \n",
       "...                   ...                     ...                       ...   \n",
       "51541                 NaN                     NaN                       NaN   \n",
       "51542                 NaN                     NaN                       NaN   \n",
       "51544                 NaN                     NaN                       NaN   \n",
       "51545                 NaN                     NaN                       NaN   \n",
       "51546                 NaN                     NaN                       NaN   \n",
       "\n",
       "       FundingIn2weeks_accountIF Platform User.M.Age.N  User.M.Income.N  \n",
       "21072                          0      iOS          NaN              NaN  \n",
       "21073                          0      iOS          NaN              NaN  \n",
       "21074                          0      iOS         22.0              NaN  \n",
       "21075                          0      iOS          NaN              NaN  \n",
       "21077                          0      iOS          NaN              NaN  \n",
       "...                          ...      ...          ...              ...  \n",
       "51541                          0      iOS          NaN              NaN  \n",
       "51542                          0      iOS          NaN              NaN  \n",
       "51544                          0      iOS         19.0              NaN  \n",
       "51545                          0      iOS          NaN              NaN  \n",
       "51546                          0      iOS         24.0          12500.0  \n",
       "\n",
       "[21990 rows x 60 columns]"
      ]
     },
     "execution_count": 99,
     "metadata": {},
     "output_type": "execute_result"
    }
   ],
   "source": [
    "pan"
   ]
  },
  {
   "cell_type": "code",
   "execution_count": 98,
   "metadata": {},
   "outputs": [
    {
     "data": {
      "text/plain": [
       "'SOFT_LEAD'"
      ]
     },
     "execution_count": 98,
     "metadata": {},
     "output_type": "execute_result"
    }
   ],
   "source": [
    "pan[\"EventType_\"  + \"soft\"].dropna().unique()[0]"
   ]
  }
 ],
 "metadata": {
  "kernelspec": {
   "display_name": "Python 3",
   "language": "python",
   "name": "python3"
  },
  "language_info": {
   "codemirror_mode": {
    "name": "ipython",
    "version": 3
   },
   "file_extension": ".py",
   "mimetype": "text/x-python",
   "name": "python",
   "nbconvert_exporter": "python",
   "pygments_lexer": "ipython3",
   "version": "3.11.6"
  }
 },
 "nbformat": 4,
 "nbformat_minor": 2
}
